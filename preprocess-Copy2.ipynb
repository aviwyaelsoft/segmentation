{
 "cells": [
  {
   "cell_type": "code",
   "execution_count": 1,
   "metadata": {},
   "outputs": [
    {
     "name": "stderr",
     "output_type": "stream",
     "text": [
      "Using TensorFlow backend.\n"
     ]
    }
   ],
   "source": [
    "from keras import backend as K\n",
    "\n",
    "cfg = K.tf.ConfigProto()\n",
    "cfg.gpu_options.allow_growth = True\n",
    "K.set_session(K.tf.Session(config=cfg))"
   ]
  },
  {
   "cell_type": "code",
   "execution_count": 2,
   "metadata": {
    "collapsed": true
   },
   "outputs": [],
   "source": [
    "from keras.preprocessing.image import ImageDataGenerator\n",
    "from keras.preprocessing import image\n",
    "traingen=image.ImageDataGenerator(  rotation_range=15,shear_range=0.1  ,width_shift_range=0.4 , height_shift_range=0.25)\n",
    "vallabelgen=image.ImageDataGenerator(rescale=1./255)\n",
    "valgen=image.ImageDataGenerator()\n",
    "trainlabelgen=image.ImageDataGenerator(rescale=1./255, rotation_range=15,shear_range=0.1  ,width_shift_range=0.4 , height_shift_range=0.25)"
   ]
  },
  {
   "cell_type": "code",
   "execution_count": 3,
   "metadata": {},
   "outputs": [
    {
     "name": "stdout",
     "output_type": "stream",
     "text": [
      "Found 2 images belonging to 2 classes.\n"
     ]
    }
   ],
   "source": [
    "dark= vallabelgen.flow_from_directory('dark', target_size=(160,320),\n",
    "                class_mode=None, batch_size=1, seed=1,color_mode='grayscale')"
   ]
  },
  {
   "cell_type": "code",
   "execution_count": 4,
   "metadata": {
    "collapsed": true
   },
   "outputs": [],
   "source": [
    "import numpy as np\n",
    "dark=np.concatenate([dark.next() for i in range(dark.samples)])"
   ]
  },
  {
   "cell_type": "code",
   "execution_count": 5,
   "metadata": {},
   "outputs": [
    {
     "name": "stdout",
     "output_type": "stream",
     "text": [
      "Found 49 images belonging to 3 classes.\n",
      "Found 49 images belonging to 3 classes.\n",
      "Found 49 images belonging to 3 classes.\n",
      "Found 49 images belonging to 3 classes.\n",
      "Found 49 images belonging to 3 classes.\n"
     ]
    }
   ],
   "source": [
    "train= traingen.flow_from_directory('train/images', target_size=(160,320),\n",
    "                class_mode=None, batch_size=1, seed=1)\n",
    "\n",
    "train1=np.concatenate([train.next() for i in range(train.samples)])\n",
    "\n",
    "train= traingen.flow_from_directory('train/images', target_size=(160,320),\n",
    "                class_mode=None, batch_size=1, seed=2)\n",
    "\n",
    "train2=np.concatenate([train.next() for i in range(train.samples)])\n",
    "\n",
    "train= traingen.flow_from_directory('train/images', target_size=(160,320),\n",
    "                class_mode=None, batch_size=1, seed=3)\n",
    "\n",
    "train3=np.concatenate([train.next() for i in range(train.samples)])\n",
    "\n",
    "train= traingen.flow_from_directory('train/images', target_size=(160,320),\n",
    "                class_mode=None, batch_size=1, seed=4)\n",
    "\n",
    "train4=np.concatenate([train.next() for i in range(train.samples)])\n",
    "\n",
    "train= traingen.flow_from_directory('train/images', target_size=(160,320),\n",
    "                class_mode=None, batch_size=1, seed=5)\n",
    "\n",
    "train5=np.concatenate([train.next() for i in range(train.samples)])\n",
    "\n",
    "\n"
   ]
  },
  {
   "cell_type": "code",
   "execution_count": 6,
   "metadata": {},
   "outputs": [
    {
     "name": "stdout",
     "output_type": "stream",
     "text": [
      "Found 49 images belonging to 3 classes.\n",
      "Found 49 images belonging to 3 classes.\n",
      "Found 49 images belonging to 3 classes.\n",
      "Found 49 images belonging to 3 classes.\n",
      "Found 49 images belonging to 3 classes.\n"
     ]
    }
   ],
   "source": [
    "labels= trainlabelgen.flow_from_directory('train/labels', target_size=(160,320),\n",
    "                class_mode=None,  batch_size=1, seed=1,color_mode='grayscale')\n",
    "labels1=np.concatenate([labels.next() for i in range(labels.samples)])\n",
    "\n",
    "labels= trainlabelgen.flow_from_directory('train/labels', target_size=(160,320),\n",
    "                class_mode=None,  batch_size=1, seed=2,color_mode='grayscale')\n",
    "labels2=np.concatenate([labels.next() for i in range(labels.samples)])\n",
    "\n",
    "labels= trainlabelgen.flow_from_directory('train/labels', target_size=(160,320),\n",
    "                class_mode=None,  batch_size=1, seed=3,color_mode='grayscale')\n",
    "labels3=np.concatenate([labels.next() for i in range(labels.samples)])\n",
    "\n",
    "labels= trainlabelgen.flow_from_directory('train/labels', target_size=(160,320),\n",
    "                class_mode=None,  batch_size=1, seed=4,color_mode='grayscale')\n",
    "labels4=np.concatenate([labels.next() for i in range(labels.samples)])\n",
    "\n",
    "labels= trainlabelgen.flow_from_directory('train/labels', target_size=(160,320),\n",
    "                class_mode=None,  batch_size=1, seed=5,color_mode='grayscale')\n",
    "labels5=np.concatenate([labels.next() for i in range(labels.samples)])\n",
    "\n"
   ]
  },
  {
   "cell_type": "code",
   "execution_count": 7,
   "metadata": {},
   "outputs": [
    {
     "name": "stdout",
     "output_type": "stream",
     "text": [
      "al/cam1-085004.896.jpg al/cam1-085004.896.jpg\n",
      "al/cam1-082255.772.jpg al/cam1-082255.772.jpg\n",
      "al/cam1-091514.872.jpg al/cam1-091514.872.jpg\n",
      "al/cam1-084718.060.jpg al/cam1-084718.060.jpg\n",
      "al/cam1-081747.912.jpg al/cam1-081747.912.jpg\n",
      "al/cam1-082328.646.jpg al/cam1-082328.646.jpg\n",
      "al/cam1-081747.707.jpg al/cam1-081747.707.jpg\n",
      "al/cam1-093113.413.jpg al/cam1-093113.413.jpg\n",
      "al/cam1-091530.465.jpg al/cam1-091530.465.jpg\n",
      "al/cam1-091507.428.jpg al/cam1-091507.428.jpg\n",
      "al/cam1-091254.955.jpg al/cam1-091254.955.jpg\n",
      "al/cam1-082254.019.jpg al/cam1-082254.019.jpg\n",
      "al/cam1-084955.021.jpg al/cam1-084955.021.jpg\n",
      "al/cam1-091425.366.jpg al/cam1-091425.366.jpg\n",
      "al/cam1-085352.812.jpg al/cam1-085352.812.jpg\n",
      "al/cam1-082313.378.jpg al/cam1-082313.378.jpg\n",
      "al/cam1-082035.157.jpg al/cam1-082035.157.jpg\n",
      "bl/cam1-104501.783.jpg bl/cam1-104501.783.jpg\n",
      "bl/cam1-104156.244.jpg bl/cam1-104156.244.jpg\n",
      "bl/cam1-062148.829.jpg bl/cam1-062148.829.jpg\n",
      "bl/cam1-062529.931.jpg bl/cam1-062529.931.jpg\n",
      "bl/cam1-062100.495.jpg bl/cam1-062100.495.jpg\n",
      "bl/cam1-062617.962.jpg bl/cam1-062617.962.jpg\n",
      "bl/cam1-062346.059.jpg bl/cam1-062346.059.jpg\n",
      "bl/cam1-062254.864.jpg bl/cam1-062254.864.jpg\n",
      "bl/cam1-062616.114.jpg bl/cam1-062616.114.jpg\n",
      "bl/cam1-104444.539.jpg bl/cam1-104444.539.jpg\n",
      "bl/cam1-062502.487.jpg bl/cam1-062502.487.jpg\n",
      "bl/cam1-074252.603.jpg bl/cam1-074252.603.jpg\n",
      "bl/cam1-062138.001.jpg bl/cam1-062138.001.jpg\n",
      "bl/cam1-073533.647.jpg bl/cam1-073533.647.jpg\n",
      "bl/cam1-074248.891.jpg bl/cam1-074248.891.jpg\n",
      "bl/cam1-062131.501.jpg bl/cam1-062131.501.jpg\n",
      "ra/cam1-081634.912.jpg ra/cam1-081634.912.jpg\n",
      "ra/cam1-110547.917.jpg ra/cam1-110547.917.jpg\n",
      "ra/cam1-081612.084.jpg ra/cam1-081612.084.jpg\n",
      "ra/cam1-111106.509.jpg ra/cam1-111106.509.jpg\n",
      "ra/cam1-081647.650.jpg ra/cam1-081647.650.jpg\n",
      "ra/cam1-082104.727.jpg ra/cam1-082104.727.jpg\n",
      "ra/cam1-110544.388.jpg ra/cam1-110544.388.jpg\n",
      "ra/cam1-061027.664.jpg ra/cam1-061027.664.jpg\n",
      "ra/cam1-084734.617.jpg ra/cam1-084734.617.jpg\n",
      "ra/cam1-081534.908.jpg ra/cam1-081534.908.jpg\n",
      "ra/cam1-081726.457.jpg ra/cam1-081726.457.jpg\n",
      "ra/cam1-081459.523.jpg ra/cam1-081459.523.jpg\n",
      "ra/cam1-081641.190.jpg ra/cam1-081641.190.jpg\n",
      "ra/cam1-110849.415.jpg ra/cam1-110849.415.jpg\n",
      "ra/cam1-111051.378.jpg ra/cam1-111051.378.jpg\n",
      "ra/cam1-081505.824.jpg ra/cam1-081505.824.jpg\n"
     ]
    }
   ],
   "source": [
    "for i in range (49):\n",
    "    print (train.filenames[i] , labels.filenames[i])"
   ]
  },
  {
   "cell_type": "code",
   "execution_count": 8,
   "metadata": {},
   "outputs": [
    {
     "data": {
      "image/png": "[encoded data removed]",
      "text/plain": [
       "<PIL.Image.Image image mode=RGB size=320x160 at 0x7FFB4C750E48>"
      ]
     },
     "execution_count": 8,
     "metadata": {},
     "output_type": "execute_result"
    }
   ],
   "source": [
    "image.array_to_img (train1[20])"
   ]
  },
  {
   "cell_type": "code",
   "execution_count": 9,
   "metadata": {},
   "outputs": [
    {
     "data": {
      "image/png": "[encoded data removed]",
      "text/plain": [
       "<PIL.Image.Image image mode=L size=320x160 at 0x7FFB4C751668>"
      ]
     },
     "execution_count": 9,
     "metadata": {},
     "output_type": "execute_result"
    }
   ],
   "source": [
    "image.array_to_img (labels1[20])"
   ]
  },
  {
   "cell_type": "code",
   "execution_count": null,
   "metadata": {
    "collapsed": true
   },
   "outputs": [],
   "source": []
  },
  {
   "cell_type": "code",
   "execution_count": null,
   "metadata": {
    "collapsed": true
   },
   "outputs": [],
   "source": []
  },
  {
   "cell_type": "code",
   "execution_count": null,
   "metadata": {
    "collapsed": true
   },
   "outputs": [],
   "source": [
    "trn_f=train.filenames"
   ]
  },
  {
   "cell_type": "code",
   "execution_count": null,
   "metadata": {
    "collapsed": true
   },
   "outputs": [],
   "source": [
    "lab_f=labels.filenames"
   ]
  },
  {
   "cell_type": "code",
   "execution_count": null,
   "metadata": {
    "collapsed": true
   },
   "outputs": [],
   "source": [
    "for i in range (25):\n",
    "    print (lab_f[i], \"   \",trn_f[i])"
   ]
  },
  {
   "cell_type": "code",
   "execution_count": null,
   "metadata": {
    "collapsed": true
   },
   "outputs": [],
   "source": [
    "import os.path\n",
    "os.path.isfile(fname)"
   ]
  },
  {
   "cell_type": "code",
   "execution_count": 18,
   "metadata": {},
   "outputs": [
    {
     "name": "stdout",
     "output_type": "stream",
     "text": [
      "cam1-062134.531_label.jpg\n"
     ]
    }
   ],
   "source": [
    "import os\n",
    "path=\"test/labels/bl/\"\n",
    "for filename in os.listdir(path):\n",
    "    print (filename)\n",
    "    if filename.endswith(\"_label.jpg\"):\n",
    "        os.rename(path+filename, path+filename[:-10]+\".jpg\")"
   ]
  },
  {
   "cell_type": "code",
   "execution_count": 10,
   "metadata": {},
   "outputs": [
    {
     "name": "stdout",
     "output_type": "stream",
     "text": [
      "Found 6 images belonging to 3 classes.\n",
      "Found 6 images belonging to 3 classes.\n"
     ]
    }
   ],
   "source": [
    "val= valgen.flow_from_directory('val/images', target_size=(160,320),\n",
    "                class_mode=None, batch_size=1, seed=1)\n",
    "val_labels= vallabelgen.flow_from_directory('val/labels', target_size=(160,320),\n",
    "                class_mode=None,  batch_size=1, seed=1,color_mode='grayscale')\n",
    "val1=np.concatenate([val.next() for i in range(val.samples)])\n",
    "val_labels1=np.concatenate([val_labels.next() for i in range(val_labels.samples)])"
   ]
  },
  {
   "cell_type": "code",
   "execution_count": 11,
   "metadata": {},
   "outputs": [
    {
     "name": "stdout",
     "output_type": "stream",
     "text": [
      "al/cam1-082017.620.jpg     al/cam1-082017.620.jpg\n",
      "al/cam1-112604.325.jpg     al/cam1-112604.325.jpg\n",
      "bl/cam1-062214.068.jpg     bl/cam1-062214.068.jpg\n",
      "bl/cam1-110156.579.jpg     bl/cam1-110156.579.jpg\n",
      "ra/cam1-081536.386.jpg     ra/cam1-081536.386.jpg\n",
      "ra/cam1-082230.174.jpg     ra/cam1-082230.174.jpg\n"
     ]
    }
   ],
   "source": [
    "for i in range (6):\n",
    "    print (val.filenames[i], \"   \",val_labels.filenames[i])"
   ]
  },
  {
   "cell_type": "code",
   "execution_count": 12,
   "metadata": {
    "collapsed": true
   },
   "outputs": [],
   "source": [
    "from matplotlib import pyplot as plt\n",
    "from PIL import Image\n",
    "import matplotlib.image as mpimg"
   ]
  },
  {
   "cell_type": "code",
   "execution_count": 13,
   "metadata": {
    "collapsed": true
   },
   "outputs": [],
   "source": [
    "%matplotlib inline"
   ]
  },
  {
   "cell_type": "code",
   "execution_count": 14,
   "metadata": {
    "collapsed": true
   },
   "outputs": [],
   "source": [
    "dark=dark[0]"
   ]
  },
  {
   "cell_type": "code",
   "execution_count": 15,
   "metadata": {},
   "outputs": [
    {
     "name": "stdout",
     "output_type": "stream",
     "text": [
      "Found 49 images belonging to 3 classes.\n"
     ]
    }
   ],
   "source": [
    "classes= traingen.flow_from_directory('train/images', target_size=(160,320),\n",
    "                class_mode=\"categorical\", batch_size=1, seed=1)"
   ]
  },
  {
   "cell_type": "code",
   "execution_count": 16,
   "metadata": {},
   "outputs": [
    {
     "name": "stdout",
     "output_type": "stream",
     "text": [
      "Found 6 images belonging to 3 classes.\n"
     ]
    }
   ],
   "source": [
    "classesval= traingen.flow_from_directory('val/images', target_size=(160,320),\n",
    "                class_mode=\"categorical\", batch_size=1, seed=1)"
   ]
  },
  {
   "cell_type": "code",
   "execution_count": 17,
   "metadata": {
    "collapsed": true
   },
   "outputs": [],
   "source": [
    "from sklearn.preprocessing import OneHotEncoder\n",
    "def onehot(x): return np.array(OneHotEncoder().fit_transform(x.reshape(-1,1)).todense())\n",
    "\n",
    "val_classes = classesval.classes\n",
    "trn_classes = classes.classes\n",
    "val_labels = onehot(val_classes)\n",
    "trn_labels = onehot(trn_classes)"
   ]
  },
  {
   "cell_type": "code",
   "execution_count": 18,
   "metadata": {},
   "outputs": [
    {
     "data": {
      "text/plain": [
       "(160, 320, 1)"
      ]
     },
     "execution_count": 18,
     "metadata": {},
     "output_type": "execute_result"
    }
   ],
   "source": [
    "dark.shape"
   ]
  },
  {
   "cell_type": "code",
   "execution_count": 19,
   "metadata": {},
   "outputs": [
    {
     "data": {
      "text/plain": [
       "(160, 320, 1)"
      ]
     },
     "execution_count": 19,
     "metadata": {},
     "output_type": "execute_result"
    }
   ],
   "source": [
    "dark.shape"
   ]
  },
  {
   "cell_type": "code",
   "execution_count": 20,
   "metadata": {
    "collapsed": true
   },
   "outputs": [],
   "source": [
    "lb=classes.classes"
   ]
  },
  {
   "cell_type": "code",
   "execution_count": 21,
   "metadata": {},
   "outputs": [
    {
     "data": {
      "text/plain": [
       "array([0, 0, 0, 0, 0, 0, 0, 0, 0, 0, 0, 0, 0, 0, 0, 0, 0, 1, 1, 1, 1, 1, 1,\n",
       "       1, 1, 1, 1, 1, 1, 1, 1, 1, 1, 2, 2, 2, 2, 2, 2, 2, 2, 2, 2, 2, 2, 2,\n",
       "       2, 2, 2], dtype=int32)"
      ]
     },
     "execution_count": 21,
     "metadata": {},
     "output_type": "execute_result"
    }
   ],
   "source": [
    "lb"
   ]
  },
  {
   "cell_type": "code",
   "execution_count": 22,
   "metadata": {},
   "outputs": [
    {
     "data": {
      "text/plain": [
       "(49, 160, 320, 1)"
      ]
     },
     "execution_count": 22,
     "metadata": {},
     "output_type": "execute_result"
    }
   ],
   "source": [
    "labels1.shape"
   ]
  },
  {
   "cell_type": "code",
   "execution_count": 23,
   "metadata": {
    "collapsed": true
   },
   "outputs": [],
   "source": [
    "dark=dark*0"
   ]
  },
  {
   "cell_type": "code",
   "execution_count": 24,
   "metadata": {
    "collapsed": true
   },
   "outputs": [],
   "source": [
    "mask1=[]\n",
    "for i in range (49):\n",
    "    x=[]\n",
    "    for j in range (3):\n",
    "        if lb[i]==j:x.append(labels1[i])\n",
    "        else:x.append(dark)\n",
    "    mask1.append(x)\n",
    "    \n",
    "mask2=[]\n",
    "for i in range (49):\n",
    "    x=[]\n",
    "    for j in range (3):\n",
    "        if lb[i]==j:x.append(labels2[i])\n",
    "        else:x.append(dark)\n",
    "    mask2.append(x)\n",
    "\n",
    "mask3=[]\n",
    "for i in range (49):\n",
    "    x=[]\n",
    "    for j in range (3):\n",
    "        if lb[i]==j:x.append(labels3[i])\n",
    "        else:x.append(dark)\n",
    "    mask3.append(x)\n",
    "    \n",
    "mask4=[]\n",
    "for i in range (49):\n",
    "    x=[]\n",
    "    for j in range (3):\n",
    "        if lb[i]==j:x.append(labels4[i])\n",
    "        else:x.append(dark)\n",
    "    mask4.append(x)\n",
    "    \n",
    "mask5=[]\n",
    "for i in range (49):\n",
    "    x=[]\n",
    "    for j in range (3):\n",
    "        if lb[i]==j:x.append(labels5[i])\n",
    "        else:x.append(dark)\n",
    "    mask5.append(x)\n",
    "    \n",
    "    "
   ]
  },
  {
   "cell_type": "code",
   "execution_count": 25,
   "metadata": {
    "collapsed": true
   },
   "outputs": [],
   "source": [
    "mask1=np.array (mask1)\n",
    "mask2=np.array (mask2)\n",
    "mask3=np.array (mask3)\n",
    "mask4=np.array (mask4)\n",
    "mask5=np.array (mask5)"
   ]
  },
  {
   "cell_type": "code",
   "execution_count": 26,
   "metadata": {},
   "outputs": [
    {
     "data": {
      "text/plain": [
       "(49, 3, 160, 320, 1)"
      ]
     },
     "execution_count": 26,
     "metadata": {},
     "output_type": "execute_result"
    }
   ],
   "source": [
    "mask3.shape"
   ]
  },
  {
   "cell_type": "code",
   "execution_count": 27,
   "metadata": {
    "collapsed": true
   },
   "outputs": [],
   "source": [
    "mask1=np.reshape (mask1 , (49,3,160,320))\n",
    "mask2=np.reshape (mask2 , (49,3,160,320))\n",
    "mask3=np.reshape (mask3 , (49,3,160,320))\n",
    "mask4=np.reshape (mask4 , (49,3,160,320))\n",
    "mask5=np.reshape (mask5 , (49,3,160,320))"
   ]
  },
  {
   "cell_type": "code",
   "execution_count": 28,
   "metadata": {
    "collapsed": true
   },
   "outputs": [],
   "source": [
    "mask1=np.swapaxes(mask1,1,2)\n",
    "mask1=np.swapaxes(mask1,2,3)\n",
    "\n",
    "mask2=np.swapaxes(mask2,1,2)\n",
    "mask2=np.swapaxes(mask2,2,3)\n",
    "\n",
    "mask3=np.swapaxes(mask3,1,2)\n",
    "mask3=np.swapaxes(mask3,2,3)\n",
    "\n",
    "mask4=np.swapaxes(mask4,1,2)\n",
    "mask4=np.swapaxes(mask4,2,3)\n",
    "\n",
    "mask5=np.swapaxes(mask5,1,2)\n",
    "mask5=np.swapaxes(mask5,2,3)\n"
   ]
  },
  {
   "cell_type": "code",
   "execution_count": 29,
   "metadata": {},
   "outputs": [
    {
     "data": {
      "text/plain": [
       "(49, 160, 320, 3)"
      ]
     },
     "execution_count": 29,
     "metadata": {},
     "output_type": "execute_result"
    }
   ],
   "source": [
    "mask3.shape"
   ]
  },
  {
   "cell_type": "code",
   "execution_count": 30,
   "metadata": {},
   "outputs": [
    {
     "data": {
      "text/plain": [
       "array([[ 0.        ,  0.        ,  0.        ],\n",
       "       [ 0.        ,  0.        ,  0.        ],\n",
       "       [ 0.        ,  0.        ,  0.        ],\n",
       "       [ 0.        ,  0.        ,  0.        ],\n",
       "       [ 0.        ,  0.        ,  0.        ],\n",
       "       [ 0.        ,  0.        ,  0.        ],\n",
       "       [ 0.        ,  0.        ,  0.        ],\n",
       "       [ 0.        ,  0.        ,  0.        ],\n",
       "       [ 0.        ,  0.        ,  0.        ],\n",
       "       [ 0.        ,  0.        ,  0.        ],\n",
       "       [ 0.        ,  0.        ,  0.        ],\n",
       "       [ 0.        ,  0.        ,  0.        ],\n",
       "       [ 0.        ,  0.        ,  0.        ],\n",
       "       [ 0.        ,  0.        ,  0.        ],\n",
       "       [ 0.        ,  0.        ,  0.        ],\n",
       "       [ 0.        ,  0.        ,  0.        ],\n",
       "       [ 0.        ,  0.        ,  0.        ],\n",
       "       [ 0.        ,  0.        ,  0.        ],\n",
       "       [ 0.        ,  0.        ,  0.        ],\n",
       "       [ 0.        ,  0.        ,  0.        ],\n",
       "       [ 0.        ,  0.        ,  0.        ],\n",
       "       [ 0.        ,  0.        ,  0.        ],\n",
       "       [ 0.        ,  0.        ,  0.        ],\n",
       "       [ 0.        ,  0.        ,  0.        ],\n",
       "       [ 0.        ,  0.        ,  0.        ],\n",
       "       [ 0.        ,  0.        ,  0.        ],\n",
       "       [ 0.        ,  0.        ,  0.        ],\n",
       "       [ 0.        ,  0.        ,  0.        ],\n",
       "       [ 0.        ,  0.        ,  0.        ],\n",
       "       [ 0.        ,  0.        ,  0.        ],\n",
       "       [ 0.        ,  0.        ,  0.        ],\n",
       "       [ 0.        ,  0.        ,  0.        ],\n",
       "       [ 0.        ,  0.        ,  0.        ],\n",
       "       [ 0.        ,  0.        ,  0.        ],\n",
       "       [ 0.        ,  0.        ,  0.        ],\n",
       "       [ 0.        ,  0.        ,  0.        ],\n",
       "       [ 0.        ,  0.        ,  0.        ],\n",
       "       [ 0.        ,  0.        ,  0.        ],\n",
       "       [ 0.        ,  0.        ,  0.        ],\n",
       "       [ 0.        ,  0.        ,  0.        ],\n",
       "       [ 0.        ,  0.        ,  0.        ],\n",
       "       [ 0.        ,  0.        ,  0.        ],\n",
       "       [ 0.        ,  0.        ,  0.        ],\n",
       "       [ 0.        ,  0.        ,  0.        ],\n",
       "       [ 0.        ,  0.        ,  0.        ],\n",
       "       [ 0.        ,  0.        ,  0.        ],\n",
       "       [ 0.        ,  0.        ,  0.        ],\n",
       "       [ 0.        ,  0.        ,  0.        ],\n",
       "       [ 0.        ,  0.        ,  0.        ],\n",
       "       [ 0.        ,  0.        ,  0.        ],\n",
       "       [ 0.        ,  0.        ,  0.        ],\n",
       "       [ 0.        ,  0.        ,  0.        ],\n",
       "       [ 0.        ,  0.        ,  0.        ],\n",
       "       [ 0.        ,  0.        ,  0.        ],\n",
       "       [ 0.        ,  0.        ,  0.        ],\n",
       "       [ 0.        ,  0.        ,  0.        ],\n",
       "       [ 0.        ,  0.        ,  0.        ],\n",
       "       [ 0.        ,  0.        ,  0.        ],\n",
       "       [ 0.        ,  0.        ,  0.        ],\n",
       "       [ 0.        ,  0.        ,  0.        ],\n",
       "       [ 0.        ,  0.        ,  0.        ],\n",
       "       [ 0.        ,  0.        ,  0.        ],\n",
       "       [ 0.        ,  0.        ,  0.        ],\n",
       "       [ 0.        ,  0.        ,  0.        ],\n",
       "       [ 0.        ,  0.        ,  0.        ],\n",
       "       [ 0.        ,  0.        ,  0.        ],\n",
       "       [ 0.        ,  0.        ,  0.        ],\n",
       "       [ 0.        ,  0.        ,  0.        ],\n",
       "       [ 0.        ,  0.        ,  0.        ],\n",
       "       [ 0.        ,  0.        ,  0.        ],\n",
       "       [ 0.        ,  0.        ,  0.        ],\n",
       "       [ 0.        ,  0.        ,  0.        ],\n",
       "       [ 0.        ,  0.        ,  0.        ],\n",
       "       [ 0.        ,  0.        ,  0.        ],\n",
       "       [ 0.        ,  0.        ,  0.        ],\n",
       "       [ 0.        ,  0.        ,  0.        ],\n",
       "       [ 0.        ,  0.        ,  0.        ],\n",
       "       [ 0.        ,  0.        ,  0.        ],\n",
       "       [ 0.        ,  0.        ,  0.        ],\n",
       "       [ 0.        ,  0.        ,  0.        ],\n",
       "       [ 0.        ,  0.        ,  0.        ],\n",
       "       [ 0.        ,  0.        ,  0.        ],\n",
       "       [ 0.        ,  0.        ,  0.        ],\n",
       "       [ 0.        ,  0.        ,  0.        ],\n",
       "       [ 0.        ,  0.        ,  0.        ],\n",
       "       [ 0.        ,  0.        ,  0.        ],\n",
       "       [ 0.        ,  0.        ,  0.        ],\n",
       "       [ 0.        ,  0.        ,  0.        ],\n",
       "       [ 0.        ,  0.        ,  0.        ],\n",
       "       [ 0.        ,  0.        ,  0.        ],\n",
       "       [ 0.        ,  0.        ,  0.        ],\n",
       "       [ 0.        ,  0.        ,  0.        ],\n",
       "       [ 0.        ,  0.        ,  0.        ],\n",
       "       [ 0.        ,  0.        ,  0.        ],\n",
       "       [ 0.        ,  0.        ,  0.        ],\n",
       "       [ 0.        ,  0.        ,  0.        ],\n",
       "       [ 0.        ,  0.        ,  0.        ],\n",
       "       [ 0.        ,  0.        ,  0.        ],\n",
       "       [ 0.        ,  0.        ,  0.        ],\n",
       "       [ 0.        ,  0.        ,  0.        ],\n",
       "       [ 0.        ,  0.        ,  0.        ],\n",
       "       [ 0.        ,  0.        ,  0.        ],\n",
       "       [ 0.        ,  0.        ,  0.        ],\n",
       "       [ 0.        ,  0.        ,  0.        ],\n",
       "       [ 0.        ,  0.        ,  0.        ],\n",
       "       [ 0.        ,  0.        ,  0.        ],\n",
       "       [ 0.        ,  0.        ,  0.        ],\n",
       "       [ 0.        ,  0.        ,  0.        ],\n",
       "       [ 0.        ,  0.        ,  0.        ],\n",
       "       [ 0.        ,  0.        ,  0.        ],\n",
       "       [ 0.        ,  0.        ,  0.        ],\n",
       "       [ 0.        ,  0.        ,  0.        ],\n",
       "       [ 0.        ,  0.        ,  0.        ],\n",
       "       [ 0.        ,  0.        ,  0.        ],\n",
       "       [ 0.        ,  0.        ,  0.        ],\n",
       "       [ 0.        ,  0.        ,  0.        ],\n",
       "       [ 0.        ,  0.        ,  0.        ],\n",
       "       [ 0.        ,  0.        ,  0.        ],\n",
       "       [ 0.        ,  0.        ,  0.        ],\n",
       "       [ 0.        ,  0.        ,  0.        ],\n",
       "       [ 0.        ,  0.        ,  0.        ],\n",
       "       [ 0.        ,  0.        ,  0.        ],\n",
       "       [ 0.        ,  0.        ,  0.        ],\n",
       "       [ 0.00392157,  0.        ,  0.        ],\n",
       "       [ 0.00392157,  0.        ,  0.        ],\n",
       "       [ 0.00392157,  0.        ,  0.        ],\n",
       "       [ 0.00392157,  0.        ,  0.        ],\n",
       "       [ 0.00392157,  0.        ,  0.        ],\n",
       "       [ 0.00392157,  0.        ,  0.        ],\n",
       "       [ 0.00392157,  0.        ,  0.        ],\n",
       "       [ 0.00392157,  0.        ,  0.        ],\n",
       "       [ 0.00392157,  0.        ,  0.        ],\n",
       "       [ 0.00392157,  0.        ,  0.        ],\n",
       "       [ 0.00392157,  0.        ,  0.        ],\n",
       "       [ 0.00392157,  0.        ,  0.        ],\n",
       "       [ 0.00392157,  0.        ,  0.        ],\n",
       "       [ 0.00392157,  0.        ,  0.        ],\n",
       "       [ 0.00392157,  0.        ,  0.        ],\n",
       "       [ 0.00392157,  0.        ,  0.        ],\n",
       "       [ 0.00392157,  0.        ,  0.        ],\n",
       "       [ 0.        ,  0.        ,  0.        ],\n",
       "       [ 0.        ,  0.        ,  0.        ],\n",
       "       [ 0.        ,  0.        ,  0.        ],\n",
       "       [ 1.        ,  0.        ,  0.        ],\n",
       "       [ 1.        ,  0.        ,  0.        ],\n",
       "       [ 1.        ,  0.        ,  0.        ],\n",
       "       [ 1.        ,  0.        ,  0.        ],\n",
       "       [ 1.        ,  0.        ,  0.        ],\n",
       "       [ 1.        ,  0.        ,  0.        ],\n",
       "       [ 1.        ,  0.        ,  0.        ],\n",
       "       [ 1.        ,  0.        ,  0.        ],\n",
       "       [ 1.        ,  0.        ,  0.        ],\n",
       "       [ 1.        ,  0.        ,  0.        ],\n",
       "       [ 1.        ,  0.        ,  0.        ],\n",
       "       [ 1.        ,  0.        ,  0.        ],\n",
       "       [ 1.        ,  0.        ,  0.        ],\n",
       "       [ 1.        ,  0.        ,  0.        ],\n",
       "       [ 1.        ,  0.        ,  0.        ],\n",
       "       [ 1.        ,  0.        ,  0.        ],\n",
       "       [ 1.        ,  0.        ,  0.        ],\n",
       "       [ 1.        ,  0.        ,  0.        ],\n",
       "       [ 0.        ,  0.        ,  0.        ],\n",
       "       [ 0.        ,  0.        ,  0.        ],\n",
       "       [ 0.        ,  0.        ,  0.        ],\n",
       "       [ 0.        ,  0.        ,  0.        ],\n",
       "       [ 0.        ,  0.        ,  0.        ],\n",
       "       [ 0.        ,  0.        ,  0.        ],\n",
       "       [ 0.        ,  0.        ,  0.        ],\n",
       "       [ 0.        ,  0.        ,  0.        ],\n",
       "       [ 0.        ,  0.        ,  0.        ],\n",
       "       [ 0.        ,  0.        ,  0.        ],\n",
       "       [ 0.        ,  0.        ,  0.        ],\n",
       "       [ 0.        ,  0.        ,  0.        ],\n",
       "       [ 0.        ,  0.        ,  0.        ],\n",
       "       [ 0.        ,  0.        ,  0.        ],\n",
       "       [ 0.        ,  0.        ,  0.        ],\n",
       "       [ 0.        ,  0.        ,  0.        ],\n",
       "       [ 0.        ,  0.        ,  0.        ],\n",
       "       [ 0.        ,  0.        ,  0.        ],\n",
       "       [ 0.        ,  0.        ,  0.        ],\n",
       "       [ 0.        ,  0.        ,  0.        ],\n",
       "       [ 0.        ,  0.        ,  0.        ],\n",
       "       [ 0.        ,  0.        ,  0.        ],\n",
       "       [ 0.        ,  0.        ,  0.        ],\n",
       "       [ 0.        ,  0.        ,  0.        ],\n",
       "       [ 0.        ,  0.        ,  0.        ],\n",
       "       [ 0.        ,  0.        ,  0.        ],\n",
       "       [ 0.        ,  0.        ,  0.        ],\n",
       "       [ 0.        ,  0.        ,  0.        ],\n",
       "       [ 0.        ,  0.        ,  0.        ],\n",
       "       [ 0.        ,  0.        ,  0.        ],\n",
       "       [ 0.        ,  0.        ,  0.        ],\n",
       "       [ 0.        ,  0.        ,  0.        ],\n",
       "       [ 0.        ,  0.        ,  0.        ],\n",
       "       [ 0.        ,  0.        ,  0.        ],\n",
       "       [ 0.        ,  0.        ,  0.        ],\n",
       "       [ 0.        ,  0.        ,  0.        ],\n",
       "       [ 0.        ,  0.        ,  0.        ],\n",
       "       [ 0.        ,  0.        ,  0.        ],\n",
       "       [ 0.        ,  0.        ,  0.        ],\n",
       "       [ 0.        ,  0.        ,  0.        ],\n",
       "       [ 0.        ,  0.        ,  0.        ],\n",
       "       [ 0.        ,  0.        ,  0.        ],\n",
       "       [ 0.        ,  0.        ,  0.        ],\n",
       "       [ 0.        ,  0.        ,  0.        ],\n",
       "       [ 0.        ,  0.        ,  0.        ],\n",
       "       [ 0.        ,  0.        ,  0.        ],\n",
       "       [ 0.        ,  0.        ,  0.        ],\n",
       "       [ 0.        ,  0.        ,  0.        ],\n",
       "       [ 0.        ,  0.        ,  0.        ],\n",
       "       [ 0.        ,  0.        ,  0.        ],\n",
       "       [ 0.        ,  0.        ,  0.        ],\n",
       "       [ 0.        ,  0.        ,  0.        ],\n",
       "       [ 0.        ,  0.        ,  0.        ],\n",
       "       [ 0.        ,  0.        ,  0.        ],\n",
       "       [ 0.        ,  0.        ,  0.        ],\n",
       "       [ 0.        ,  0.        ,  0.        ],\n",
       "       [ 0.        ,  0.        ,  0.        ],\n",
       "       [ 0.        ,  0.        ,  0.        ],\n",
       "       [ 0.        ,  0.        ,  0.        ],\n",
       "       [ 0.        ,  0.        ,  0.        ],\n",
       "       [ 0.        ,  0.        ,  0.        ],\n",
       "       [ 0.        ,  0.        ,  0.        ],\n",
       "       [ 0.        ,  0.        ,  0.        ],\n",
       "       [ 0.        ,  0.        ,  0.        ],\n",
       "       [ 0.        ,  0.        ,  0.        ],\n",
       "       [ 0.        ,  0.        ,  0.        ],\n",
       "       [ 0.        ,  0.        ,  0.        ],\n",
       "       [ 0.        ,  0.        ,  0.        ],\n",
       "       [ 0.        ,  0.        ,  0.        ],\n",
       "       [ 0.        ,  0.        ,  0.        ],\n",
       "       [ 0.        ,  0.        ,  0.        ],\n",
       "       [ 0.        ,  0.        ,  0.        ],\n",
       "       [ 0.        ,  0.        ,  0.        ],\n",
       "       [ 0.        ,  0.        ,  0.        ],\n",
       "       [ 0.        ,  0.        ,  0.        ],\n",
       "       [ 0.        ,  0.        ,  0.        ],\n",
       "       [ 0.        ,  0.        ,  0.        ],\n",
       "       [ 0.        ,  0.        ,  0.        ],\n",
       "       [ 0.        ,  0.        ,  0.        ],\n",
       "       [ 0.        ,  0.        ,  0.        ],\n",
       "       [ 0.        ,  0.        ,  0.        ],\n",
       "       [ 0.        ,  0.        ,  0.        ],\n",
       "       [ 0.        ,  0.        ,  0.        ],\n",
       "       [ 0.        ,  0.        ,  0.        ],\n",
       "       [ 0.        ,  0.        ,  0.        ],\n",
       "       [ 0.        ,  0.        ,  0.        ],\n",
       "       [ 0.        ,  0.        ,  0.        ],\n",
       "       [ 0.        ,  0.        ,  0.        ],\n",
       "       [ 0.        ,  0.        ,  0.        ],\n",
       "       [ 0.        ,  0.        ,  0.        ],\n",
       "       [ 1.        ,  0.        ,  0.        ],\n",
       "       [ 1.        ,  0.        ,  0.        ],\n",
       "       [ 1.        ,  0.        ,  0.        ],\n",
       "       [ 1.        ,  0.        ,  0.        ],\n",
       "       [ 1.        ,  0.        ,  0.        ],\n",
       "       [ 1.        ,  0.        ,  0.        ],\n",
       "       [ 1.        ,  0.        ,  0.        ],\n",
       "       [ 1.        ,  0.        ,  0.        ],\n",
       "       [ 1.        ,  0.        ,  0.        ],\n",
       "       [ 1.        ,  0.        ,  0.        ],\n",
       "       [ 0.99607849,  0.        ,  0.        ],\n",
       "       [ 0.        ,  0.        ,  0.        ],\n",
       "       [ 0.        ,  0.        ,  0.        ],\n",
       "       [ 0.        ,  0.        ,  0.        ],\n",
       "       [ 0.        ,  0.        ,  0.        ],\n",
       "       [ 0.        ,  0.        ,  0.        ],\n",
       "       [ 0.        ,  0.        ,  0.        ],\n",
       "       [ 0.        ,  0.        ,  0.        ],\n",
       "       [ 0.        ,  0.        ,  0.        ],\n",
       "       [ 0.        ,  0.        ,  0.        ],\n",
       "       [ 0.        ,  0.        ,  0.        ],\n",
       "       [ 0.        ,  0.        ,  0.        ],\n",
       "       [ 0.        ,  0.        ,  0.        ],\n",
       "       [ 0.        ,  0.        ,  0.        ],\n",
       "       [ 0.        ,  0.        ,  0.        ],\n",
       "       [ 0.        ,  0.        ,  0.        ],\n",
       "       [ 0.        ,  0.        ,  0.        ],\n",
       "       [ 0.        ,  0.        ,  0.        ],\n",
       "       [ 0.        ,  0.        ,  0.        ],\n",
       "       [ 0.        ,  0.        ,  0.        ],\n",
       "       [ 0.        ,  0.        ,  0.        ],\n",
       "       [ 0.        ,  0.        ,  0.        ],\n",
       "       [ 0.        ,  0.        ,  0.        ],\n",
       "       [ 0.        ,  0.        ,  0.        ],\n",
       "       [ 0.        ,  0.        ,  0.        ],\n",
       "       [ 0.        ,  0.        ,  0.        ],\n",
       "       [ 0.        ,  0.        ,  0.        ],\n",
       "       [ 0.        ,  0.        ,  0.        ],\n",
       "       [ 0.        ,  0.        ,  0.        ],\n",
       "       [ 0.        ,  0.        ,  0.        ],\n",
       "       [ 0.        ,  0.        ,  0.        ],\n",
       "       [ 0.        ,  0.        ,  0.        ],\n",
       "       [ 0.        ,  0.        ,  0.        ],\n",
       "       [ 0.        ,  0.        ,  0.        ],\n",
       "       [ 0.        ,  0.        ,  0.        ],\n",
       "       [ 0.        ,  0.        ,  0.        ],\n",
       "       [ 0.        ,  0.        ,  0.        ],\n",
       "       [ 0.        ,  0.        ,  0.        ],\n",
       "       [ 0.        ,  0.        ,  0.        ],\n",
       "       [ 0.        ,  0.        ,  0.        ],\n",
       "       [ 0.        ,  0.        ,  0.        ],\n",
       "       [ 0.        ,  0.        ,  0.        ],\n",
       "       [ 0.        ,  0.        ,  0.        ],\n",
       "       [ 0.        ,  0.        ,  0.        ],\n",
       "       [ 0.        ,  0.        ,  0.        ],\n",
       "       [ 0.        ,  0.        ,  0.        ],\n",
       "       [ 0.        ,  0.        ,  0.        ],\n",
       "       [ 0.        ,  0.        ,  0.        ],\n",
       "       [ 0.        ,  0.        ,  0.        ],\n",
       "       [ 0.        ,  0.        ,  0.        ],\n",
       "       [ 0.        ,  0.        ,  0.        ],\n",
       "       [ 0.        ,  0.        ,  0.        ],\n",
       "       [ 0.        ,  0.        ,  0.        ],\n",
       "       [ 0.        ,  0.        ,  0.        ],\n",
       "       [ 0.        ,  0.        ,  0.        ],\n",
       "       [ 0.        ,  0.        ,  0.        ],\n",
       "       [ 0.        ,  0.        ,  0.        ],\n",
       "       [ 0.        ,  0.        ,  0.        ],\n",
       "       [ 0.        ,  0.        ,  0.        ]], dtype=float32)"
      ]
     },
     "execution_count": 30,
     "metadata": {},
     "output_type": "execute_result"
    }
   ],
   "source": [
    "mask1 [0][100]"
   ]
  },
  {
   "cell_type": "code",
   "execution_count": 31,
   "metadata": {},
   "outputs": [
    {
     "data": {
      "image/png": "[encoded data removed]",
      "text/plain": [
       "<PIL.Image.Image image mode=RGB size=320x160 at 0x7FFB4C7AF550>"
      ]
     },
     "execution_count": 31,
     "metadata": {},
     "output_type": "execute_result"
    }
   ],
   "source": [
    "image.array_to_img (mask1[1])"
   ]
  },
  {
   "cell_type": "code",
   "execution_count": 32,
   "metadata": {},
   "outputs": [
    {
     "name": "stdout",
     "output_type": "stream",
     "text": [
      "Found 6 images belonging to 3 classes.\n"
     ]
    }
   ],
   "source": [
    "valclasses= valgen.flow_from_directory('val/images', target_size=(160,320),\n",
    "                class_mode=\"categorical\", batch_size=1, seed=1)"
   ]
  },
  {
   "cell_type": "code",
   "execution_count": 33,
   "metadata": {
    "collapsed": true
   },
   "outputs": [],
   "source": [
    "vallb=valclasses.classes"
   ]
  },
  {
   "cell_type": "code",
   "execution_count": 34,
   "metadata": {
    "collapsed": true
   },
   "outputs": [],
   "source": [
    "valmask=[]\n",
    "for i in range (6):\n",
    "    x=[]\n",
    "    for j in range (3):\n",
    "        if lb[i]==j:x.append(val_labels1[i])\n",
    "        else:x.append(dark)\n",
    "    valmask.append(x)\n",
    "    "
   ]
  },
  {
   "cell_type": "code",
   "execution_count": 35,
   "metadata": {
    "collapsed": true
   },
   "outputs": [],
   "source": [
    "valmask=np.array (valmask)"
   ]
  },
  {
   "cell_type": "code",
   "execution_count": 36,
   "metadata": {},
   "outputs": [
    {
     "data": {
      "text/plain": [
       "(6, 3, 160, 320, 1)"
      ]
     },
     "execution_count": 36,
     "metadata": {},
     "output_type": "execute_result"
    }
   ],
   "source": [
    "valmask.shape"
   ]
  },
  {
   "cell_type": "code",
   "execution_count": 37,
   "metadata": {
    "collapsed": true
   },
   "outputs": [],
   "source": [
    "valmask=np.reshape (valmask , (6,3,160,320))"
   ]
  },
  {
   "cell_type": "code",
   "execution_count": 38,
   "metadata": {
    "collapsed": true
   },
   "outputs": [],
   "source": [
    "valmask=np.swapaxes(valmask,1,2)\n",
    "valmask=np.swapaxes(valmask,2,3)"
   ]
  },
  {
   "cell_type": "code",
   "execution_count": 39,
   "metadata": {
    "collapsed": true
   },
   "outputs": [],
   "source": [
    "from keras.layers import Conv2DTranspose ,concatenate, Input,Activation ,Conv2D ,BatchNormalization , Dense ,Dropout ,Flatten ,MaxPool2D ,GlobalMaxPool2D ,GlobalAveragePooling2D\n",
    "from keras.models import Sequential ,Model\n",
    "from keras.optimizers import Adam"
   ]
  },
  {
   "cell_type": "code",
   "execution_count": 40,
   "metadata": {
    "collapsed": true
   },
   "outputs": [],
   "source": [
    "def dice_coef(y_true, y_pred):\n",
    "    y_true_f = K.flatten(y_true)\n",
    "    y_pred_f = K.flatten(y_pred)\n",
    "    intersection = K.sum(y_true_f * y_pred_f)\n",
    "    return (2. * intersection + smooth) / (K.sum(y_true_f) + K.sum(y_pred_f) + smooth)\n",
    "\n",
    "\n",
    "def dice_coef_loss(y_true, y_pred):\n",
    "    return -dice_coef(y_true, y_pred)\n",
    "smooth = 1"
   ]
  },
  {
   "cell_type": "code",
   "execution_count": 202,
   "metadata": {
    "collapsed": true
   },
   "outputs": [],
   "source": [
    "def get_unet():\n",
    "    inputs = Input((160, 320, 3))\n",
    "    conv1 = Conv2D(32, (3, 3), activation='relu', padding='same')(inputs)\n",
    "    conv1 = Conv2D(32, (3, 3), activation='relu', padding='same')(conv1)\n",
    "    pool1 = MaxPool2D(pool_size=(2, 2))(conv1)\n",
    "\n",
    "    conv2 = Conv2D(64, (3, 3), activation='relu', padding='same')(pool1)\n",
    "    conv2 = Conv2D(64, (3, 3), activation='relu', padding='same')(conv2)\n",
    "    pool2 = MaxPool2D(pool_size=(2, 2))(conv2)\n",
    "\n",
    "    conv3 = Conv2D(128, (3, 3), activation='relu', padding='same')(pool2)\n",
    "    conv3 = Conv2D(128, (3, 3), activation='relu', padding='same')(conv3)\n",
    "    pool3 = MaxPool2D(pool_size=(2, 2))(conv3)\n",
    "\n",
    "    conv4 = Conv2D(256, (3, 3), activation='relu', padding='same')(pool3)\n",
    "    conv4 = Conv2D(256, (3, 3), activation='relu', padding='same')(conv4)\n",
    "    pool4 = MaxPool2D(pool_size=(2, 2))(conv4)\n",
    "\n",
    "    conv5 = Conv2D(512, (3, 3), activation='relu', padding='same')(pool4)\n",
    "    conv5 = Conv2D(512, (3, 3), activation='relu', padding='same')(conv5)\n",
    "\n",
    "    up6 = concatenate([Conv2DTranspose(256, (2, 2), strides=(2, 2), padding='same')(conv5), conv4], axis=3)\n",
    "    conv6 = Conv2D(256, (3, 3), activation='relu', padding='same')(up6)\n",
    "    conv6 = Conv2D(256, (3, 3), activation='relu', padding='same')(conv6)\n",
    "\n",
    "    up7 = concatenate([Conv2DTranspose(128, (2, 2), strides=(2, 2), padding='same')(conv6), conv3], axis=3)\n",
    "    conv7 = Conv2D(128, (3, 3), activation='relu', padding='same')(up7)\n",
    "    conv7 = Conv2D(128, (3, 3), activation='relu', padding='same')(conv7)\n",
    "\n",
    "    up8 = concatenate([Conv2DTranspose(64, (2, 2), strides=(2, 2), padding='same')(conv7), conv2], axis=3)\n",
    "    conv8 = Conv2D(64, (3, 3), activation='relu', padding='same')(up8)\n",
    "    conv8 = Conv2D(64, (3, 3), activation='relu', padding='same')(conv8)\n",
    "\n",
    "    up9 = concatenate([Conv2DTranspose(32, (2, 2), strides=(2, 2), padding='same')(conv8), conv1], axis=3)\n",
    "    conv9 = Conv2D(32, (3, 3), activation='relu', padding='same')(up9)\n",
    "    \n",
    "    conv9 = Conv2D(32, (3, 3), activation='relu', padding='same')(conv9)\n",
    "\n",
    "    conv10 = Conv2D(3, (1, 1), activation='sigmoid')(conv9)\n",
    "    \n",
    "    x = MaxPool2D()(conv5)\n",
    "   \n",
    "    x = Flatten()(x)\n",
    "    x = Dense(512, activation='relu')(x)\n",
    "   \n",
    "    x = Dropout(0.5)(x)\n",
    "    x = Dense(512, activation='relu')(x)\n",
    "    x = Dropout(0.5)(x)\n",
    "    x_class = Dense(3, activation='softmax', name='class')(x)\n",
    "    model = Model(inputs=[inputs], outputs=[conv10,x_class])\n",
    "\n",
    "    model.compile(optimizer=Adam(lr=1e-5), loss=[dice_coef_loss,'categorical_crossentropy'], metrics=[dice_coef,\"accuracy\"]\n",
    "                 )\n",
    "  \n",
    "\n",
    "    return model"
   ]
  },
  {
   "cell_type": "code",
   "execution_count": 203,
   "metadata": {},
   "outputs": [],
   "source": [
    "\n",
    "model=get_unet()"
   ]
  },
  {
   "cell_type": "code",
   "execution_count": 204,
   "metadata": {},
   "outputs": [
    {
     "name": "stdout",
     "output_type": "stream",
     "text": [
      "____________________________________________________________________________________________________\n",
      "Layer (type)                     Output Shape          Param #     Connected to                     \n",
      "====================================================================================================\n",
      "input_16 (InputLayer)            (None, 160, 320, 3)   0                                            \n",
      "____________________________________________________________________________________________________\n",
      "conv2d_288 (Conv2D)              (None, 160, 320, 32)  896         input_16[0][0]                   \n",
      "____________________________________________________________________________________________________\n",
      "conv2d_289 (Conv2D)              (None, 160, 320, 32)  9248        conv2d_288[0][0]                 \n",
      "____________________________________________________________________________________________________\n",
      "max_pooling2d_62 (MaxPooling2D)  (None, 80, 160, 32)   0           conv2d_289[0][0]                 \n",
      "____________________________________________________________________________________________________\n",
      "conv2d_290 (Conv2D)              (None, 80, 160, 64)   18496       max_pooling2d_62[0][0]           \n",
      "____________________________________________________________________________________________________\n",
      "conv2d_291 (Conv2D)              (None, 80, 160, 64)   36928       conv2d_290[0][0]                 \n",
      "____________________________________________________________________________________________________\n",
      "max_pooling2d_63 (MaxPooling2D)  (None, 40, 80, 64)    0           conv2d_291[0][0]                 \n",
      "____________________________________________________________________________________________________\n",
      "conv2d_292 (Conv2D)              (None, 40, 80, 128)   73856       max_pooling2d_63[0][0]           \n",
      "____________________________________________________________________________________________________\n",
      "conv2d_293 (Conv2D)              (None, 40, 80, 128)   147584      conv2d_292[0][0]                 \n",
      "____________________________________________________________________________________________________\n",
      "max_pooling2d_64 (MaxPooling2D)  (None, 20, 40, 128)   0           conv2d_293[0][0]                 \n",
      "____________________________________________________________________________________________________\n",
      "conv2d_294 (Conv2D)              (None, 20, 40, 256)   295168      max_pooling2d_64[0][0]           \n",
      "____________________________________________________________________________________________________\n",
      "conv2d_295 (Conv2D)              (None, 20, 40, 256)   590080      conv2d_294[0][0]                 \n",
      "____________________________________________________________________________________________________\n",
      "max_pooling2d_65 (MaxPooling2D)  (None, 10, 20, 256)   0           conv2d_295[0][0]                 \n",
      "____________________________________________________________________________________________________\n",
      "conv2d_296 (Conv2D)              (None, 10, 20, 512)   1180160     max_pooling2d_65[0][0]           \n",
      "____________________________________________________________________________________________________\n",
      "conv2d_297 (Conv2D)              (None, 10, 20, 512)   2359808     conv2d_296[0][0]                 \n",
      "____________________________________________________________________________________________________\n",
      "conv2d_transpose_61 (Conv2DTrans (None, 20, 40, 256)   524544      conv2d_297[0][0]                 \n",
      "____________________________________________________________________________________________________\n",
      "concatenate_61 (Concatenate)     (None, 20, 40, 512)   0           conv2d_transpose_61[0][0]        \n",
      "                                                                   conv2d_295[0][0]                 \n",
      "____________________________________________________________________________________________________\n",
      "conv2d_298 (Conv2D)              (None, 20, 40, 256)   1179904     concatenate_61[0][0]             \n",
      "____________________________________________________________________________________________________\n",
      "conv2d_299 (Conv2D)              (None, 20, 40, 256)   590080      conv2d_298[0][0]                 \n",
      "____________________________________________________________________________________________________\n",
      "conv2d_transpose_62 (Conv2DTrans (None, 40, 80, 128)   131200      conv2d_299[0][0]                 \n",
      "____________________________________________________________________________________________________\n",
      "concatenate_62 (Concatenate)     (None, 40, 80, 256)   0           conv2d_transpose_62[0][0]        \n",
      "                                                                   conv2d_293[0][0]                 \n",
      "____________________________________________________________________________________________________\n",
      "conv2d_300 (Conv2D)              (None, 40, 80, 128)   295040      concatenate_62[0][0]             \n",
      "____________________________________________________________________________________________________\n",
      "conv2d_301 (Conv2D)              (None, 40, 80, 128)   147584      conv2d_300[0][0]                 \n",
      "____________________________________________________________________________________________________\n",
      "conv2d_transpose_63 (Conv2DTrans (None, 80, 160, 64)   32832       conv2d_301[0][0]                 \n",
      "____________________________________________________________________________________________________\n",
      "concatenate_63 (Concatenate)     (None, 80, 160, 128)  0           conv2d_transpose_63[0][0]        \n",
      "                                                                   conv2d_291[0][0]                 \n",
      "____________________________________________________________________________________________________\n",
      "conv2d_302 (Conv2D)              (None, 80, 160, 64)   73792       concatenate_63[0][0]             \n",
      "____________________________________________________________________________________________________\n",
      "max_pooling2d_66 (MaxPooling2D)  (None, 5, 10, 512)    0           conv2d_297[0][0]                 \n",
      "____________________________________________________________________________________________________\n",
      "conv2d_303 (Conv2D)              (None, 80, 160, 64)   36928       conv2d_302[0][0]                 \n",
      "____________________________________________________________________________________________________\n",
      "flatten_2 (Flatten)              (None, 25600)         0           max_pooling2d_66[0][0]           \n",
      "____________________________________________________________________________________________________\n",
      "conv2d_transpose_64 (Conv2DTrans (None, 160, 320, 32)  8224        conv2d_303[0][0]                 \n",
      "____________________________________________________________________________________________________\n",
      "dense_3 (Dense)                  (None, 512)           13107712    flatten_2[0][0]                  \n",
      "____________________________________________________________________________________________________\n",
      "concatenate_64 (Concatenate)     (None, 160, 320, 64)  0           conv2d_transpose_64[0][0]        \n",
      "                                                                   conv2d_289[0][0]                 \n",
      "____________________________________________________________________________________________________\n",
      "dropout_3 (Dropout)              (None, 512)           0           dense_3[0][0]                    \n",
      "____________________________________________________________________________________________________\n",
      "conv2d_304 (Conv2D)              (None, 160, 320, 32)  18464       concatenate_64[0][0]             \n",
      "____________________________________________________________________________________________________\n",
      "dense_4 (Dense)                  (None, 512)           262656      dropout_3[0][0]                  \n",
      "____________________________________________________________________________________________________\n",
      "conv2d_305 (Conv2D)              (None, 160, 320, 32)  9248        conv2d_304[0][0]                 \n",
      "____________________________________________________________________________________________________\n",
      "dropout_4 (Dropout)              (None, 512)           0           dense_4[0][0]                    \n",
      "____________________________________________________________________________________________________\n",
      "conv2d_306 (Conv2D)              (None, 160, 320, 3)   99          conv2d_305[0][0]                 \n",
      "____________________________________________________________________________________________________\n",
      "class (Dense)                    (None, 3)             1539        dropout_4[0][0]                  \n",
      "====================================================================================================\n",
      "Total params: 21,132,070\n",
      "Trainable params: 21,132,070\n",
      "Non-trainable params: 0\n",
      "____________________________________________________________________________________________________\n"
     ]
    }
   ],
   "source": [
    "model.summary()"
   ]
  },
  {
   "cell_type": "code",
   "execution_count": null,
   "metadata": {
    "collapsed": true
   },
   "outputs": [],
   "source": [
    "\n",
    "def sparse_accuracy_ignoring_last_label(y_true, y_pred):\n",
    "    nb_classes = K.int_shape(y_pred)[-1]\n",
    "    y_pred = K.reshape(y_pred, (-1, nb_classes))\n",
    "\n",
    "    y_true = K.one_hot(tf.to_int32(K.flatten(y_true)),\n",
    "                       nb_classes + 1)\n",
    "    unpacked = tf.unstack(y_true, axis=-1)\n",
    "    legal_labels = ~tf.cast(unpacked[-1], tf.bool)\n",
    "    y_true = tf.stack(unpacked[:-1], axis=-1)\n",
    "\n",
    "    return K.sum(tf.to_float(legal_labels & K.equal(K.argmax(y_true, axis=-1), K.argmax(y_pred, axis=-1)))) / K.sum(tf.to_float(legal_labels))"
   ]
  },
  {
   "cell_type": "code",
   "execution_count": null,
   "metadata": {
    "collapsed": true
   },
   "outputs": [],
   "source": [
    "def softmax_sparse_crossentropy_ignoring_last_label(y_true, y_pred):\n",
    "    y_pred = K.reshape(y_pred, (-1, K.int_shape(y_pred)[-1]))\n",
    "    log_softmax = tf.nn.log_softmax(y_pred)\n",
    "\n",
    "    y_true = K.one_hot(tf.to_int32(K.flatten(y_true)), K.int_shape(y_pred)[-1]+1)\n",
    "    unpacked = tf.unstack(y_true, axis=-1)\n",
    "    y_true = tf.stack(unpacked[:-1], axis=-1)\n",
    "\n",
    "    cross_entropy = -K.sum(y_true * log_softmax, axis=1)\n",
    "    cross_entropy_mean = K.mean(cross_entropy)\n",
    "\n",
    "    return cross_entropy_mean"
   ]
  },
  {
   "cell_type": "code",
   "execution_count": null,
   "metadata": {
    "collapsed": true
   },
   "outputs": [],
   "source": [
    "loss_fn = softmax_sparse_crossentropy_ignoring_last_label\n",
    "metrics = [sparse_accuracy_ignoring_last_label]"
   ]
  },
  {
   "cell_type": "code",
   "execution_count": 67,
   "metadata": {},
   "outputs": [
    {
     "data": {
      "text/plain": [
       "25"
      ]
     },
     "execution_count": 67,
     "metadata": {},
     "output_type": "execute_result"
    }
   ],
   "source": []
  },
  {
   "cell_type": "code",
   "execution_count": 220,
   "metadata": {},
   "outputs": [
    {
     "name": "stdout",
     "output_type": "stream",
     "text": [
      "round-- 0\n",
      "Train on 49 samples, validate on 6 samples\n",
      "Epoch 1/1\n",
      "49/49 [==============================] - 1s - loss: 0.1713 - conv2d_306_loss: -0.1663 - class_loss: 0.3377 - conv2d_306_dice_coef: 0.1663 - conv2d_306_acc: 0.9250 - class_dice_coef: 0.7772 - class_acc: 0.9184 - val_loss: 2.4778 - val_conv2d_306_loss: -0.4358 - val_class_loss: 2.9136 - val_conv2d_306_dice_coef: 0.4358 - val_conv2d_306_acc: 0.9985 - val_class_dice_coef: 0.3921 - val_class_acc: 0.3333\n",
      "Train on 49 samples, validate on 6 samples\n",
      "Epoch 1/1\n",
      "49/49 [==============================] - 1s - loss: 0.2933 - conv2d_306_loss: -0.0852 - class_loss: 0.3784 - conv2d_306_dice_coef: 0.0852 - conv2d_306_acc: 0.9249 - class_dice_coef: 0.7719 - class_acc: 0.8571 - val_loss: 2.4459 - val_conv2d_306_loss: -0.4363 - val_class_loss: 2.8822 - val_conv2d_306_dice_coef: 0.4363 - val_conv2d_306_acc: 0.9985 - val_class_dice_coef: 0.3923 - val_class_acc: 0.3333\n",
      "Train on 49 samples, validate on 6 samples\n",
      "Epoch 1/1\n",
      "49/49 [==============================] - 1s - loss: 0.2644 - conv2d_306_loss: -0.1220 - class_loss: 0.3864 - conv2d_306_dice_coef: 0.1220 - conv2d_306_acc: 0.9250 - class_dice_coef: 0.7792 - class_acc: 0.8571 - val_loss: 2.7616 - val_conv2d_306_loss: -0.4354 - val_class_loss: 3.1970 - val_conv2d_306_dice_coef: 0.4354 - val_conv2d_306_acc: 0.9986 - val_class_dice_coef: 0.3912 - val_class_acc: 0.3333\n",
      "Train on 49 samples, validate on 6 samples\n",
      "Epoch 1/1\n",
      "49/49 [==============================] - 1s - loss: 0.2333 - conv2d_306_loss: -0.1051 - class_loss: 0.3385 - conv2d_306_dice_coef: 0.1051 - conv2d_306_acc: 0.9251 - class_dice_coef: 0.8089 - class_acc: 0.8571 - val_loss: 3.3344 - val_conv2d_306_loss: -0.4320 - val_class_loss: 3.7664 - val_conv2d_306_dice_coef: 0.4320 - val_conv2d_306_acc: 0.9986 - val_class_dice_coef: 0.3887 - val_class_acc: 0.3333\n",
      "Train on 49 samples, validate on 6 samples\n",
      "Epoch 1/1\n",
      "49/49 [==============================] - 1s - loss: 0.1454 - conv2d_306_loss: -0.1128 - class_loss: 0.2582 - conv2d_306_dice_coef: 0.1128 - conv2d_306_acc: 0.9250 - class_dice_coef: 0.8262 - class_acc: 0.9184 - val_loss: 3.6926 - val_conv2d_306_loss: -0.4286 - val_class_loss: 4.1213 - val_conv2d_306_dice_coef: 0.4286 - val_conv2d_306_acc: 0.9986 - val_class_dice_coef: 0.3873 - val_class_acc: 0.3333\n",
      "round-- 0\n",
      "Train on 49 samples, validate on 6 samples\n",
      "Epoch 1/1\n",
      "49/49 [==============================] - 1s - loss: 0.2086 - conv2d_306_loss: -0.1678 - class_loss: 0.3764 - conv2d_306_dice_coef: 0.1678 - conv2d_306_acc: 0.9251 - class_dice_coef: 0.7963 - class_acc: 0.8571 - val_loss: 3.6470 - val_conv2d_306_loss: -0.4324 - val_class_loss: 4.0795 - val_conv2d_306_dice_coef: 0.4324 - val_conv2d_306_acc: 0.9986 - val_class_dice_coef: 0.3877 - val_class_acc: 0.3333\n",
      "Train on 49 samples, validate on 6 samples\n",
      "Epoch 1/1\n",
      "49/49 [==============================] - 1s - loss: 0.2299 - conv2d_306_loss: -0.0892 - class_loss: 0.3191 - conv2d_306_dice_coef: 0.0892 - conv2d_306_acc: 0.9251 - class_dice_coef: 0.7967 - class_acc: 0.8980 - val_loss: 3.0992 - val_conv2d_306_loss: -0.4318 - val_class_loss: 3.5310 - val_conv2d_306_dice_coef: 0.4318 - val_conv2d_306_acc: 0.9986 - val_class_dice_coef: 0.3894 - val_class_acc: 0.3333\n",
      "Train on 49 samples, validate on 6 samples\n",
      "Epoch 1/1\n",
      "49/49 [==============================] - 1s - loss: 0.1493 - conv2d_306_loss: -0.1195 - class_loss: 0.2688 - conv2d_306_dice_coef: 0.1195 - conv2d_306_acc: 0.9251 - class_dice_coef: 0.8291 - class_acc: 0.8980 - val_loss: 3.0050 - val_conv2d_306_loss: -0.4328 - val_class_loss: 3.4379 - val_conv2d_306_dice_coef: 0.4328 - val_conv2d_306_acc: 0.9986 - val_class_dice_coef: 0.3891 - val_class_acc: 0.3333\n",
      "Train on 49 samples, validate on 6 samples\n",
      "Epoch 1/1\n",
      "49/49 [==============================] - 1s - loss: 0.0950 - conv2d_306_loss: -0.0994 - class_loss: 0.1944 - conv2d_306_dice_coef: 0.0994 - conv2d_306_acc: 0.9252 - class_dice_coef: 0.8616 - class_acc: 0.9592 - val_loss: 3.1446 - val_conv2d_306_loss: -0.4352 - val_class_loss: 3.5798 - val_conv2d_306_dice_coef: 0.4352 - val_conv2d_306_acc: 0.9986 - val_class_dice_coef: 0.3888 - val_class_acc: 0.3333\n",
      "Train on 49 samples, validate on 6 samples\n",
      "Epoch 1/1\n",
      "49/49 [==============================] - 1s - loss: 0.1673 - conv2d_306_loss: -0.1141 - class_loss: 0.2814 - conv2d_306_dice_coef: 0.1141 - conv2d_306_acc: 0.9252 - class_dice_coef: 0.8350 - class_acc: 0.9184 - val_loss: 3.7102 - val_conv2d_306_loss: -0.4349 - val_class_loss: 4.1451 - val_conv2d_306_dice_coef: 0.4349 - val_conv2d_306_acc: 0.9987 - val_class_dice_coef: 0.3884 - val_class_acc: 0.3333\n",
      "round-- 0\n",
      "Train on 49 samples, validate on 6 samples\n",
      "Epoch 1/1\n",
      "49/49 [==============================] - 1s - loss: 0.2817 - conv2d_306_loss: -0.1733 - class_loss: 0.4549 - conv2d_306_dice_coef: 0.1733 - conv2d_306_acc: 0.9252 - class_dice_coef: 0.7797 - class_acc: 0.8367 - val_loss: 4.3051 - val_conv2d_306_loss: -0.4312 - val_class_loss: 4.7363 - val_conv2d_306_dice_coef: 0.4312 - val_conv2d_306_acc: 0.9987 - val_class_dice_coef: 0.3875 - val_class_acc: 0.3333\n",
      "Train on 49 samples, validate on 6 samples\n",
      "Epoch 1/1\n",
      "49/49 [==============================] - 1s - loss: 0.2714 - conv2d_306_loss: -0.0891 - class_loss: 0.3605 - conv2d_306_dice_coef: 0.0891 - conv2d_306_acc: 0.9252 - class_dice_coef: 0.7938 - class_acc: 0.8571 - val_loss: 4.0757 - val_conv2d_306_loss: -0.4326 - val_class_loss: 4.5083 - val_conv2d_306_dice_coef: 0.4326 - val_conv2d_306_acc: 0.9987 - val_class_dice_coef: 0.3882 - val_class_acc: 0.3333\n",
      "Train on 49 samples, validate on 6 samples\n",
      "Epoch 1/1\n",
      "49/49 [==============================] - 1s - loss: 0.1642 - conv2d_306_loss: -0.1255 - class_loss: 0.2897 - conv2d_306_dice_coef: 0.1255 - conv2d_306_acc: 0.9252 - class_dice_coef: 0.8185 - class_acc: 0.9388 - val_loss: 4.1126 - val_conv2d_306_loss: -0.4326 - val_class_loss: 4.5452 - val_conv2d_306_dice_coef: 0.4326 - val_conv2d_306_acc: 0.9987 - val_class_dice_coef: 0.3873 - val_class_acc: 0.3333\n",
      "Train on 49 samples, validate on 6 samples\n",
      "Epoch 1/1\n",
      "49/49 [==============================] - 1s - loss: 0.1297 - conv2d_306_loss: -0.1089 - class_loss: 0.2386 - conv2d_306_dice_coef: 0.1089 - conv2d_306_acc: 0.9253 - class_dice_coef: 0.8343 - class_acc: 0.9388 - val_loss: 4.0637 - val_conv2d_306_loss: -0.4334 - val_class_loss: 4.4971 - val_conv2d_306_dice_coef: 0.4334 - val_conv2d_306_acc: 0.9987 - val_class_dice_coef: 0.3881 - val_class_acc: 0.3333\n",
      "Train on 49 samples, validate on 6 samples\n",
      "Epoch 1/1\n",
      "49/49 [==============================] - 1s - loss: 0.3167 - conv2d_306_loss: -0.1161 - class_loss: 0.4328 - conv2d_306_dice_coef: 0.1161 - conv2d_306_acc: 0.9252 - class_dice_coef: 0.7663 - class_acc: 0.8571 - val_loss: 3.6552 - val_conv2d_306_loss: -0.4346 - val_class_loss: 4.0898 - val_conv2d_306_dice_coef: 0.4346 - val_conv2d_306_acc: 0.9987 - val_class_dice_coef: 0.3921 - val_class_acc: 0.3333\n",
      "round-- 1\n",
      "Train on 49 samples, validate on 6 samples\n",
      "Epoch 1/1\n",
      "49/49 [==============================] - 1s - loss: 0.1905 - conv2d_306_loss: -0.1611 - class_loss: 0.3516 - conv2d_306_dice_coef: 0.1611 - conv2d_306_acc: 0.9251 - class_dice_coef: 0.7935 - class_acc: 0.8571 - val_loss: 3.3264 - val_conv2d_306_loss: -0.4329 - val_class_loss: 3.7592 - val_conv2d_306_dice_coef: 0.4329 - val_conv2d_306_acc: 0.9987 - val_class_dice_coef: 0.3955 - val_class_acc: 0.3333\n",
      "Train on 49 samples, validate on 6 samples\n",
      "Epoch 1/1\n",
      "49/49 [==============================] - 1s - loss: 0.1543 - conv2d_306_loss: -0.0881 - class_loss: 0.2423 - conv2d_306_dice_coef: 0.0881 - conv2d_306_acc: 0.9251 - class_dice_coef: 0.8429 - class_acc: 0.8980 - val_loss: 3.2328 - val_conv2d_306_loss: -0.4311 - val_class_loss: 3.6639 - val_conv2d_306_dice_coef: 0.4311 - val_conv2d_306_acc: 0.9987 - val_class_dice_coef: 0.3964 - val_class_acc: 0.3333\n",
      "Train on 49 samples, validate on 6 samples\n",
      "Epoch 1/1\n"
     ]
    },
    {
     "name": "stdout",
     "output_type": "stream",
     "text": [
      "49/49 [==============================] - 1s - loss: 0.1567 - conv2d_306_loss: -0.1210 - class_loss: 0.2777 - conv2d_306_dice_coef: 0.1210 - conv2d_306_acc: 0.9251 - class_dice_coef: 0.8182 - class_acc: 0.9388 - val_loss: 3.3282 - val_conv2d_306_loss: -0.4302 - val_class_loss: 3.7584 - val_conv2d_306_dice_coef: 0.4302 - val_conv2d_306_acc: 0.9987 - val_class_dice_coef: 0.3945 - val_class_acc: 0.3333\n",
      "Train on 49 samples, validate on 6 samples\n",
      "Epoch 1/1\n",
      "49/49 [==============================] - 1s - loss: 0.2264 - conv2d_306_loss: -0.1078 - class_loss: 0.3342 - conv2d_306_dice_coef: 0.1078 - conv2d_306_acc: 0.9251 - class_dice_coef: 0.8085 - class_acc: 0.8367 - val_loss: 3.4575 - val_conv2d_306_loss: -0.4272 - val_class_loss: 3.8847 - val_conv2d_306_dice_coef: 0.4272 - val_conv2d_306_acc: 0.9988 - val_class_dice_coef: 0.3935 - val_class_acc: 0.3333\n",
      "Train on 49 samples, validate on 6 samples\n",
      "Epoch 1/1\n",
      "49/49 [==============================] - 1s - loss: 0.0493 - conv2d_306_loss: -0.1213 - class_loss: 0.1705 - conv2d_306_dice_coef: 0.1213 - conv2d_306_acc: 0.9250 - class_dice_coef: 0.8779 - class_acc: 0.9388 - val_loss: 3.2108 - val_conv2d_306_loss: -0.4222 - val_class_loss: 3.6329 - val_conv2d_306_dice_coef: 0.4222 - val_conv2d_306_acc: 0.9988 - val_class_dice_coef: 0.3970 - val_class_acc: 0.3333\n",
      "round-- 1\n",
      "Train on 49 samples, validate on 6 samples\n",
      "Epoch 1/1\n",
      "49/49 [==============================] - 1s - loss: 0.1683 - conv2d_306_loss: -0.1670 - class_loss: 0.3353 - conv2d_306_dice_coef: 0.1670 - conv2d_306_acc: 0.9251 - class_dice_coef: 0.7944 - class_acc: 0.8776 - val_loss: 3.1174 - val_conv2d_306_loss: -0.4266 - val_class_loss: 3.5440 - val_conv2d_306_dice_coef: 0.4266 - val_conv2d_306_acc: 0.9987 - val_class_dice_coef: 0.3985 - val_class_acc: 0.3333\n",
      "Train on 49 samples, validate on 6 samples\n",
      "Epoch 1/1\n",
      "49/49 [==============================] - 1s - loss: 0.1355 - conv2d_306_loss: -0.0891 - class_loss: 0.2246 - conv2d_306_dice_coef: 0.0891 - conv2d_306_acc: 0.9252 - class_dice_coef: 0.8514 - class_acc: 0.9388 - val_loss: 3.0888 - val_conv2d_306_loss: -0.4213 - val_class_loss: 3.5102 - val_conv2d_306_dice_coef: 0.4213 - val_conv2d_306_acc: 0.9987 - val_class_dice_coef: 0.4009 - val_class_acc: 0.3333\n",
      "Train on 49 samples, validate on 6 samples\n",
      "Epoch 1/1\n",
      "49/49 [==============================] - 1s - loss: 0.1114 - conv2d_306_loss: -0.1150 - class_loss: 0.2264 - conv2d_306_dice_coef: 0.1150 - conv2d_306_acc: 0.9253 - class_dice_coef: 0.8542 - class_acc: 0.9184 - val_loss: 3.2699 - val_conv2d_306_loss: -0.4213 - val_class_loss: 3.6912 - val_conv2d_306_dice_coef: 0.4213 - val_conv2d_306_acc: 0.9988 - val_class_dice_coef: 0.3986 - val_class_acc: 0.3333\n",
      "Train on 49 samples, validate on 6 samples\n",
      "Epoch 1/1\n",
      "49/49 [==============================] - 1s - loss: 0.0514 - conv2d_306_loss: -0.1043 - class_loss: 0.1556 - conv2d_306_dice_coef: 0.1043 - conv2d_306_acc: 0.9254 - class_dice_coef: 0.8821 - class_acc: 1.0000 - val_loss: 3.5044 - val_conv2d_306_loss: -0.4261 - val_class_loss: 3.9305 - val_conv2d_306_dice_coef: 0.4261 - val_conv2d_306_acc: 0.9989 - val_class_dice_coef: 0.3955 - val_class_acc: 0.3333\n",
      "Train on 49 samples, validate on 6 samples\n",
      "Epoch 1/1\n",
      "49/49 [==============================] - 1s - loss: 0.1600 - conv2d_306_loss: -0.1186 - class_loss: 0.2785 - conv2d_306_dice_coef: 0.1186 - conv2d_306_acc: 0.9254 - class_dice_coef: 0.8473 - class_acc: 0.8776 - val_loss: 3.6909 - val_conv2d_306_loss: -0.4298 - val_class_loss: 4.1206 - val_conv2d_306_dice_coef: 0.4298 - val_conv2d_306_acc: 0.9989 - val_class_dice_coef: 0.3935 - val_class_acc: 0.3333\n",
      "round-- 1\n",
      "Train on 49 samples, validate on 6 samples\n",
      "Epoch 1/1\n",
      "49/49 [==============================] - 1s - loss: 0.1531 - conv2d_306_loss: -0.1607 - class_loss: 0.3138 - conv2d_306_dice_coef: 0.1607 - conv2d_306_acc: 0.9255 - class_dice_coef: 0.8434 - class_acc: 0.9184 - val_loss: 3.8526 - val_conv2d_306_loss: -0.4301 - val_class_loss: 4.2827 - val_conv2d_306_dice_coef: 0.4301 - val_conv2d_306_acc: 0.9989 - val_class_dice_coef: 0.3924 - val_class_acc: 0.3333\n",
      "Train on 49 samples, validate on 6 samples\n",
      "Epoch 1/1\n",
      "49/49 [==============================] - 1s - loss: 0.2616 - conv2d_306_loss: -0.0856 - class_loss: 0.3472 - conv2d_306_dice_coef: 0.0856 - conv2d_306_acc: 0.9255 - class_dice_coef: 0.8188 - class_acc: 0.8571 - val_loss: 3.8373 - val_conv2d_306_loss: -0.4312 - val_class_loss: 4.2685 - val_conv2d_306_dice_coef: 0.4312 - val_conv2d_306_acc: 0.9990 - val_class_dice_coef: 0.3925 - val_class_acc: 0.3333\n",
      "Train on 49 samples, validate on 6 samples\n",
      "Epoch 1/1\n",
      "49/49 [==============================] - 1s - loss: 0.1490 - conv2d_306_loss: -0.1205 - class_loss: 0.2696 - conv2d_306_dice_coef: 0.1205 - conv2d_306_acc: 0.9255 - class_dice_coef: 0.8148 - class_acc: 0.8980 - val_loss: 3.9411 - val_conv2d_306_loss: -0.4308 - val_class_loss: 4.3719 - val_conv2d_306_dice_coef: 0.4308 - val_conv2d_306_acc: 0.9989 - val_class_dice_coef: 0.3915 - val_class_acc: 0.3333\n",
      "Train on 49 samples, validate on 6 samples\n",
      "Epoch 1/1\n",
      "49/49 [==============================] - 1s - loss: 0.1563 - conv2d_306_loss: -0.1095 - class_loss: 0.2658 - conv2d_306_dice_coef: 0.1095 - conv2d_306_acc: 0.9255 - class_dice_coef: 0.8418 - class_acc: 0.9388 - val_loss: 3.7820 - val_conv2d_306_loss: -0.4318 - val_class_loss: 4.2139 - val_conv2d_306_dice_coef: 0.4318 - val_conv2d_306_acc: 0.9990 - val_class_dice_coef: 0.3936 - val_class_acc: 0.3333\n",
      "Train on 49 samples, validate on 6 samples\n",
      "Epoch 1/1\n",
      "49/49 [==============================] - 1s - loss: 0.0870 - conv2d_306_loss: -0.1180 - class_loss: 0.2050 - conv2d_306_dice_coef: 0.1180 - conv2d_306_acc: 0.9254 - class_dice_coef: 0.8595 - class_acc: 0.9592 - val_loss: 4.2230 - val_conv2d_306_loss: -0.4315 - val_class_loss: 4.6545 - val_conv2d_306_dice_coef: 0.4315 - val_conv2d_306_acc: 0.9990 - val_class_dice_coef: 0.3887 - val_class_acc: 0.3333\n",
      "round-- 2\n",
      "Train on 49 samples, validate on 6 samples\n",
      "Epoch 1/1\n",
      "49/49 [==============================] - 1s - loss: 0.1290 - conv2d_306_loss: -0.1705 - class_loss: 0.2995 - conv2d_306_dice_coef: 0.1705 - conv2d_306_acc: 0.9254 - class_dice_coef: 0.8352 - class_acc: 0.8776 - val_loss: 4.2875 - val_conv2d_306_loss: -0.4301 - val_class_loss: 4.7176 - val_conv2d_306_dice_coef: 0.4301 - val_conv2d_306_acc: 0.9989 - val_class_dice_coef: 0.3879 - val_class_acc: 0.3333\n",
      "Train on 49 samples, validate on 6 samples\n",
      "Epoch 1/1\n",
      "49/49 [==============================] - 1s - loss: 0.1819 - conv2d_306_loss: -0.0905 - class_loss: 0.2725 - conv2d_306_dice_coef: 0.0905 - conv2d_306_acc: 0.9255 - class_dice_coef: 0.8407 - class_acc: 0.8776 - val_loss: 3.9852 - val_conv2d_306_loss: -0.4274 - val_class_loss: 4.4127 - val_conv2d_306_dice_coef: 0.4274 - val_conv2d_306_acc: 0.9989 - val_class_dice_coef: 0.3896 - val_class_acc: 0.3333\n",
      "Train on 49 samples, validate on 6 samples\n",
      "Epoch 1/1\n",
      "49/49 [==============================] - 1s - loss: 0.1157 - conv2d_306_loss: -0.1208 - class_loss: 0.2365 - conv2d_306_dice_coef: 0.1208 - conv2d_306_acc: 0.9255 - class_dice_coef: 0.8379 - class_acc: 0.9184 - val_loss: 4.1613 - val_conv2d_306_loss: -0.4281 - val_class_loss: 4.5893 - val_conv2d_306_dice_coef: 0.4281 - val_conv2d_306_acc: 0.9989 - val_class_dice_coef: 0.3885 - val_class_acc: 0.3333\n",
      "Train on 49 samples, validate on 6 samples\n",
      "Epoch 1/1\n",
      "49/49 [==============================] - 1s - loss: 0.0825 - conv2d_306_loss: -0.1082 - class_loss: 0.1907 - conv2d_306_dice_coef: 0.1082 - conv2d_306_acc: 0.9255 - class_dice_coef: 0.8644 - class_acc: 0.9184 - val_loss: 4.3852 - val_conv2d_306_loss: -0.4286 - val_class_loss: 4.8138 - val_conv2d_306_dice_coef: 0.4286 - val_conv2d_306_acc: 0.9990 - val_class_dice_coef: 0.3878 - val_class_acc: 0.3333\n",
      "Train on 49 samples, validate on 6 samples\n",
      "Epoch 1/1\n",
      "49/49 [==============================] - 1s - loss: 0.0985 - conv2d_306_loss: -0.1226 - class_loss: 0.2211 - conv2d_306_dice_coef: 0.1226 - conv2d_306_acc: 0.9254 - class_dice_coef: 0.8509 - class_acc: 0.9184 - val_loss: 4.7473 - val_conv2d_306_loss: -0.4254 - val_class_loss: 5.1726 - val_conv2d_306_dice_coef: 0.4254 - val_conv2d_306_acc: 0.9990 - val_class_dice_coef: 0.3867 - val_class_acc: 0.3333\n",
      "round-- 2\n",
      "Train on 49 samples, validate on 6 samples\n",
      "Epoch 1/1\n"
     ]
    },
    {
     "name": "stdout",
     "output_type": "stream",
     "text": [
      "49/49 [==============================] - 1s - loss: 0.1037 - conv2d_306_loss: -0.1646 - class_loss: 0.2684 - conv2d_306_dice_coef: 0.1646 - conv2d_306_acc: 0.9253 - class_dice_coef: 0.8231 - class_acc: 0.8776 - val_loss: 4.7405 - val_conv2d_306_loss: -0.4266 - val_class_loss: 5.1671 - val_conv2d_306_dice_coef: 0.4266 - val_conv2d_306_acc: 0.9990 - val_class_dice_coef: 0.3874 - val_class_acc: 0.3333\n",
      "Train on 49 samples, validate on 6 samples\n",
      "Epoch 1/1\n",
      "49/49 [==============================] - 1s - loss: 0.1709 - conv2d_306_loss: -0.0882 - class_loss: 0.2591 - conv2d_306_dice_coef: 0.0882 - conv2d_306_acc: 0.9254 - class_dice_coef: 0.8646 - class_acc: 0.8980 - val_loss: 4.4699 - val_conv2d_306_loss: -0.4281 - val_class_loss: 4.8980 - val_conv2d_306_dice_coef: 0.4281 - val_conv2d_306_acc: 0.9990 - val_class_dice_coef: 0.3893 - val_class_acc: 0.3333\n",
      "Train on 49 samples, validate on 6 samples\n",
      "Epoch 1/1\n",
      "49/49 [==============================] - 1s - loss: 0.0699 - conv2d_306_loss: -0.1230 - class_loss: 0.1929 - conv2d_306_dice_coef: 0.1230 - conv2d_306_acc: 0.9254 - class_dice_coef: 0.8700 - class_acc: 0.9592 - val_loss: 4.3164 - val_conv2d_306_loss: -0.4279 - val_class_loss: 4.7442 - val_conv2d_306_dice_coef: 0.4279 - val_conv2d_306_acc: 0.9990 - val_class_dice_coef: 0.3893 - val_class_acc: 0.3333\n",
      "Train on 49 samples, validate on 6 samples\n",
      "Epoch 1/1\n",
      "49/49 [==============================] - 1s - loss: 0.1043 - conv2d_306_loss: -0.1083 - class_loss: 0.2126 - conv2d_306_dice_coef: 0.1083 - conv2d_306_acc: 0.9255 - class_dice_coef: 0.8566 - class_acc: 0.9388 - val_loss: 4.4244 - val_conv2d_306_loss: -0.4303 - val_class_loss: 4.8546 - val_conv2d_306_dice_coef: 0.4303 - val_conv2d_306_acc: 0.9990 - val_class_dice_coef: 0.3889 - val_class_acc: 0.3333\n",
      "Train on 49 samples, validate on 6 samples\n",
      "Epoch 1/1\n",
      "49/49 [==============================] - 1s - loss: 0.0870 - conv2d_306_loss: -0.1099 - class_loss: 0.1969 - conv2d_306_dice_coef: 0.1099 - conv2d_306_acc: 0.9254 - class_dice_coef: 0.8663 - class_acc: 0.9592 - val_loss: 4.5384 - val_conv2d_306_loss: -0.4276 - val_class_loss: 4.9660 - val_conv2d_306_dice_coef: 0.4276 - val_conv2d_306_acc: 0.9991 - val_class_dice_coef: 0.3881 - val_class_acc: 0.3333\n",
      "round-- 2\n",
      "Train on 49 samples, validate on 6 samples\n",
      "Epoch 1/1\n",
      "49/49 [==============================] - 1s - loss: 0.1481 - conv2d_306_loss: -0.1690 - class_loss: 0.3171 - conv2d_306_dice_coef: 0.1690 - conv2d_306_acc: 0.9254 - class_dice_coef: 0.8368 - class_acc: 0.8367 - val_loss: 4.3151 - val_conv2d_306_loss: -0.4277 - val_class_loss: 4.7428 - val_conv2d_306_dice_coef: 0.4277 - val_conv2d_306_acc: 0.9990 - val_class_dice_coef: 0.3887 - val_class_acc: 0.3333\n",
      "Train on 49 samples, validate on 6 samples\n",
      "Epoch 1/1\n",
      "49/49 [==============================] - 1s - loss: 0.1059 - conv2d_306_loss: -0.0913 - class_loss: 0.1972 - conv2d_306_dice_coef: 0.0913 - conv2d_306_acc: 0.9255 - class_dice_coef: 0.8687 - class_acc: 0.9388 - val_loss: 4.2330 - val_conv2d_306_loss: -0.4262 - val_class_loss: 4.6592 - val_conv2d_306_dice_coef: 0.4262 - val_conv2d_306_acc: 0.9990 - val_class_dice_coef: 0.3892 - val_class_acc: 0.3333\n",
      "Train on 49 samples, validate on 6 samples\n",
      "Epoch 1/1\n",
      "49/49 [==============================] - 1s - loss: 0.0384 - conv2d_306_loss: -0.1203 - class_loss: 0.1587 - conv2d_306_dice_coef: 0.1203 - conv2d_306_acc: 0.9254 - class_dice_coef: 0.8862 - class_acc: 0.9796 - val_loss: 4.3906 - val_conv2d_306_loss: -0.4264 - val_class_loss: 4.8169 - val_conv2d_306_dice_coef: 0.4264 - val_conv2d_306_acc: 0.9991 - val_class_dice_coef: 0.3892 - val_class_acc: 0.3333\n",
      "Train on 49 samples, validate on 6 samples\n",
      "Epoch 1/1\n",
      "49/49 [==============================] - 1s - loss: 0.0456 - conv2d_306_loss: -0.1071 - class_loss: 0.1527 - conv2d_306_dice_coef: 0.1071 - conv2d_306_acc: 0.9254 - class_dice_coef: 0.8966 - class_acc: 0.9592 - val_loss: 4.4951 - val_conv2d_306_loss: -0.4222 - val_class_loss: 4.9173 - val_conv2d_306_dice_coef: 0.4222 - val_conv2d_306_acc: 0.9991 - val_class_dice_coef: 0.3884 - val_class_acc: 0.3333\n",
      "Train on 49 samples, validate on 6 samples\n",
      "Epoch 1/1\n",
      "49/49 [==============================] - 1s - loss: 0.1347 - conv2d_306_loss: -0.1144 - class_loss: 0.2491 - conv2d_306_dice_coef: 0.1144 - conv2d_306_acc: 0.9254 - class_dice_coef: 0.8768 - class_acc: 0.9592 - val_loss: 4.6284 - val_conv2d_306_loss: -0.4231 - val_class_loss: 5.0515 - val_conv2d_306_dice_coef: 0.4231 - val_conv2d_306_acc: 0.9991 - val_class_dice_coef: 0.3877 - val_class_acc: 0.3333\n",
      "round-- 3\n",
      "Train on 49 samples, validate on 6 samples\n",
      "Epoch 1/1\n",
      "49/49 [==============================] - 1s - loss: -0.0104 - conv2d_306_loss: -0.1701 - class_loss: 0.1597 - conv2d_306_dice_coef: 0.1701 - conv2d_306_acc: 0.9254 - class_dice_coef: 0.8941 - class_acc: 0.9388 - val_loss: 4.8454 - val_conv2d_306_loss: -0.4222 - val_class_loss: 5.2676 - val_conv2d_306_dice_coef: 0.4222 - val_conv2d_306_acc: 0.9990 - val_class_dice_coef: 0.3872 - val_class_acc: 0.3333\n",
      "Train on 49 samples, validate on 6 samples\n",
      "Epoch 1/1\n",
      "49/49 [==============================] - 1s - loss: 0.0553 - conv2d_306_loss: -0.0906 - class_loss: 0.1459 - conv2d_306_dice_coef: 0.0906 - conv2d_306_acc: 0.9256 - class_dice_coef: 0.9005 - class_acc: 0.9388 - val_loss: 5.0069 - val_conv2d_306_loss: -0.4165 - val_class_loss: 5.4234 - val_conv2d_306_dice_coef: 0.4165 - val_conv2d_306_acc: 0.9990 - val_class_dice_coef: 0.3872 - val_class_acc: 0.3333\n",
      "Train on 49 samples, validate on 6 samples\n",
      "Epoch 1/1\n",
      "49/49 [==============================] - 1s - loss: 0.0686 - conv2d_306_loss: -0.1146 - class_loss: 0.1832 - conv2d_306_dice_coef: 0.1146 - conv2d_306_acc: 0.9256 - class_dice_coef: 0.8780 - class_acc: 0.9184 - val_loss: 5.0845 - val_conv2d_306_loss: -0.4151 - val_class_loss: 5.4996 - val_conv2d_306_dice_coef: 0.4151 - val_conv2d_306_acc: 0.9990 - val_class_dice_coef: 0.3873 - val_class_acc: 0.3333\n",
      "Train on 49 samples, validate on 6 samples\n",
      "Epoch 1/1\n",
      "49/49 [==============================] - 1s - loss: 0.1582 - conv2d_306_loss: -0.1065 - class_loss: 0.2647 - conv2d_306_dice_coef: 0.1065 - conv2d_306_acc: 0.9256 - class_dice_coef: 0.8504 - class_acc: 0.8776 - val_loss: 5.1642 - val_conv2d_306_loss: -0.4195 - val_class_loss: 5.5837 - val_conv2d_306_dice_coef: 0.4195 - val_conv2d_306_acc: 0.9991 - val_class_dice_coef: 0.3868 - val_class_acc: 0.3333\n",
      "Train on 49 samples, validate on 6 samples\n",
      "Epoch 1/1\n",
      "49/49 [==============================] - 1s - loss: 0.0334 - conv2d_306_loss: -0.1162 - class_loss: 0.1496 - conv2d_306_dice_coef: 0.1162 - conv2d_306_acc: 0.9256 - class_dice_coef: 0.8919 - class_acc: 0.9388 - val_loss: 5.2160 - val_conv2d_306_loss: -0.4173 - val_class_loss: 5.6333 - val_conv2d_306_dice_coef: 0.4173 - val_conv2d_306_acc: 0.9991 - val_class_dice_coef: 0.3863 - val_class_acc: 0.3333\n",
      "round-- 3\n",
      "Train on 49 samples, validate on 6 samples\n",
      "Epoch 1/1\n",
      "49/49 [==============================] - 1s - loss: 0.1528 - conv2d_306_loss: -0.1748 - class_loss: 0.3276 - conv2d_306_dice_coef: 0.1748 - conv2d_306_acc: 0.9256 - class_dice_coef: 0.8465 - class_acc: 0.9184 - val_loss: 4.7533 - val_conv2d_306_loss: -0.4202 - val_class_loss: 5.1735 - val_conv2d_306_dice_coef: 0.4202 - val_conv2d_306_acc: 0.9991 - val_class_dice_coef: 0.3883 - val_class_acc: 0.3333\n",
      "Train on 49 samples, validate on 6 samples\n",
      "Epoch 1/1\n",
      "49/49 [==============================] - 1s - loss: 0.1324 - conv2d_306_loss: -0.0909 - class_loss: 0.2233 - conv2d_306_dice_coef: 0.0909 - conv2d_306_acc: 0.9255 - class_dice_coef: 0.8725 - class_acc: 0.9184 - val_loss: 4.2900 - val_conv2d_306_loss: -0.4236 - val_class_loss: 4.7136 - val_conv2d_306_dice_coef: 0.4236 - val_conv2d_306_acc: 0.9992 - val_class_dice_coef: 0.3908 - val_class_acc: 0.3333\n",
      "Train on 49 samples, validate on 6 samples\n",
      "Epoch 1/1\n",
      "49/49 [==============================] - 1s - loss: 0.0561 - conv2d_306_loss: -0.1231 - class_loss: 0.1793 - conv2d_306_dice_coef: 0.1231 - conv2d_306_acc: 0.9254 - class_dice_coef: 0.8816 - class_acc: 0.9592 - val_loss: 4.2521 - val_conv2d_306_loss: -0.4252 - val_class_loss: 4.6774 - val_conv2d_306_dice_coef: 0.4252 - val_conv2d_306_acc: 0.9992 - val_class_dice_coef: 0.3900 - val_class_acc: 0.3333\n",
      "Train on 49 samples, validate on 6 samples\n",
      "Epoch 1/1\n"
     ]
    },
    {
     "name": "stdout",
     "output_type": "stream",
     "text": [
      "49/49 [==============================] - 1s - loss: 0.0467 - conv2d_306_loss: -0.1144 - class_loss: 0.1611 - conv2d_306_dice_coef: 0.1144 - conv2d_306_acc: 0.9255 - class_dice_coef: 0.8907 - class_acc: 0.9388 - val_loss: 4.6664 - val_conv2d_306_loss: -0.4299 - val_class_loss: 5.0964 - val_conv2d_306_dice_coef: 0.4299 - val_conv2d_306_acc: 0.9993 - val_class_dice_coef: 0.3877 - val_class_acc: 0.3333\n",
      "Train on 49 samples, validate on 6 samples\n",
      "Epoch 1/1\n",
      "49/49 [==============================] - 1s - loss: 0.0369 - conv2d_306_loss: -0.1199 - class_loss: 0.1568 - conv2d_306_dice_coef: 0.1199 - conv2d_306_acc: 0.9255 - class_dice_coef: 0.8891 - class_acc: 0.9388 - val_loss: 4.9213 - val_conv2d_306_loss: -0.4276 - val_class_loss: 5.3489 - val_conv2d_306_dice_coef: 0.4276 - val_conv2d_306_acc: 0.9993 - val_class_dice_coef: 0.3875 - val_class_acc: 0.3333\n",
      "round-- 3\n",
      "Train on 49 samples, validate on 6 samples\n",
      "Epoch 1/1\n",
      "49/49 [==============================] - 1s - loss: 0.0642 - conv2d_306_loss: -0.1671 - class_loss: 0.2313 - conv2d_306_dice_coef: 0.1671 - conv2d_306_acc: 0.9256 - class_dice_coef: 0.8701 - class_acc: 0.9388 - val_loss: 4.8166 - val_conv2d_306_loss: -0.4225 - val_class_loss: 5.2391 - val_conv2d_306_dice_coef: 0.4225 - val_conv2d_306_acc: 0.9991 - val_class_dice_coef: 0.3882 - val_class_acc: 0.3333\n",
      "Train on 49 samples, validate on 6 samples\n",
      "Epoch 1/1\n",
      "49/49 [==============================] - 1s - loss: 0.1494 - conv2d_306_loss: -0.0881 - class_loss: 0.2375 - conv2d_306_dice_coef: 0.0881 - conv2d_306_acc: 0.9257 - class_dice_coef: 0.8769 - class_acc: 0.9184 - val_loss: 4.4922 - val_conv2d_306_loss: -0.4185 - val_class_loss: 4.9107 - val_conv2d_306_dice_coef: 0.4185 - val_conv2d_306_acc: 0.9991 - val_class_dice_coef: 0.3884 - val_class_acc: 0.3333\n",
      "Train on 49 samples, validate on 6 samples\n",
      "Epoch 1/1\n",
      "49/49 [==============================] - 1s - loss: 0.0210 - conv2d_306_loss: -0.1251 - class_loss: 0.1461 - conv2d_306_dice_coef: 0.1251 - conv2d_306_acc: 0.9257 - class_dice_coef: 0.8922 - class_acc: 0.9592 - val_loss: 4.5369 - val_conv2d_306_loss: -0.4197 - val_class_loss: 4.9566 - val_conv2d_306_dice_coef: 0.4197 - val_conv2d_306_acc: 0.9991 - val_class_dice_coef: 0.3877 - val_class_acc: 0.3333\n",
      "Train on 49 samples, validate on 6 samples\n",
      "Epoch 1/1\n",
      "49/49 [==============================] - 1s - loss: 0.1009 - conv2d_306_loss: -0.1028 - class_loss: 0.2038 - conv2d_306_dice_coef: 0.1028 - conv2d_306_acc: 0.9257 - class_dice_coef: 0.8666 - class_acc: 0.9184 - val_loss: 5.4065 - val_conv2d_306_loss: -0.4222 - val_class_loss: 5.8286 - val_conv2d_306_dice_coef: 0.4222 - val_conv2d_306_acc: 0.9992 - val_class_dice_coef: 0.3862 - val_class_acc: 0.3333\n",
      "Train on 49 samples, validate on 6 samples\n",
      "Epoch 1/1\n",
      "49/49 [==============================] - 1s - loss: 0.1423 - conv2d_306_loss: -0.1192 - class_loss: 0.2616 - conv2d_306_dice_coef: 0.1192 - conv2d_306_acc: 0.9257 - class_dice_coef: 0.8849 - class_acc: 0.9388 - val_loss: 4.2100 - val_conv2d_306_loss: -0.4241 - val_class_loss: 4.6340 - val_conv2d_306_dice_coef: 0.4241 - val_conv2d_306_acc: 0.9992 - val_class_dice_coef: 0.3881 - val_class_acc: 0.3333\n",
      "round-- 4\n",
      "Train on 49 samples, validate on 6 samples\n",
      "Epoch 1/1\n",
      "49/49 [==============================] - 1s - loss: 0.1913 - conv2d_306_loss: -0.1739 - class_loss: 0.3652 - conv2d_306_dice_coef: 0.1739 - conv2d_306_acc: 0.9256 - class_dice_coef: 0.8331 - class_acc: 0.8776 - val_loss: 3.5598 - val_conv2d_306_loss: -0.4226 - val_class_loss: 3.9824 - val_conv2d_306_dice_coef: 0.4226 - val_conv2d_306_acc: 0.9992 - val_class_dice_coef: 0.3887 - val_class_acc: 0.3333\n",
      "Train on 49 samples, validate on 6 samples\n",
      "Epoch 1/1\n",
      "49/49 [==============================] - 1s - loss: 0.1536 - conv2d_306_loss: -0.0908 - class_loss: 0.2443 - conv2d_306_dice_coef: 0.0908 - conv2d_306_acc: 0.9255 - class_dice_coef: 0.8537 - class_acc: 0.8571 - val_loss: 3.7820 - val_conv2d_306_loss: -0.4232 - val_class_loss: 4.2053 - val_conv2d_306_dice_coef: 0.4232 - val_conv2d_306_acc: 0.9992 - val_class_dice_coef: 0.3883 - val_class_acc: 0.3333\n",
      "Train on 49 samples, validate on 6 samples\n",
      "Epoch 1/1\n",
      "49/49 [==============================] - 1s - loss: 0.0324 - conv2d_306_loss: -0.1213 - class_loss: 0.1537 - conv2d_306_dice_coef: 0.1213 - conv2d_306_acc: 0.9255 - class_dice_coef: 0.8827 - class_acc: 0.9796 - val_loss: 4.0745 - val_conv2d_306_loss: -0.4259 - val_class_loss: 4.5003 - val_conv2d_306_dice_coef: 0.4259 - val_conv2d_306_acc: 0.9991 - val_class_dice_coef: 0.3867 - val_class_acc: 0.3333\n",
      "Train on 49 samples, validate on 6 samples\n",
      "Epoch 1/1\n",
      "49/49 [==============================] - 1s - loss: 0.0846 - conv2d_306_loss: -0.1086 - class_loss: 0.1932 - conv2d_306_dice_coef: 0.1086 - conv2d_306_acc: 0.9255 - class_dice_coef: 0.8688 - class_acc: 0.9184 - val_loss: 4.5057 - val_conv2d_306_loss: -0.4244 - val_class_loss: 4.9301 - val_conv2d_306_dice_coef: 0.4244 - val_conv2d_306_acc: 0.9992 - val_class_dice_coef: 0.3876 - val_class_acc: 0.3333\n",
      "Train on 49 samples, validate on 6 samples\n",
      "Epoch 1/1\n",
      "49/49 [==============================] - 1s - loss: 0.0932 - conv2d_306_loss: -0.1234 - class_loss: 0.2166 - conv2d_306_dice_coef: 0.1234 - conv2d_306_acc: 0.9255 - class_dice_coef: 0.8770 - class_acc: 0.9184 - val_loss: 4.5692 - val_conv2d_306_loss: -0.4256 - val_class_loss: 4.9948 - val_conv2d_306_dice_coef: 0.4256 - val_conv2d_306_acc: 0.9992 - val_class_dice_coef: 0.3885 - val_class_acc: 0.3333\n",
      "round-- 4\n",
      "Train on 49 samples, validate on 6 samples\n",
      "Epoch 1/1\n",
      "49/49 [==============================] - 1s - loss: 0.0933 - conv2d_306_loss: -0.1771 - class_loss: 0.2704 - conv2d_306_dice_coef: 0.1771 - conv2d_306_acc: 0.9255 - class_dice_coef: 0.8507 - class_acc: 0.9184 - val_loss: 4.2410 - val_conv2d_306_loss: -0.4241 - val_class_loss: 4.6651 - val_conv2d_306_dice_coef: 0.4241 - val_conv2d_306_acc: 0.9992 - val_class_dice_coef: 0.3905 - val_class_acc: 0.3333\n",
      "Train on 49 samples, validate on 6 samples\n",
      "Epoch 1/1\n",
      "49/49 [==============================] - 1s - loss: 0.1284 - conv2d_306_loss: -0.0918 - class_loss: 0.2202 - conv2d_306_dice_coef: 0.0918 - conv2d_306_acc: 0.9255 - class_dice_coef: 0.8696 - class_acc: 0.9388 - val_loss: 3.9607 - val_conv2d_306_loss: -0.4261 - val_class_loss: 4.3868 - val_conv2d_306_dice_coef: 0.4261 - val_conv2d_306_acc: 0.9992 - val_class_dice_coef: 0.3891 - val_class_acc: 0.3333\n",
      "Train on 49 samples, validate on 6 samples\n",
      "Epoch 1/1\n",
      "49/49 [==============================] - 1s - loss: 0.1734 - conv2d_306_loss: -0.1225 - class_loss: 0.2959 - conv2d_306_dice_coef: 0.1225 - conv2d_306_acc: 0.9254 - class_dice_coef: 0.8645 - class_acc: 0.9388 - val_loss: 3.7962 - val_conv2d_306_loss: -0.4270 - val_class_loss: 4.2232 - val_conv2d_306_dice_coef: 0.4270 - val_conv2d_306_acc: 0.9992 - val_class_dice_coef: 0.3855 - val_class_acc: 0.3333\n",
      "Train on 49 samples, validate on 6 samples\n",
      "Epoch 1/1\n",
      "49/49 [==============================] - 1s - loss: 0.0197 - conv2d_306_loss: -0.1062 - class_loss: 0.1259 - conv2d_306_dice_coef: 0.1062 - conv2d_306_acc: 0.9254 - class_dice_coef: 0.9078 - class_acc: 0.9796 - val_loss: 3.3174 - val_conv2d_306_loss: -0.4266 - val_class_loss: 3.7440 - val_conv2d_306_dice_coef: 0.4266 - val_conv2d_306_acc: 0.9992 - val_class_dice_coef: 0.3749 - val_class_acc: 0.3333\n",
      "Train on 49 samples, validate on 6 samples\n",
      "Epoch 1/1\n",
      "49/49 [==============================] - 1s - loss: 0.1708 - conv2d_306_loss: -0.1201 - class_loss: 0.2908 - conv2d_306_dice_coef: 0.1201 - conv2d_306_acc: 0.9254 - class_dice_coef: 0.8643 - class_acc: 0.8980 - val_loss: 3.8234 - val_conv2d_306_loss: -0.4224 - val_class_loss: 4.2458 - val_conv2d_306_dice_coef: 0.4224 - val_conv2d_306_acc: 0.9992 - val_class_dice_coef: 0.3849 - val_class_acc: 0.3333\n",
      "round-- 4\n",
      "Train on 49 samples, validate on 6 samples\n",
      "Epoch 1/1\n",
      "49/49 [==============================] - 1s - loss: 0.1025 - conv2d_306_loss: -0.1804 - class_loss: 0.2829 - conv2d_306_dice_coef: 0.1804 - conv2d_306_acc: 0.9254 - class_dice_coef: 0.8446 - class_acc: 0.8776 - val_loss: 4.0836 - val_conv2d_306_loss: -0.4210 - val_class_loss: 4.5046 - val_conv2d_306_dice_coef: 0.4210 - val_conv2d_306_acc: 0.9992 - val_class_dice_coef: 0.3862 - val_class_acc: 0.3333\n",
      "Train on 49 samples, validate on 6 samples\n",
      "Epoch 1/1\n"
     ]
    },
    {
     "name": "stdout",
     "output_type": "stream",
     "text": [
      "49/49 [==============================] - 1s - loss: 0.0967 - conv2d_306_loss: -0.0922 - class_loss: 0.1889 - conv2d_306_dice_coef: 0.0922 - conv2d_306_acc: 0.9254 - class_dice_coef: 0.8842 - class_acc: 0.9592 - val_loss: 4.0993 - val_conv2d_306_loss: -0.4219 - val_class_loss: 4.5212 - val_conv2d_306_dice_coef: 0.4219 - val_conv2d_306_acc: 0.9991 - val_class_dice_coef: 0.3870 - val_class_acc: 0.3333\n",
      "Train on 49 samples, validate on 6 samples\n",
      "Epoch 1/1\n",
      "49/49 [==============================] - 1s - loss: 0.0370 - conv2d_306_loss: -0.1209 - class_loss: 0.1580 - conv2d_306_dice_coef: 0.1209 - conv2d_306_acc: 0.9254 - class_dice_coef: 0.8902 - class_acc: 0.9592 - val_loss: 4.1563 - val_conv2d_306_loss: -0.4241 - val_class_loss: 4.5804 - val_conv2d_306_dice_coef: 0.4241 - val_conv2d_306_acc: 0.9992 - val_class_dice_coef: 0.3853 - val_class_acc: 0.3333\n",
      "Train on 49 samples, validate on 6 samples\n",
      "Epoch 1/1\n",
      "49/49 [==============================] - 1s - loss: 0.0342 - conv2d_306_loss: -0.1073 - class_loss: 0.1415 - conv2d_306_dice_coef: 0.1073 - conv2d_306_acc: 0.9255 - class_dice_coef: 0.8939 - class_acc: 0.9796 - val_loss: 4.4260 - val_conv2d_306_loss: -0.4260 - val_class_loss: 4.8520 - val_conv2d_306_dice_coef: 0.4260 - val_conv2d_306_acc: 0.9992 - val_class_dice_coef: 0.3855 - val_class_acc: 0.3333\n",
      "Train on 49 samples, validate on 6 samples\n",
      "Epoch 1/1\n",
      "49/49 [==============================] - 1s - loss: 0.0373 - conv2d_306_loss: -0.1152 - class_loss: 0.1524 - conv2d_306_dice_coef: 0.1152 - conv2d_306_acc: 0.9255 - class_dice_coef: 0.8959 - class_acc: 0.9184 - val_loss: 4.9347 - val_conv2d_306_loss: -0.4259 - val_class_loss: 5.3606 - val_conv2d_306_dice_coef: 0.4259 - val_conv2d_306_acc: 0.9992 - val_class_dice_coef: 0.3860 - val_class_acc: 0.3333\n",
      "round-- 5\n",
      "Train on 49 samples, validate on 6 samples\n",
      "Epoch 1/1\n",
      "49/49 [==============================] - 1s - loss: -7.7640e-04 - conv2d_306_loss: -0.1779 - class_loss: 0.1772 - conv2d_306_dice_coef: 0.1779 - conv2d_306_acc: 0.9255 - class_dice_coef: 0.8896 - class_acc: 0.9796 - val_loss: 4.9185 - val_conv2d_306_loss: -0.4253 - val_class_loss: 5.3438 - val_conv2d_306_dice_coef: 0.4253 - val_conv2d_306_acc: 0.9992 - val_class_dice_coef: 0.3864 - val_class_acc: 0.3333\n",
      "Train on 49 samples, validate on 6 samples\n",
      "Epoch 1/1\n",
      "49/49 [==============================] - 1s - loss: 0.1507 - conv2d_306_loss: -0.0957 - class_loss: 0.2464 - conv2d_306_dice_coef: 0.0957 - conv2d_306_acc: 0.9255 - class_dice_coef: 0.8718 - class_acc: 0.8980 - val_loss: 4.6854 - val_conv2d_306_loss: -0.4276 - val_class_loss: 5.1130 - val_conv2d_306_dice_coef: 0.4276 - val_conv2d_306_acc: 0.9992 - val_class_dice_coef: 0.3863 - val_class_acc: 0.3333\n",
      "Train on 49 samples, validate on 6 samples\n",
      "Epoch 1/1\n",
      "49/49 [==============================] - 1s - loss: -0.0328 - conv2d_306_loss: -0.1211 - class_loss: 0.0882 - conv2d_306_dice_coef: 0.1211 - conv2d_306_acc: 0.9255 - class_dice_coef: 0.9386 - class_acc: 0.9592 - val_loss: 4.6723 - val_conv2d_306_loss: -0.4242 - val_class_loss: 5.0964 - val_conv2d_306_dice_coef: 0.4242 - val_conv2d_306_acc: 0.9992 - val_class_dice_coef: 0.3863 - val_class_acc: 0.3333\n",
      "Train on 49 samples, validate on 6 samples\n",
      "Epoch 1/1\n",
      "49/49 [==============================] - 1s - loss: 0.1114 - conv2d_306_loss: -0.1172 - class_loss: 0.2286 - conv2d_306_dice_coef: 0.1172 - conv2d_306_acc: 0.9255 - class_dice_coef: 0.8636 - class_acc: 0.8776 - val_loss: 4.5494 - val_conv2d_306_loss: -0.4287 - val_class_loss: 4.9781 - val_conv2d_306_dice_coef: 0.4287 - val_conv2d_306_acc: 0.9993 - val_class_dice_coef: 0.3859 - val_class_acc: 0.3333\n",
      "Train on 49 samples, validate on 6 samples\n",
      "Epoch 1/1\n",
      "49/49 [==============================] - 1s - loss: 0.0248 - conv2d_306_loss: -0.1166 - class_loss: 0.1414 - conv2d_306_dice_coef: 0.1166 - conv2d_306_acc: 0.9255 - class_dice_coef: 0.9033 - class_acc: 0.9388 - val_loss: 4.7447 - val_conv2d_306_loss: -0.4352 - val_class_loss: 5.1799 - val_conv2d_306_dice_coef: 0.4352 - val_conv2d_306_acc: 0.9993 - val_class_dice_coef: 0.3859 - val_class_acc: 0.3333\n",
      "round-- 5\n",
      "Train on 49 samples, validate on 6 samples\n",
      "Epoch 1/1\n",
      "49/49 [==============================] - 1s - loss: 0.2806 - conv2d_306_loss: -0.1696 - class_loss: 0.4502 - conv2d_306_dice_coef: 0.1696 - conv2d_306_acc: 0.9255 - class_dice_coef: 0.8080 - class_acc: 0.8367 - val_loss: 4.7267 - val_conv2d_306_loss: -0.4357 - val_class_loss: 5.1624 - val_conv2d_306_dice_coef: 0.4357 - val_conv2d_306_acc: 0.9993 - val_class_dice_coef: 0.3867 - val_class_acc: 0.3333\n",
      "Train on 49 samples, validate on 6 samples\n",
      "Epoch 1/1\n",
      "49/49 [==============================] - 1s - loss: 0.0729 - conv2d_306_loss: -0.0865 - class_loss: 0.1594 - conv2d_306_dice_coef: 0.0865 - conv2d_306_acc: 0.9256 - class_dice_coef: 0.8951 - class_acc: 0.9388 - val_loss: 4.2356 - val_conv2d_306_loss: -0.4219 - val_class_loss: 4.6575 - val_conv2d_306_dice_coef: 0.4219 - val_conv2d_306_acc: 0.9992 - val_class_dice_coef: 0.3876 - val_class_acc: 0.3333\n",
      "Train on 49 samples, validate on 6 samples\n",
      "Epoch 1/1\n",
      "49/49 [==============================] - 1s - loss: 0.0585 - conv2d_306_loss: -0.1207 - class_loss: 0.1792 - conv2d_306_dice_coef: 0.1207 - conv2d_306_acc: 0.9257 - class_dice_coef: 0.8989 - class_acc: 0.9592 - val_loss: 3.8156 - val_conv2d_306_loss: -0.4189 - val_class_loss: 4.2344 - val_conv2d_306_dice_coef: 0.4189 - val_conv2d_306_acc: 0.9992 - val_class_dice_coef: 0.3880 - val_class_acc: 0.3333\n",
      "Train on 49 samples, validate on 6 samples\n",
      "Epoch 1/1\n",
      "49/49 [==============================] - 1s - loss: 0.0618 - conv2d_306_loss: -0.1075 - class_loss: 0.1693 - conv2d_306_dice_coef: 0.1075 - conv2d_306_acc: 0.9257 - class_dice_coef: 0.8900 - class_acc: 0.9592 - val_loss: 3.9110 - val_conv2d_306_loss: -0.4200 - val_class_loss: 4.3311 - val_conv2d_306_dice_coef: 0.4200 - val_conv2d_306_acc: 0.9992 - val_class_dice_coef: 0.3906 - val_class_acc: 0.3333\n",
      "Train on 49 samples, validate on 6 samples\n",
      "Epoch 1/1\n",
      "49/49 [==============================] - 1s - loss: 0.0910 - conv2d_306_loss: -0.1210 - class_loss: 0.2120 - conv2d_306_dice_coef: 0.1210 - conv2d_306_acc: 0.9257 - class_dice_coef: 0.8635 - class_acc: 0.8980 - val_loss: 4.0467 - val_conv2d_306_loss: -0.4225 - val_class_loss: 4.4692 - val_conv2d_306_dice_coef: 0.4225 - val_conv2d_306_acc: 0.9992 - val_class_dice_coef: 0.3894 - val_class_acc: 0.3333\n",
      "round-- 5\n",
      "Train on 49 samples, validate on 6 samples\n",
      "Epoch 1/1\n",
      "49/49 [==============================] - 1s - loss: 0.0139 - conv2d_306_loss: -0.1775 - class_loss: 0.1915 - conv2d_306_dice_coef: 0.1775 - conv2d_306_acc: 0.9257 - class_dice_coef: 0.8753 - class_acc: 0.9184 - val_loss: 4.3423 - val_conv2d_306_loss: -0.4209 - val_class_loss: 4.7632 - val_conv2d_306_dice_coef: 0.4209 - val_conv2d_306_acc: 0.9993 - val_class_dice_coef: 0.3888 - val_class_acc: 0.3333\n",
      "Train on 49 samples, validate on 6 samples\n",
      "Epoch 1/1\n",
      "49/49 [==============================] - 1s - loss: 0.1426 - conv2d_306_loss: -0.0914 - class_loss: 0.2340 - conv2d_306_dice_coef: 0.0914 - conv2d_306_acc: 0.9257 - class_dice_coef: 0.8695 - class_acc: 0.9184 - val_loss: 4.0675 - val_conv2d_306_loss: -0.4218 - val_class_loss: 4.4893 - val_conv2d_306_dice_coef: 0.4218 - val_conv2d_306_acc: 0.9993 - val_class_dice_coef: 0.3902 - val_class_acc: 0.3333\n",
      "Train on 49 samples, validate on 6 samples\n",
      "Epoch 1/1\n",
      "49/49 [==============================] - 1s - loss: -0.0163 - conv2d_306_loss: -0.1230 - class_loss: 0.1067 - conv2d_306_dice_coef: 0.1230 - conv2d_306_acc: 0.9256 - class_dice_coef: 0.9176 - class_acc: 1.0000 - val_loss: 4.0371 - val_conv2d_306_loss: -0.4246 - val_class_loss: 4.4617 - val_conv2d_306_dice_coef: 0.4246 - val_conv2d_306_acc: 0.9993 - val_class_dice_coef: 0.3903 - val_class_acc: 0.3333\n",
      "Train on 49 samples, validate on 6 samples\n",
      "Epoch 1/1\n",
      "49/49 [==============================] - 1s - loss: 0.0904 - conv2d_306_loss: -0.1075 - class_loss: 0.1979 - conv2d_306_dice_coef: 0.1075 - conv2d_306_acc: 0.9255 - class_dice_coef: 0.8785 - class_acc: 0.9388 - val_loss: 4.1777 - val_conv2d_306_loss: -0.4339 - val_class_loss: 4.6117 - val_conv2d_306_dice_coef: 0.4339 - val_conv2d_306_acc: 0.9993 - val_class_dice_coef: 0.3906 - val_class_acc: 0.3333\n",
      "Train on 49 samples, validate on 6 samples\n",
      "Epoch 1/1\n"
     ]
    },
    {
     "name": "stdout",
     "output_type": "stream",
     "text": [
      "49/49 [==============================] - 1s - loss: -0.0050 - conv2d_306_loss: -0.1093 - class_loss: 0.1043 - conv2d_306_dice_coef: 0.1093 - conv2d_306_acc: 0.9256 - class_dice_coef: 0.9301 - class_acc: 0.9796 - val_loss: 4.5926 - val_conv2d_306_loss: -0.4307 - val_class_loss: 5.0233 - val_conv2d_306_dice_coef: 0.4307 - val_conv2d_306_acc: 0.9993 - val_class_dice_coef: 0.3882 - val_class_acc: 0.3333\n",
      "round-- 6\n",
      "Train on 49 samples, validate on 6 samples\n",
      "Epoch 1/1\n",
      "49/49 [==============================] - 1s - loss: -0.0108 - conv2d_306_loss: -0.1778 - class_loss: 0.1670 - conv2d_306_dice_coef: 0.1778 - conv2d_306_acc: 0.9256 - class_dice_coef: 0.8907 - class_acc: 0.9184 - val_loss: 4.5348 - val_conv2d_306_loss: -0.4184 - val_class_loss: 4.9532 - val_conv2d_306_dice_coef: 0.4184 - val_conv2d_306_acc: 0.9993 - val_class_dice_coef: 0.3868 - val_class_acc: 0.3333\n",
      "Train on 49 samples, validate on 6 samples\n",
      "Epoch 1/1\n",
      "49/49 [==============================] - 1s - loss: 0.0149 - conv2d_306_loss: -0.0940 - class_loss: 0.1089 - conv2d_306_dice_coef: 0.0940 - conv2d_306_acc: 0.9256 - class_dice_coef: 0.9207 - class_acc: 0.9592 - val_loss: 4.7300 - val_conv2d_306_loss: -0.4195 - val_class_loss: 5.1495 - val_conv2d_306_dice_coef: 0.4195 - val_conv2d_306_acc: 0.9993 - val_class_dice_coef: 0.3872 - val_class_acc: 0.3333\n",
      "Train on 49 samples, validate on 6 samples\n",
      "Epoch 1/1\n",
      "49/49 [==============================] - 1s - loss: -0.0529 - conv2d_306_loss: -0.1221 - class_loss: 0.0692 - conv2d_306_dice_coef: 0.1221 - conv2d_306_acc: 0.9256 - class_dice_coef: 0.9457 - class_acc: 0.9796 - val_loss: 5.0207 - val_conv2d_306_loss: -0.4177 - val_class_loss: 5.4384 - val_conv2d_306_dice_coef: 0.4177 - val_conv2d_306_acc: 0.9993 - val_class_dice_coef: 0.3874 - val_class_acc: 0.3333\n",
      "Train on 49 samples, validate on 6 samples\n",
      "Epoch 1/1\n",
      "49/49 [==============================] - 1s - loss: 0.0393 - conv2d_306_loss: -0.1062 - class_loss: 0.1455 - conv2d_306_dice_coef: 0.1062 - conv2d_306_acc: 0.9256 - class_dice_coef: 0.9054 - class_acc: 0.9592 - val_loss: 5.0848 - val_conv2d_306_loss: -0.4184 - val_class_loss: 5.5031 - val_conv2d_306_dice_coef: 0.4184 - val_conv2d_306_acc: 0.9993 - val_class_dice_coef: 0.3871 - val_class_acc: 0.3333\n",
      "Train on 49 samples, validate on 6 samples\n",
      "Epoch 1/1\n",
      "49/49 [==============================] - 1s - loss: 0.0032 - conv2d_306_loss: -0.1213 - class_loss: 0.1246 - conv2d_306_dice_coef: 0.1213 - conv2d_306_acc: 0.9257 - class_dice_coef: 0.9098 - class_acc: 0.9796 - val_loss: 5.1656 - val_conv2d_306_loss: -0.4182 - val_class_loss: 5.5838 - val_conv2d_306_dice_coef: 0.4182 - val_conv2d_306_acc: 0.9993 - val_class_dice_coef: 0.3868 - val_class_acc: 0.3333\n",
      "round-- 6\n",
      "Train on 49 samples, validate on 6 samples\n",
      "Epoch 1/1\n",
      "49/49 [==============================] - 1s - loss: 0.0739 - conv2d_306_loss: -0.1700 - class_loss: 0.2438 - conv2d_306_dice_coef: 0.1700 - conv2d_306_acc: 0.9256 - class_dice_coef: 0.8661 - class_acc: 0.8776 - val_loss: 4.7697 - val_conv2d_306_loss: -0.4201 - val_class_loss: 5.1898 - val_conv2d_306_dice_coef: 0.4201 - val_conv2d_306_acc: 0.9993 - val_class_dice_coef: 0.3867 - val_class_acc: 0.3333\n",
      "Train on 49 samples, validate on 6 samples\n",
      "Epoch 1/1\n",
      "49/49 [==============================] - 1s - loss: 0.0285 - conv2d_306_loss: -0.0933 - class_loss: 0.1218 - conv2d_306_dice_coef: 0.0933 - conv2d_306_acc: 0.9256 - class_dice_coef: 0.9283 - class_acc: 0.9592 - val_loss: 4.3686 - val_conv2d_306_loss: -0.4171 - val_class_loss: 4.7857 - val_conv2d_306_dice_coef: 0.4171 - val_conv2d_306_acc: 0.9993 - val_class_dice_coef: 0.3792 - val_class_acc: 0.3333\n",
      "Train on 49 samples, validate on 6 samples\n",
      "Epoch 1/1\n",
      "49/49 [==============================] - 1s - loss: 0.0011 - conv2d_306_loss: -0.1166 - class_loss: 0.1177 - conv2d_306_dice_coef: 0.1166 - conv2d_306_acc: 0.9256 - class_dice_coef: 0.9181 - class_acc: 0.9184 - val_loss: 4.4586 - val_conv2d_306_loss: -0.4185 - val_class_loss: 4.8771 - val_conv2d_306_dice_coef: 0.4185 - val_conv2d_306_acc: 0.9993 - val_class_dice_coef: 0.3815 - val_class_acc: 0.3333\n",
      "Train on 49 samples, validate on 6 samples\n",
      "Epoch 1/1\n",
      "49/49 [==============================] - 1s - loss: 0.0339 - conv2d_306_loss: -0.1140 - class_loss: 0.1479 - conv2d_306_dice_coef: 0.1140 - conv2d_306_acc: 0.9256 - class_dice_coef: 0.9045 - class_acc: 0.9184 - val_loss: 4.4544 - val_conv2d_306_loss: -0.4292 - val_class_loss: 4.8836 - val_conv2d_306_dice_coef: 0.4292 - val_conv2d_306_acc: 0.9993 - val_class_dice_coef: 0.3854 - val_class_acc: 0.3333\n",
      "Train on 49 samples, validate on 6 samples\n",
      "Epoch 1/1\n",
      "49/49 [==============================] - 1s - loss: 0.1190 - conv2d_306_loss: -0.1163 - class_loss: 0.2353 - conv2d_306_dice_coef: 0.1163 - conv2d_306_acc: 0.9257 - class_dice_coef: 0.8663 - class_acc: 0.9184 - val_loss: 4.8020 - val_conv2d_306_loss: -0.4296 - val_class_loss: 5.2316 - val_conv2d_306_dice_coef: 0.4296 - val_conv2d_306_acc: 0.9993 - val_class_dice_coef: 0.3875 - val_class_acc: 0.3333\n",
      "round-- 6\n",
      "Train on 49 samples, validate on 6 samples\n",
      "Epoch 1/1\n",
      "49/49 [==============================] - 1s - loss: 0.0562 - conv2d_306_loss: -0.1716 - class_loss: 0.2278 - conv2d_306_dice_coef: 0.1716 - conv2d_306_acc: 0.9256 - class_dice_coef: 0.8909 - class_acc: 0.9796 - val_loss: 4.9514 - val_conv2d_306_loss: -0.4148 - val_class_loss: 5.3662 - val_conv2d_306_dice_coef: 0.4148 - val_conv2d_306_acc: 0.9993 - val_class_dice_coef: 0.3886 - val_class_acc: 0.3333\n",
      "Train on 49 samples, validate on 6 samples\n",
      "Epoch 1/1\n",
      "49/49 [==============================] - 1s - loss: 0.0636 - conv2d_306_loss: -0.0951 - class_loss: 0.1587 - conv2d_306_dice_coef: 0.0951 - conv2d_306_acc: 0.9257 - class_dice_coef: 0.9122 - class_acc: 0.9388 - val_loss: 4.7402 - val_conv2d_306_loss: -0.4143 - val_class_loss: 5.1545 - val_conv2d_306_dice_coef: 0.4143 - val_conv2d_306_acc: 0.9993 - val_class_dice_coef: 0.3909 - val_class_acc: 0.3333\n",
      "Train on 49 samples, validate on 6 samples\n",
      "Epoch 1/1\n",
      "49/49 [==============================] - 1s - loss: 0.0442 - conv2d_306_loss: -0.1221 - class_loss: 0.1662 - conv2d_306_dice_coef: 0.1221 - conv2d_306_acc: 0.9257 - class_dice_coef: 0.8941 - class_acc: 0.9592 - val_loss: 4.4307 - val_conv2d_306_loss: -0.4138 - val_class_loss: 4.8446 - val_conv2d_306_dice_coef: 0.4138 - val_conv2d_306_acc: 0.9993 - val_class_dice_coef: 0.3950 - val_class_acc: 0.3333\n",
      "Train on 49 samples, validate on 6 samples\n",
      "Epoch 1/1\n",
      "49/49 [==============================] - 1s - loss: 0.1952 - conv2d_306_loss: -0.1086 - class_loss: 0.3038 - conv2d_306_dice_coef: 0.1086 - conv2d_306_acc: 0.9256 - class_dice_coef: 0.8729 - class_acc: 0.9184 - val_loss: 4.3628 - val_conv2d_306_loss: -0.4181 - val_class_loss: 4.7810 - val_conv2d_306_dice_coef: 0.4181 - val_conv2d_306_acc: 0.9993 - val_class_dice_coef: 0.3948 - val_class_acc: 0.3333\n",
      "Train on 49 samples, validate on 6 samples\n",
      "Epoch 1/1\n",
      "49/49 [==============================] - 1s - loss: 0.0010 - conv2d_306_loss: -0.1188 - class_loss: 0.1198 - conv2d_306_dice_coef: 0.1188 - conv2d_306_acc: 0.9257 - class_dice_coef: 0.9165 - class_acc: 0.9388 - val_loss: 4.4494 - val_conv2d_306_loss: -0.4132 - val_class_loss: 4.8626 - val_conv2d_306_dice_coef: 0.4132 - val_conv2d_306_acc: 0.9993 - val_class_dice_coef: 0.3958 - val_class_acc: 0.3333\n",
      "round-- 7\n",
      "Train on 49 samples, validate on 6 samples\n",
      "Epoch 1/1\n",
      "49/49 [==============================] - 1s - loss: 0.0608 - conv2d_306_loss: -0.1728 - class_loss: 0.2336 - conv2d_306_dice_coef: 0.1728 - conv2d_306_acc: 0.9256 - class_dice_coef: 0.8716 - class_acc: 0.9592 - val_loss: 4.6060 - val_conv2d_306_loss: -0.4161 - val_class_loss: 5.0221 - val_conv2d_306_dice_coef: 0.4161 - val_conv2d_306_acc: 0.9993 - val_class_dice_coef: 0.3952 - val_class_acc: 0.3333\n",
      "Train on 49 samples, validate on 6 samples\n",
      "Epoch 1/1\n",
      "49/49 [==============================] - 1s - loss: 0.0896 - conv2d_306_loss: -0.0939 - class_loss: 0.1835 - conv2d_306_dice_coef: 0.0939 - conv2d_306_acc: 0.9257 - class_dice_coef: 0.9032 - class_acc: 0.8980 - val_loss: 4.5313 - val_conv2d_306_loss: -0.4161 - val_class_loss: 4.9474 - val_conv2d_306_dice_coef: 0.4161 - val_conv2d_306_acc: 0.9993 - val_class_dice_coef: 0.3956 - val_class_acc: 0.3333\n",
      "Train on 49 samples, validate on 6 samples\n",
      "Epoch 1/1\n"
     ]
    },
    {
     "name": "stdout",
     "output_type": "stream",
     "text": [
      "49/49 [==============================] - 1s - loss: -0.0125 - conv2d_306_loss: -0.1218 - class_loss: 0.1093 - conv2d_306_dice_coef: 0.1218 - conv2d_306_acc: 0.9256 - class_dice_coef: 0.9269 - class_acc: 0.9592 - val_loss: 4.5618 - val_conv2d_306_loss: -0.4151 - val_class_loss: 4.9769 - val_conv2d_306_dice_coef: 0.4151 - val_conv2d_306_acc: 0.9993 - val_class_dice_coef: 0.3934 - val_class_acc: 0.3333\n",
      "Train on 49 samples, validate on 6 samples\n",
      "Epoch 1/1\n",
      "49/49 [==============================] - 1s - loss: -0.0073 - conv2d_306_loss: -0.1104 - class_loss: 0.1031 - conv2d_306_dice_coef: 0.1104 - conv2d_306_acc: 0.9256 - class_dice_coef: 0.9267 - class_acc: 0.9592 - val_loss: 4.5558 - val_conv2d_306_loss: -0.4182 - val_class_loss: 4.9739 - val_conv2d_306_dice_coef: 0.4182 - val_conv2d_306_acc: 0.9993 - val_class_dice_coef: 0.3906 - val_class_acc: 0.3333\n",
      "Train on 49 samples, validate on 6 samples\n",
      "Epoch 1/1\n",
      "49/49 [==============================] - 1s - loss: 0.0114 - conv2d_306_loss: -0.1241 - class_loss: 0.1354 - conv2d_306_dice_coef: 0.1241 - conv2d_306_acc: 0.9256 - class_dice_coef: 0.9021 - class_acc: 0.9592 - val_loss: 4.6905 - val_conv2d_306_loss: -0.4181 - val_class_loss: 5.1086 - val_conv2d_306_dice_coef: 0.4181 - val_conv2d_306_acc: 0.9993 - val_class_dice_coef: 0.3888 - val_class_acc: 0.3333\n",
      "round-- 7\n",
      "Train on 49 samples, validate on 6 samples\n",
      "Epoch 1/1\n",
      "49/49 [==============================] - 1s - loss: -0.0800 - conv2d_306_loss: -0.1763 - class_loss: 0.0963 - conv2d_306_dice_coef: 0.1763 - conv2d_306_acc: 0.9256 - class_dice_coef: 0.9262 - class_acc: 0.9796 - val_loss: 5.0155 - val_conv2d_306_loss: -0.4161 - val_class_loss: 5.4316 - val_conv2d_306_dice_coef: 0.4161 - val_conv2d_306_acc: 0.9993 - val_class_dice_coef: 0.3879 - val_class_acc: 0.3333\n",
      "Train on 49 samples, validate on 6 samples\n",
      "Epoch 1/1\n",
      "49/49 [==============================] - 1s - loss: 0.0806 - conv2d_306_loss: -0.0910 - class_loss: 0.1716 - conv2d_306_dice_coef: 0.0910 - conv2d_306_acc: 0.9256 - class_dice_coef: 0.9209 - class_acc: 0.9592 - val_loss: 5.0954 - val_conv2d_306_loss: -0.4166 - val_class_loss: 5.5120 - val_conv2d_306_dice_coef: 0.4166 - val_conv2d_306_acc: 0.9993 - val_class_dice_coef: 0.3886 - val_class_acc: 0.3333\n",
      "Train on 49 samples, validate on 6 samples\n",
      "Epoch 1/1\n",
      "49/49 [==============================] - 1s - loss: -0.0573 - conv2d_306_loss: -0.1244 - class_loss: 0.0672 - conv2d_306_dice_coef: 0.1244 - conv2d_306_acc: 0.9256 - class_dice_coef: 0.9460 - class_acc: 1.0000 - val_loss: 4.8379 - val_conv2d_306_loss: -0.4179 - val_class_loss: 5.2558 - val_conv2d_306_dice_coef: 0.4179 - val_conv2d_306_acc: 0.9993 - val_class_dice_coef: 0.3910 - val_class_acc: 0.3333\n",
      "Train on 49 samples, validate on 6 samples\n",
      "Epoch 1/1\n",
      "49/49 [==============================] - 1s - loss: 0.0087 - conv2d_306_loss: -0.1148 - class_loss: 0.1236 - conv2d_306_dice_coef: 0.1148 - conv2d_306_acc: 0.9255 - class_dice_coef: 0.9260 - class_acc: 0.9592 - val_loss: 4.7943 - val_conv2d_306_loss: -0.4235 - val_class_loss: 5.2178 - val_conv2d_306_dice_coef: 0.4235 - val_conv2d_306_acc: 0.9993 - val_class_dice_coef: 0.3929 - val_class_acc: 0.3333\n",
      "Train on 49 samples, validate on 6 samples\n",
      "Epoch 1/1\n",
      "49/49 [==============================] - 1s - loss: 0.0200 - conv2d_306_loss: -0.1160 - class_loss: 0.1360 - conv2d_306_dice_coef: 0.1160 - conv2d_306_acc: 0.9256 - class_dice_coef: 0.9233 - class_acc: 0.9388 - val_loss: 5.0563 - val_conv2d_306_loss: -0.4292 - val_class_loss: 5.4855 - val_conv2d_306_dice_coef: 0.4292 - val_conv2d_306_acc: 0.9993 - val_class_dice_coef: 0.3911 - val_class_acc: 0.3333\n",
      "round-- 7\n",
      "Train on 49 samples, validate on 6 samples\n",
      "Epoch 1/1\n",
      "49/49 [==============================] - 1s - loss: -0.0828 - conv2d_306_loss: -0.1716 - class_loss: 0.0887 - conv2d_306_dice_coef: 0.1716 - conv2d_306_acc: 0.9256 - class_dice_coef: 0.9381 - class_acc: 0.9592 - val_loss: 5.2637 - val_conv2d_306_loss: -0.4164 - val_class_loss: 5.6801 - val_conv2d_306_dice_coef: 0.4164 - val_conv2d_306_acc: 0.9994 - val_class_dice_coef: 0.3889 - val_class_acc: 0.3333\n",
      "Train on 49 samples, validate on 6 samples\n",
      "Epoch 1/1\n",
      "49/49 [==============================] - 1s - loss: 0.0787 - conv2d_306_loss: -0.0959 - class_loss: 0.1746 - conv2d_306_dice_coef: 0.0959 - conv2d_306_acc: 0.9257 - class_dice_coef: 0.8992 - class_acc: 0.8980 - val_loss: 5.2168 - val_conv2d_306_loss: -0.4166 - val_class_loss: 5.6333 - val_conv2d_306_dice_coef: 0.4166 - val_conv2d_306_acc: 0.9994 - val_class_dice_coef: 0.3891 - val_class_acc: 0.3333\n",
      "Train on 49 samples, validate on 6 samples\n",
      "Epoch 1/1\n",
      "49/49 [==============================] - 1s - loss: -0.0260 - conv2d_306_loss: -0.1222 - class_loss: 0.0962 - conv2d_306_dice_coef: 0.1222 - conv2d_306_acc: 0.9257 - class_dice_coef: 0.9394 - class_acc: 0.9388 - val_loss: 5.3313 - val_conv2d_306_loss: -0.4176 - val_class_loss: 5.7490 - val_conv2d_306_dice_coef: 0.4176 - val_conv2d_306_acc: 0.9994 - val_class_dice_coef: 0.3883 - val_class_acc: 0.3333\n",
      "Train on 49 samples, validate on 6 samples\n",
      "Epoch 1/1\n",
      "49/49 [==============================] - 1s - loss: 0.0616 - conv2d_306_loss: -0.1107 - class_loss: 0.1723 - conv2d_306_dice_coef: 0.1107 - conv2d_306_acc: 0.9257 - class_dice_coef: 0.9083 - class_acc: 0.9388 - val_loss: 5.5238 - val_conv2d_306_loss: -0.4281 - val_class_loss: 5.9519 - val_conv2d_306_dice_coef: 0.4281 - val_conv2d_306_acc: 0.9994 - val_class_dice_coef: 0.3872 - val_class_acc: 0.3333\n",
      "Train on 49 samples, validate on 6 samples\n",
      "Epoch 1/1\n",
      "49/49 [==============================] - 1s - loss: 0.0015 - conv2d_306_loss: -0.1133 - class_loss: 0.1147 - conv2d_306_dice_coef: 0.1133 - conv2d_306_acc: 0.9257 - class_dice_coef: 0.9330 - class_acc: 0.9796 - val_loss: 5.5380 - val_conv2d_306_loss: -0.4259 - val_class_loss: 5.9639 - val_conv2d_306_dice_coef: 0.4259 - val_conv2d_306_acc: 0.9994 - val_class_dice_coef: 0.3874 - val_class_acc: 0.3333\n",
      "round-- 8\n",
      "Train on 49 samples, validate on 6 samples\n",
      "Epoch 1/1\n",
      "49/49 [==============================] - 1s - loss: 0.0380 - conv2d_306_loss: -0.1693 - class_loss: 0.2073 - conv2d_306_dice_coef: 0.1693 - conv2d_306_acc: 0.9256 - class_dice_coef: 0.8839 - class_acc: 0.9184 - val_loss: 5.1553 - val_conv2d_306_loss: -0.4188 - val_class_loss: 5.5741 - val_conv2d_306_dice_coef: 0.4188 - val_conv2d_306_acc: 0.9994 - val_class_dice_coef: 0.3898 - val_class_acc: 0.3333\n",
      "Train on 49 samples, validate on 6 samples\n",
      "Epoch 1/1\n",
      "49/49 [==============================] - 1s - loss: 0.0931 - conv2d_306_loss: -0.0927 - class_loss: 0.1858 - conv2d_306_dice_coef: 0.0927 - conv2d_306_acc: 0.9257 - class_dice_coef: 0.8940 - class_acc: 0.9184 - val_loss: 4.5231 - val_conv2d_306_loss: -0.4177 - val_class_loss: 4.9408 - val_conv2d_306_dice_coef: 0.4177 - val_conv2d_306_acc: 0.9994 - val_class_dice_coef: 0.3963 - val_class_acc: 0.3333\n",
      "Train on 49 samples, validate on 6 samples\n",
      "Epoch 1/1\n",
      "49/49 [==============================] - 1s - loss: -0.0254 - conv2d_306_loss: -0.1269 - class_loss: 0.1015 - conv2d_306_dice_coef: 0.1269 - conv2d_306_acc: 0.9256 - class_dice_coef: 0.9213 - class_acc: 0.9796 - val_loss: 4.4195 - val_conv2d_306_loss: -0.4165 - val_class_loss: 4.8360 - val_conv2d_306_dice_coef: 0.4165 - val_conv2d_306_acc: 0.9994 - val_class_dice_coef: 0.4012 - val_class_acc: 0.3333\n",
      "Train on 49 samples, validate on 6 samples\n",
      "Epoch 1/1\n",
      "49/49 [==============================] - 1s - loss: 0.0237 - conv2d_306_loss: -0.1061 - class_loss: 0.1297 - conv2d_306_dice_coef: 0.1061 - conv2d_306_acc: 0.9256 - class_dice_coef: 0.9086 - class_acc: 0.9592 - val_loss: 4.5888 - val_conv2d_306_loss: -0.4156 - val_class_loss: 5.0044 - val_conv2d_306_dice_coef: 0.4156 - val_conv2d_306_acc: 0.9993 - val_class_dice_coef: 0.4022 - val_class_acc: 0.3333\n",
      "Train on 49 samples, validate on 6 samples\n",
      "Epoch 1/1\n",
      "49/49 [==============================] - 1s - loss: -0.0354 - conv2d_306_loss: -0.1265 - class_loss: 0.0912 - conv2d_306_dice_coef: 0.1265 - conv2d_306_acc: 0.9256 - class_dice_coef: 0.9348 - class_acc: 0.9796 - val_loss: 4.8075 - val_conv2d_306_loss: -0.4161 - val_class_loss: 5.2237 - val_conv2d_306_dice_coef: 0.4161 - val_conv2d_306_acc: 0.9993 - val_class_dice_coef: 0.3978 - val_class_acc: 0.3333\n",
      "round-- 8\n",
      "Train on 49 samples, validate on 6 samples\n",
      "Epoch 1/1\n"
     ]
    },
    {
     "name": "stdout",
     "output_type": "stream",
     "text": [
      "49/49 [==============================] - 1s - loss: -0.0427 - conv2d_306_loss: -0.1722 - class_loss: 0.1295 - conv2d_306_dice_coef: 0.1722 - conv2d_306_acc: 0.9255 - class_dice_coef: 0.9258 - class_acc: 0.9796 - val_loss: 4.8408 - val_conv2d_306_loss: -0.4169 - val_class_loss: 5.2577 - val_conv2d_306_dice_coef: 0.4169 - val_conv2d_306_acc: 0.9993 - val_class_dice_coef: 0.3976 - val_class_acc: 0.3333\n",
      "Train on 49 samples, validate on 6 samples\n",
      "Epoch 1/1\n",
      "49/49 [==============================] - 1s - loss: 0.0047 - conv2d_306_loss: -0.0959 - class_loss: 0.1006 - conv2d_306_dice_coef: 0.0959 - conv2d_306_acc: 0.9256 - class_dice_coef: 0.9336 - class_acc: 0.9796 - val_loss: 4.8014 - val_conv2d_306_loss: -0.4164 - val_class_loss: 5.2178 - val_conv2d_306_dice_coef: 0.4164 - val_conv2d_306_acc: 0.9993 - val_class_dice_coef: 0.3978 - val_class_acc: 0.3333\n",
      "Train on 49 samples, validate on 6 samples\n",
      "Epoch 1/1\n",
      "49/49 [==============================] - 1s - loss: -0.0169 - conv2d_306_loss: -0.1257 - class_loss: 0.1088 - conv2d_306_dice_coef: 0.1257 - conv2d_306_acc: 0.9256 - class_dice_coef: 0.9283 - class_acc: 0.9592 - val_loss: 4.8441 - val_conv2d_306_loss: -0.4184 - val_class_loss: 5.2625 - val_conv2d_306_dice_coef: 0.4184 - val_conv2d_306_acc: 0.9993 - val_class_dice_coef: 0.3945 - val_class_acc: 0.3333\n",
      "Train on 49 samples, validate on 6 samples\n",
      "Epoch 1/1\n",
      "49/49 [==============================] - 1s - loss: 0.0480 - conv2d_306_loss: -0.1153 - class_loss: 0.1633 - conv2d_306_dice_coef: 0.1153 - conv2d_306_acc: 0.9256 - class_dice_coef: 0.9160 - class_acc: 0.9388 - val_loss: 5.0315 - val_conv2d_306_loss: -0.4262 - val_class_loss: 5.4577 - val_conv2d_306_dice_coef: 0.4262 - val_conv2d_306_acc: 0.9993 - val_class_dice_coef: 0.3914 - val_class_acc: 0.3333\n",
      "Train on 49 samples, validate on 6 samples\n",
      "Epoch 1/1\n",
      "49/49 [==============================] - 1s - loss: 0.0350 - conv2d_306_loss: -0.1176 - class_loss: 0.1525 - conv2d_306_dice_coef: 0.1176 - conv2d_306_acc: 0.9256 - class_dice_coef: 0.8986 - class_acc: 0.9796 - val_loss: 5.0581 - val_conv2d_306_loss: -0.4240 - val_class_loss: 5.4821 - val_conv2d_306_dice_coef: 0.4240 - val_conv2d_306_acc: 0.9993 - val_class_dice_coef: 0.3914 - val_class_acc: 0.3333\n",
      "round-- 8\n",
      "Train on 49 samples, validate on 6 samples\n",
      "Epoch 1/1\n",
      "49/49 [==============================] - 1s - loss: -0.0382 - conv2d_306_loss: -0.1694 - class_loss: 0.1312 - conv2d_306_dice_coef: 0.1694 - conv2d_306_acc: 0.9255 - class_dice_coef: 0.9106 - class_acc: 0.9592 - val_loss: 5.2632 - val_conv2d_306_loss: -0.4258 - val_class_loss: 5.6890 - val_conv2d_306_dice_coef: 0.4258 - val_conv2d_306_acc: 0.9993 - val_class_dice_coef: 0.3891 - val_class_acc: 0.3333\n",
      "Train on 49 samples, validate on 6 samples\n",
      "Epoch 1/1\n",
      "49/49 [==============================] - 1s - loss: 0.0795 - conv2d_306_loss: -0.0901 - class_loss: 0.1696 - conv2d_306_dice_coef: 0.0901 - conv2d_306_acc: 0.9256 - class_dice_coef: 0.9162 - class_acc: 0.9184 - val_loss: 5.1019 - val_conv2d_306_loss: -0.4192 - val_class_loss: 5.5211 - val_conv2d_306_dice_coef: 0.4192 - val_conv2d_306_acc: 0.9993 - val_class_dice_coef: 0.3890 - val_class_acc: 0.3333\n",
      "Train on 49 samples, validate on 6 samples\n",
      "Epoch 1/1\n",
      "49/49 [==============================] - 1s - loss: 0.0317 - conv2d_306_loss: -0.1188 - class_loss: 0.1505 - conv2d_306_dice_coef: 0.1188 - conv2d_306_acc: 0.9257 - class_dice_coef: 0.9079 - class_acc: 0.9388 - val_loss: 4.9202 - val_conv2d_306_loss: -0.4087 - val_class_loss: 5.3289 - val_conv2d_306_dice_coef: 0.4087 - val_conv2d_306_acc: 0.9993 - val_class_dice_coef: 0.3881 - val_class_acc: 0.3333\n",
      "Train on 49 samples, validate on 6 samples\n",
      "Epoch 1/1\n",
      "49/49 [==============================] - 1s - loss: -0.0237 - conv2d_306_loss: -0.1077 - class_loss: 0.0841 - conv2d_306_dice_coef: 0.1077 - conv2d_306_acc: 0.9258 - class_dice_coef: 0.9431 - class_acc: 0.9796 - val_loss: 5.1740 - val_conv2d_306_loss: -0.4029 - val_class_loss: 5.5769 - val_conv2d_306_dice_coef: 0.4029 - val_conv2d_306_acc: 0.9993 - val_class_dice_coef: 0.3874 - val_class_acc: 0.3333\n",
      "Train on 49 samples, validate on 6 samples\n",
      "Epoch 1/1\n",
      "49/49 [==============================] - 1s - loss: 0.0745 - conv2d_306_loss: -0.1174 - class_loss: 0.1919 - conv2d_306_dice_coef: 0.1174 - conv2d_306_acc: 0.9259 - class_dice_coef: 0.9067 - class_acc: 0.9184 - val_loss: 5.2812 - val_conv2d_306_loss: -0.4026 - val_class_loss: 5.6838 - val_conv2d_306_dice_coef: 0.4026 - val_conv2d_306_acc: 0.9993 - val_class_dice_coef: 0.3873 - val_class_acc: 0.3333\n",
      "round-- 9\n",
      "Train on 49 samples, validate on 6 samples\n",
      "Epoch 1/1\n",
      "49/49 [==============================] - 1s - loss: 0.0438 - conv2d_306_loss: -0.1641 - class_loss: 0.2078 - conv2d_306_dice_coef: 0.1641 - conv2d_306_acc: 0.9259 - class_dice_coef: 0.8916 - class_acc: 0.8980 - val_loss: 5.1997 - val_conv2d_306_loss: -0.4030 - val_class_loss: 5.6027 - val_conv2d_306_dice_coef: 0.4030 - val_conv2d_306_acc: 0.9993 - val_class_dice_coef: 0.3885 - val_class_acc: 0.3333\n",
      "Train on 49 samples, validate on 6 samples\n",
      "Epoch 1/1\n",
      "49/49 [==============================] - 1s - loss: 0.0192 - conv2d_306_loss: -0.0879 - class_loss: 0.1071 - conv2d_306_dice_coef: 0.0879 - conv2d_306_acc: 0.9259 - class_dice_coef: 0.9276 - class_acc: 0.9592 - val_loss: 4.9641 - val_conv2d_306_loss: -0.4068 - val_class_loss: 5.3709 - val_conv2d_306_dice_coef: 0.4068 - val_conv2d_306_acc: 0.9993 - val_class_dice_coef: 0.3921 - val_class_acc: 0.3333\n",
      "Train on 49 samples, validate on 6 samples\n",
      "Epoch 1/1\n",
      "49/49 [==============================] - 1s - loss: -0.0624 - conv2d_306_loss: -0.1216 - class_loss: 0.0593 - conv2d_306_dice_coef: 0.1216 - conv2d_306_acc: 0.9258 - class_dice_coef: 0.9517 - class_acc: 0.9796 - val_loss: 4.4469 - val_conv2d_306_loss: -0.4120 - val_class_loss: 4.8590 - val_conv2d_306_dice_coef: 0.4120 - val_conv2d_306_acc: 0.9993 - val_class_dice_coef: 0.3998 - val_class_acc: 0.3333\n",
      "Train on 49 samples, validate on 6 samples\n",
      "Epoch 1/1\n",
      "49/49 [==============================] - 1s - loss: -0.0234 - conv2d_306_loss: -0.1089 - class_loss: 0.0855 - conv2d_306_dice_coef: 0.1089 - conv2d_306_acc: 0.9258 - class_dice_coef: 0.9360 - class_acc: 0.9796 - val_loss: 4.4663 - val_conv2d_306_loss: -0.4157 - val_class_loss: 4.8820 - val_conv2d_306_dice_coef: 0.4157 - val_conv2d_306_acc: 0.9994 - val_class_dice_coef: 0.4015 - val_class_acc: 0.3333\n",
      "Train on 49 samples, validate on 6 samples\n",
      "Epoch 1/1\n",
      "49/49 [==============================] - 1s - loss: -0.0288 - conv2d_306_loss: -0.1239 - class_loss: 0.0950 - conv2d_306_dice_coef: 0.1239 - conv2d_306_acc: 0.9259 - class_dice_coef: 0.9313 - class_acc: 0.9592 - val_loss: 4.7885 - val_conv2d_306_loss: -0.4179 - val_class_loss: 5.2064 - val_conv2d_306_dice_coef: 0.4179 - val_conv2d_306_acc: 0.9994 - val_class_dice_coef: 0.3959 - val_class_acc: 0.3333\n",
      "round-- 9\n",
      "Train on 49 samples, validate on 6 samples\n",
      "Epoch 1/1\n",
      "49/49 [==============================] - 1s - loss: 0.0259 - conv2d_306_loss: -0.1677 - class_loss: 0.1936 - conv2d_306_dice_coef: 0.1677 - conv2d_306_acc: 0.9257 - class_dice_coef: 0.8858 - class_acc: 0.8980 - val_loss: 4.9721 - val_conv2d_306_loss: -0.4215 - val_class_loss: 5.3936 - val_conv2d_306_dice_coef: 0.4215 - val_conv2d_306_acc: 0.9994 - val_class_dice_coef: 0.3932 - val_class_acc: 0.3333\n",
      "Train on 49 samples, validate on 6 samples\n",
      "Epoch 1/1\n",
      "49/49 [==============================] - 1s - loss: 0.1200 - conv2d_306_loss: -0.0969 - class_loss: 0.2169 - conv2d_306_dice_coef: 0.0969 - conv2d_306_acc: 0.9257 - class_dice_coef: 0.8972 - class_acc: 0.9388 - val_loss: 4.7845 - val_conv2d_306_loss: -0.4275 - val_class_loss: 5.2120 - val_conv2d_306_dice_coef: 0.4275 - val_conv2d_306_acc: 0.9994 - val_class_dice_coef: 0.3944 - val_class_acc: 0.3333\n",
      "Train on 49 samples, validate on 6 samples\n",
      "Epoch 1/1\n",
      "49/49 [==============================] - 1s - loss: -0.0493 - conv2d_306_loss: -0.1294 - class_loss: 0.0801 - conv2d_306_dice_coef: 0.1294 - conv2d_306_acc: 0.9257 - class_dice_coef: 0.9380 - class_acc: 1.0000 - val_loss: 4.3720 - val_conv2d_306_loss: -0.4282 - val_class_loss: 4.8002 - val_conv2d_306_dice_coef: 0.4282 - val_conv2d_306_acc: 0.9994 - val_class_dice_coef: 0.3953 - val_class_acc: 0.3333\n",
      "Train on 49 samples, validate on 6 samples\n",
      "Epoch 1/1\n"
     ]
    },
    {
     "name": "stdout",
     "output_type": "stream",
     "text": [
      "49/49 [==============================] - 1s - loss: 0.0282 - conv2d_306_loss: -0.1138 - class_loss: 0.1420 - conv2d_306_dice_coef: 0.1138 - conv2d_306_acc: 0.9256 - class_dice_coef: 0.9111 - class_acc: 0.9388 - val_loss: 4.5665 - val_conv2d_306_loss: -0.4326 - val_class_loss: 4.9991 - val_conv2d_306_dice_coef: 0.4326 - val_conv2d_306_acc: 0.9993 - val_class_dice_coef: 0.3935 - val_class_acc: 0.3333\n",
      "Train on 49 samples, validate on 6 samples\n",
      "Epoch 1/1\n",
      "49/49 [==============================] - 1s - loss: -0.0674 - conv2d_306_loss: -0.1167 - class_loss: 0.0493 - conv2d_306_dice_coef: 0.1167 - conv2d_306_acc: 0.9257 - class_dice_coef: 0.9586 - class_acc: 1.0000 - val_loss: 4.9564 - val_conv2d_306_loss: -0.4207 - val_class_loss: 5.3771 - val_conv2d_306_dice_coef: 0.4207 - val_conv2d_306_acc: 0.9993 - val_class_dice_coef: 0.3899 - val_class_acc: 0.3333\n",
      "round-- 9\n",
      "Train on 49 samples, validate on 6 samples\n",
      "Epoch 1/1\n",
      "49/49 [==============================] - 1s - loss: -0.0885 - conv2d_306_loss: -0.1804 - class_loss: 0.0919 - conv2d_306_dice_coef: 0.1804 - conv2d_306_acc: 0.9256 - class_dice_coef: 0.9310 - class_acc: 0.9796 - val_loss: 5.0509 - val_conv2d_306_loss: -0.4159 - val_class_loss: 5.4668 - val_conv2d_306_dice_coef: 0.4159 - val_conv2d_306_acc: 0.9994 - val_class_dice_coef: 0.3890 - val_class_acc: 0.3333\n",
      "Train on 49 samples, validate on 6 samples\n",
      "Epoch 1/1\n",
      "49/49 [==============================] - 1s - loss: -0.0229 - conv2d_306_loss: -0.0926 - class_loss: 0.0697 - conv2d_306_dice_coef: 0.0926 - conv2d_306_acc: 0.9257 - class_dice_coef: 0.9472 - class_acc: 0.9796 - val_loss: 4.9691 - val_conv2d_306_loss: -0.4148 - val_class_loss: 5.3839 - val_conv2d_306_dice_coef: 0.4148 - val_conv2d_306_acc: 0.9993 - val_class_dice_coef: 0.3895 - val_class_acc: 0.3333\n",
      "Train on 49 samples, validate on 6 samples\n",
      "Epoch 1/1\n",
      "49/49 [==============================] - 1s - loss: -0.0535 - conv2d_306_loss: -0.1282 - class_loss: 0.0746 - conv2d_306_dice_coef: 0.1282 - conv2d_306_acc: 0.9256 - class_dice_coef: 0.9462 - class_acc: 0.9592 - val_loss: 4.8785 - val_conv2d_306_loss: -0.4170 - val_class_loss: 5.2956 - val_conv2d_306_dice_coef: 0.4170 - val_conv2d_306_acc: 0.9994 - val_class_dice_coef: 0.3906 - val_class_acc: 0.3333\n",
      "Train on 49 samples, validate on 6 samples\n",
      "Epoch 1/1\n",
      "49/49 [==============================] - 1s - loss: 0.0159 - conv2d_306_loss: -0.1116 - class_loss: 0.1275 - conv2d_306_dice_coef: 0.1116 - conv2d_306_acc: 0.9256 - class_dice_coef: 0.9132 - class_acc: 0.9184 - val_loss: 5.0225 - val_conv2d_306_loss: -0.4272 - val_class_loss: 5.4496 - val_conv2d_306_dice_coef: 0.4272 - val_conv2d_306_acc: 0.9993 - val_class_dice_coef: 0.3902 - val_class_acc: 0.3333\n",
      "Train on 49 samples, validate on 6 samples\n",
      "Epoch 1/1\n",
      "49/49 [==============================] - 1s - loss: 0.0151 - conv2d_306_loss: -0.1243 - class_loss: 0.1394 - conv2d_306_dice_coef: 0.1243 - conv2d_306_acc: 0.9257 - class_dice_coef: 0.9344 - class_acc: 0.9388 - val_loss: 5.5586 - val_conv2d_306_loss: -0.4204 - val_class_loss: 5.9789 - val_conv2d_306_dice_coef: 0.4204 - val_conv2d_306_acc: 0.9993 - val_class_dice_coef: 0.3867 - val_class_acc: 0.3333\n"
     ]
    }
   ],
   "source": [
    "\n",
    "for i in range (10):\n",
    "    for j in range (3):\n",
    "        batch=7\n",
    "        print (\"round--\" , i )\n",
    "        model.fit (train1,[mask1,trn_labels] , batch_size=batch , epochs=1, shuffle=True , validation_data= (val1,[valmask,val_labels]))\n",
    "        model.fit (train2,[mask1,trn_labels] , batch_size=batch , epochs=1, shuffle=True , validation_data= (val1,[valmask,val_labels]))\n",
    "        model.fit (train3,[mask1,trn_labels] , batch_size=batch , epochs=1, shuffle=True , validation_data= (val1,[valmask,val_labels]))\n",
    "        model.fit (train4,[mask1,trn_labels] , batch_size=batch , epochs=1, shuffle=True , validation_data= (val1,[valmask,val_labels]))\n",
    "        model.fit (train5,[mask1,trn_labels] , batch_size=batch , epochs=1, shuffle=True , validation_data= (val1,[valmask,val_labels]))"
   ]
  },
  {
   "cell_type": "code",
   "execution_count": null,
   "metadata": {
    "collapsed": true
   },
   "outputs": [],
   "source": [
    "\n",
    "for i in range (20):\n",
    "    print (\"round--\" , i )\n",
    "    model.fit (train1,mask1 , batch_size=25 , epochs=1, shuffle=True , validation_data= (val1,valmask))\n",
    "    model.fit (train2,mask2 , batch_size=25 , epochs=1, shuffle=True , validation_data= (val1,valmask))\n",
    "    model.fit (train3,mask3 , batch_size=25 , epochs=1, shuffle=True , validation_data= (val1,valmask))\n",
    "    model.fit (train4,mask4 , batch_size=25 , epochs=1, shuffle=True , validation_data= (val1,valmask))\n",
    "    model.fit (train5,mask5 , batch_size=25 , epochs=1, shuffle=True , validation_data= (val1,valmask))"
   ]
  },
  {
   "cell_type": "code",
   "execution_count": null,
   "metadata": {
    "collapsed": true
   },
   "outputs": [],
   "source": [
    "model.optimizer.lr=0.0001\n",
    "for i in range (100):\n",
    "    print (\"round--\" , i )\n",
    "    model.fit (train1,mask1 , batch_size=5 , epochs=1, shuffle=True , validation_data= (val1,valmask))\n",
    "    model.fit (train2,mask2 , batch_size=5 , epochs=1, shuffle=True , validation_data= (val1,valmask))\n",
    "    model.fit (train3,mask3 , batch_size=5 , epochs=1, shuffle=True , validation_data= (val1,valmask))\n",
    "    model.fit (train4,mask4 , batch_size=5 , epochs=1, shuffle=True , validation_data= (val1,valmask))\n",
    "    model.fit (train5,mask5 , batch_size=5 , epochs=1, shuffle=True , validation_data= (val1,valmask))"
   ]
  },
  {
   "cell_type": "code",
   "execution_count": null,
   "metadata": {
    "collapsed": true
   },
   "outputs": [],
   "source": [
    "model.optimizer.lr=0.1\n",
    "for i in range (100):\n",
    "    model.fit (train1,mask1 , batch_size=1 , epochs=1, shuffle=True , validation_data= (val1,valmask))\n",
    "    model.fit (train2,mask2 , batch_size=1 , epochs=1, shuffle=True , validation_data= (val1,valmask))\n",
    "    model.fit (train3,mask3 , batch_size=1 , epochs=1, shuffle=True , validation_data= (val1,valmask))\n",
    "    model.fit (train4,mask4 , batch_size=1 , epochs=1, shuffle=True , validation_data= (val1,valmask))\n",
    "    model.fit (train5,mask5 , batch_size=1 , epochs=1, shuffle=True , validation_data= (val1,valmask))"
   ]
  },
  {
   "cell_type": "code",
   "execution_count": null,
   "metadata": {
    "collapsed": true
   },
   "outputs": [],
   "source": [
    "model.fit (train1,mask1 , batch_size=5 , epochs=1, shuffle=True , validation_data= (val1,valmask))\n",
    "model.fit (train5,mask5 , batch_size=5 , epochs=1, shuffle=True , validation_data= (val1,valmask))\n",
    "model.fit (train2,mask2 , batch_size=5 , epochs=1, shuffle=True , validation_data= (val1,valmask))\n",
    "model.fit (train3,mask3 , batch_size=5 , epochs=1, shuffle=True , validation_data= (val1,valmask))\n",
    "model.fit (train4,mask4 , batch_size=5 , epochs=1, shuffle=True , validation_data= (val1,valmask))\n"
   ]
  },
  {
   "cell_type": "code",
   "execution_count": null,
   "metadata": {
    "collapsed": true
   },
   "outputs": [],
   "source": [
    "model.save_weights ('unetsig25_1.h5')"
   ]
  },
  {
   "cell_type": "code",
   "execution_count": 221,
   "metadata": {},
   "outputs": [
    {
     "name": "stdout",
     "output_type": "stream",
     "text": [
      "Found 3 images belonging to 3 classes.\n"
     ]
    }
   ],
   "source": [
    "test= valgen.flow_from_directory('test/images', target_size=(160,320),\n",
    "                class_mode=None, batch_size=1, seed=1)"
   ]
  },
  {
   "cell_type": "code",
   "execution_count": 222,
   "metadata": {
    "collapsed": true
   },
   "outputs": [],
   "source": [
    "file=test.filenames"
   ]
  },
  {
   "cell_type": "code",
   "execution_count": 223,
   "metadata": {
    "collapsed": true
   },
   "outputs": [],
   "source": [
    "pre=model.predict_generator (test,3)"
   ]
  },
  {
   "cell_type": "code",
   "execution_count": 224,
   "metadata": {},
   "outputs": [],
   "source": [
    "pre1=pre[0]"
   ]
  },
  {
   "cell_type": "code",
   "execution_count": null,
   "metadata": {},
   "outputs": [],
   "source": []
  },
  {
   "cell_type": "code",
   "execution_count": 225,
   "metadata": {},
   "outputs": [
    {
     "data": {
      "text/plain": [
       "(3, 160, 320, 3)"
      ]
     },
     "execution_count": 225,
     "metadata": {},
     "output_type": "execute_result"
    }
   ],
   "source": [
    "pre1.shape"
   ]
  },
  {
   "cell_type": "code",
   "execution_count": 232,
   "metadata": {
    "collapsed": true
   },
   "outputs": [],
   "source": [
    "img=0"
   ]
  },
  {
   "cell_type": "code",
   "execution_count": 233,
   "metadata": {},
   "outputs": [],
   "source": [
    "#image.load_img ('test/images/'+file[img])"
   ]
  },
  {
   "cell_type": "code",
   "execution_count": 234,
   "metadata": {},
   "outputs": [
    {
     "data": {
      "image/png": "[encoded data removed]",
      "text/plain": [
       "<PIL.Image.Image image mode=RGB size=320x160 at 0x7FFA5CED67F0>"
      ]
     },
     "execution_count": 234,
     "metadata": {},
     "output_type": "execute_result"
    }
   ],
   "source": [
    "image.array_to_img (pre1[img])"
   ]
  },
  {
   "cell_type": "code",
   "execution_count": 114,
   "metadata": {},
   "outputs": [
    {
     "ename": "IndexError",
     "evalue": "list index out of range",
     "output_type": "error",
     "traceback": [
      "\u001b[0;31m---------------------------------------------------------------------------\u001b[0m",
      "\u001b[0;31mIndexError\u001b[0m                                Traceback (most recent call last)",
      "\u001b[0;32m<ipython-input-114-e1f8134029c1>\u001b[0m in \u001b[0;36m<module>\u001b[0;34m()\u001b[0m\n\u001b[0;32m----> 1\u001b[0;31m \u001b[0mshow\u001b[0m\u001b[0;34m=\u001b[0m\u001b[0mpre\u001b[0m\u001b[0;34m[\u001b[0m\u001b[0mimg\u001b[0m\u001b[0;34m]\u001b[0m\u001b[0;34m\u001b[0m\u001b[0m\n\u001b[0m",
      "\u001b[0;31mIndexError\u001b[0m: list index out of range"
     ]
    }
   ],
   "source": [
    "show=pre[img]"
   ]
  },
  {
   "cell_type": "code",
   "execution_count": null,
   "metadata": {
    "collapsed": true
   },
   "outputs": [],
   "source": [
    "show=np.swapaxes(show,1,2)\n",
    "show=np.swapaxes(show,0,1)"
   ]
  },
  {
   "cell_type": "code",
   "execution_count": null,
   "metadata": {
    "collapsed": true
   },
   "outputs": [],
   "source": [
    "show.shape"
   ]
  },
  {
   "cell_type": "code",
   "execution_count": null,
   "metadata": {
    "collapsed": true
   },
   "outputs": [],
   "source": [
    "plt.imshow(show[0], cmap='gray')"
   ]
  },
  {
   "cell_type": "code",
   "execution_count": null,
   "metadata": {
    "collapsed": true
   },
   "outputs": [],
   "source": [
    "test = valgen.flow_from_directory('test/images', target_size=(160,320),\n",
    "                class_mode=None, shuffle=False, batch_size=1  )\n",
    "\n",
    "\n",
    "import numpy as np\n",
    "test1=np.concatenate([test.next() for i in range(test.samples)])"
   ]
  },
  {
   "cell_type": "code",
   "execution_count": null,
   "metadata": {
    "collapsed": true
   },
   "outputs": [],
   "source": [
    "x=test1[img]"
   ]
  },
  {
   "cell_type": "code",
   "execution_count": null,
   "metadata": {
    "collapsed": true
   },
   "outputs": [],
   "source": [
    "x=np.swapaxes(x,1,2)\n",
    "x=np.swapaxes(x,0,1)"
   ]
  },
  {
   "cell_type": "code",
   "execution_count": null,
   "metadata": {
    "collapsed": true
   },
   "outputs": [],
   "source": [
    "\n",
    "plt.figure(figsize=(15,15))\n",
    "plt.imshow(x[img] ,cmap=\"gray\", alpha=1)\n",
    "plt.imshow(pre[img], cmap=\"cool\", alpha=0.5)"
   ]
  },
  {
   "cell_type": "code",
   "execution_count": null,
   "metadata": {
    "collapsed": true
   },
   "outputs": [],
   "source": []
  },
  {
   "cell_type": "code",
   "execution_count": null,
   "metadata": {
    "collapsed": true
   },
   "outputs": [],
   "source": []
  }
 ],
 "metadata": {
  "kernelspec": {
   "display_name": "Python 3",
   "language": "python",
   "name": "python3"
  },
  "language_info": {
   "codemirror_mode": {
    "name": "ipython",
    "version": 3
   },
   "file_extension": ".py",
   "mimetype": "text/x-python",
   "name": "python",
   "nbconvert_exporter": "python",
   "pygments_lexer": "ipython3",
   "version": "3.6.1"
  }
 },
 "nbformat": 4,
 "nbformat_minor": 2
}
