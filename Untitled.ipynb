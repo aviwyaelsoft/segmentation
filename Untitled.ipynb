{
 "cells": [
  {
   "cell_type": "code",
   "execution_count": 2,
   "metadata": {},
   "outputs": [
    {
     "name": "stderr",
     "output_type": "stream",
     "text": [
      "Using TensorFlow backend.\n"
     ]
    }
   ],
   "source": [
    "import keras"
   ]
  },
  {
   "cell_type": "code",
   "execution_count": 3,
   "metadata": {
    "collapsed": true
   },
   "outputs": [],
   "source": [
    "from keras import backend as K\n",
    "K.clear_session()\n",
    "cfg = K.tf.ConfigProto()\n",
    "cfg.gpu_options.allow_growth = True\n",
    "K.set_session(K.tf.Session(config=cfg))"
   ]
  },
  {
   "cell_type": "code",
   "execution_count": 4,
   "metadata": {
    "collapsed": true
   },
   "outputs": [],
   "source": [
    "from keras.layers import Activation,Input ,Conv2D ,BatchNormalization , Dense ,Dropout ,Flatten ,MaxPool2D ,GlobalMaxPool2D ,GlobalAveragePooling2D\n",
    "from keras.models import Sequential"
   ]
  },
  {
   "cell_type": "code",
   "execution_count": null,
   "metadata": {
    "collapsed": true
   },
   "outputs": [],
   "source": [
    "from keras.applications import VGG16"
   ]
  },
  {
   "cell_type": "code",
   "execution_count": null,
   "metadata": {
    "collapsed": true
   },
   "outputs": [],
   "source": [
    "vgg = VGG16(include_top=False , weights='imagenet', input_shape=(224,224,3))"
   ]
  },
  {
   "cell_type": "code",
   "execution_count": null,
   "metadata": {
    "collapsed": true
   },
   "outputs": [],
   "source": [
    "layers = vgg.layers"
   ]
  },
  {
   "cell_type": "code",
   "execution_count": null,
   "metadata": {
    "collapsed": true
   },
   "outputs": [],
   "source": [
    "conv_layers = layers[:11]\n",
    "conv_model = Sequential(conv_layers)"
   ]
  },
  {
   "cell_type": "code",
   "execution_count": null,
   "metadata": {},
   "outputs": [],
   "source": [
    "layers = vgg.layers"
   ]
  },
  {
   "cell_type": "code",
   "execution_count": null,
   "metadata": {},
   "outputs": [],
   "source": [
    "layers1= conv_model.layers"
   ]
  },
  {
   "cell_type": "code",
   "execution_count": null,
   "metadata": {},
   "outputs": [],
   "source": [
    "for l1,l2 in zip(layers1, layers): l1.set_weights(l2.get_weights())"
   ]
  },
  {
   "cell_type": "code",
   "execution_count": null,
   "metadata": {},
   "outputs": [],
   "source": []
  },
  {
   "cell_type": "code",
   "execution_count": 5,
   "metadata": {
    "collapsed": true
   },
   "outputs": [],
   "source": [
    "from keras.preprocessing.image import ImageDataGenerator\n",
    "from keras.preprocessing import image\n",
    "gen=image.ImageDataGenerator()\n",
    "gen1=image.ImageDataGenerator()"
   ]
  },
  {
   "cell_type": "code",
   "execution_count": 6,
   "metadata": {},
   "outputs": [
    {
     "name": "stdout",
     "output_type": "stream",
     "text": [
      "Found 5820 images belonging to 4 classes.\n"
     ]
    }
   ],
   "source": [
    "batch_size=1\n",
    "\n",
    "train= gen.flow_from_directory('train', target_size=(224,224),\n",
    "                class_mode='categorical', shuffle=False, batch_size=batch_size)"
   ]
  },
  {
   "cell_type": "code",
   "execution_count": 7,
   "metadata": {},
   "outputs": [
    {
     "name": "stdout",
     "output_type": "stream",
     "text": [
      "Found 1098 images belonging to 4 classes.\n"
     ]
    }
   ],
   "source": [
    "val= gen1.flow_from_directory('val', target_size=(224,224),\n",
    "                class_mode='categorical', shuffle=False, batch_size=batch_size)"
   ]
  },
  {
   "cell_type": "code",
   "execution_count": null,
   "metadata": {},
   "outputs": [],
   "source": [
    "conv_model.samples"
   ]
  },
  {
   "cell_type": "code",
   "execution_count": null,
   "metadata": {
    "collapsed": true
   },
   "outputs": [],
   "source": [
    "train_fe=conv_model.predict_generator (train,5820 )"
   ]
  },
  {
   "cell_type": "code",
   "execution_count": 8,
   "metadata": {
    "collapsed": true
   },
   "outputs": [],
   "source": [
    "import bcolz\n",
    "def save_array(fname, arr): c=bcolz.carray(arr, rootdir=fname, mode='w'); c.flush()\n",
    "def load_array(fname): return bcolz.open(fname)[:]"
   ]
  },
  {
   "cell_type": "code",
   "execution_count": null,
   "metadata": {
    "collapsed": true
   },
   "outputs": [],
   "source": [
    "save_array ('train.bc',train_fe)"
   ]
  },
  {
   "cell_type": "code",
   "execution_count": null,
   "metadata": {
    "collapsed": true
   },
   "outputs": [],
   "source": [
    "val_fe=conv_model.predict_generator (val,1098 )"
   ]
  },
  {
   "cell_type": "code",
   "execution_count": null,
   "metadata": {
    "collapsed": true
   },
   "outputs": [],
   "source": [
    "save_array ('val.bc',val_fe)"
   ]
  },
  {
   "cell_type": "code",
   "execution_count": 9,
   "metadata": {
    "collapsed": true
   },
   "outputs": [],
   "source": [
    "train_fe=load_array ('train.bc')\n",
    "val_fe=load_array ('val.bc')"
   ]
  },
  {
   "cell_type": "code",
   "execution_count": 10,
   "metadata": {},
   "outputs": [],
   "source": [
    "import numpy as np\n",
    "from sklearn.preprocessing import OneHotEncoder\n",
    "def onehot(x): return np.array(OneHotEncoder().fit_transform(x.reshape(-1,1)).todense())\n",
    "\n",
    "val_classes = val.classes\n",
    "trn_classes = train.classes\n",
    "val_labels = onehot(val_classes)\n",
    "trn_labels = onehot(trn_classes)"
   ]
  },
  {
   "cell_type": "code",
   "execution_count": null,
   "metadata": {},
   "outputs": [],
   "source": [
    "trn_labels.shape"
   ]
  },
  {
   "cell_type": "code",
   "execution_count": 24,
   "metadata": {},
   "outputs": [],
   "source": [
    "model = Sequential([\n",
    "      Conv2D(256,(3,3), activation='relu',input_shape = (28, 28, 256)),\n",
    "    MaxPool2D((2,2)),\n",
    "    Flatten(),\n",
    "    Dense(500, activation='relu'),\n",
    "    Dropout (0.5),\n",
    "    Dense(500, activation='relu'),\n",
    "      Dropout (0.5),\n",
    "    Dense(4, activation='softmax')\n",
    "    ])"
   ]
  },
  {
   "cell_type": "code",
   "execution_count": 25,
   "metadata": {
    "collapsed": true
   },
   "outputs": [],
   "source": [
    "from keras.optimizers import Adam ,SGD ,Adamax ,RMSprop\n",
    "model.compile(Adam(lr=0.0000001), loss='categorical_crossentropy', metrics=['accuracy'])"
   ]
  },
  {
   "cell_type": "code",
   "execution_count": 26,
   "metadata": {},
   "outputs": [
    {
     "name": "stdout",
     "output_type": "stream",
     "text": [
      "Train on 5820 samples, validate on 1098 samples\n",
      "Epoch 1/8\n",
      "5820/5820 [==============================] - 11s - loss: 12.6315 - acc: 0.2141 - val_loss: 12.0542 - val_acc: 0.2468\n",
      "Epoch 2/8\n",
      "5820/5820 [==============================] - 13s - loss: 12.5813 - acc: 0.2163 - val_loss: 11.9210 - val_acc: 0.2532\n",
      "Epoch 3/8\n",
      "5820/5820 [==============================] - 12s - loss: 12.4956 - acc: 0.2225 - val_loss: 12.0512 - val_acc: 0.2477\n",
      "Epoch 4/8\n",
      "5820/5820 [==============================] - 12s - loss: 12.4707 - acc: 0.2246 - val_loss: 12.0485 - val_acc: 0.2468\n",
      "Epoch 5/8\n",
      "5820/5820 [==============================] - 12s - loss: 12.3235 - acc: 0.2333 - val_loss: 11.8030 - val_acc: 0.2650\n",
      "Epoch 6/8\n",
      "5820/5820 [==============================] - 12s - loss: 12.3859 - acc: 0.2296 - val_loss: 11.7736 - val_acc: 0.2659\n",
      "Epoch 7/8\n",
      "5820/5820 [==============================] - 12s - loss: 12.3276 - acc: 0.2321 - val_loss: 11.7900 - val_acc: 0.2668\n",
      "Epoch 8/8\n",
      "5820/5820 [==============================] - 12s - loss: 12.2654 - acc: 0.2364 - val_loss: 11.8042 - val_acc: 0.2650\n"
     ]
    },
    {
     "data": {
      "text/plain": [
       "<keras.callbacks.History at 0x7f23d8522828>"
      ]
     },
     "execution_count": 26,
     "metadata": {},
     "output_type": "execute_result"
    }
   ],
   "source": [
    "model.fit (train_fe,trn_labels , batch_size=15 , epochs=8, shuffle=True , validation_data= (val_fe,val_labels))"
   ]
  },
  {
   "cell_type": "code",
   "execution_count": 31,
   "metadata": {},
   "outputs": [
    {
     "name": "stdout",
     "output_type": "stream",
     "text": [
      "Train on 5820 samples, validate on 1098 samples\n",
      "Epoch 1/20\n",
      "5820/5820 [==============================] - 20s - loss: 10.2967 - acc: 0.3595 - val_loss: 11.4712 - val_acc: 0.2851\n",
      "Epoch 2/20\n",
      "5820/5820 [==============================] - 20s - loss: 10.2333 - acc: 0.3639 - val_loss: 11.4094 - val_acc: 0.2914\n",
      "Epoch 3/20\n",
      "5820/5820 [==============================] - 20s - loss: 10.2367 - acc: 0.3629 - val_loss: 11.3030 - val_acc: 0.2969\n",
      "Epoch 4/20\n",
      "5820/5820 [==============================] - 20s - loss: 10.2590 - acc: 0.3624 - val_loss: 11.3569 - val_acc: 0.2933\n",
      "Epoch 5/20\n",
      "5820/5820 [==============================] - 20s - loss: 10.2153 - acc: 0.3643 - val_loss: 11.2374 - val_acc: 0.3015\n",
      "Epoch 6/20\n",
      "5820/5820 [==============================] - 20s - loss: 10.1316 - acc: 0.3699 - val_loss: 11.0315 - val_acc: 0.3133\n",
      "Epoch 7/20\n",
      "5820/5820 [==============================] - 20s - loss: 10.2498 - acc: 0.3622 - val_loss: 10.8561 - val_acc: 0.3242\n",
      "Epoch 8/20\n",
      "5820/5820 [==============================] - 20s - loss: 10.2620 - acc: 0.3610 - val_loss: 10.7481 - val_acc: 0.3324\n",
      "Epoch 9/20\n",
      "5820/5820 [==============================] - 20s - loss: 10.1572 - acc: 0.3687 - val_loss: 10.8064 - val_acc: 0.3270\n",
      "Epoch 10/20\n",
      "5820/5820 [==============================] - 20s - loss: 10.2354 - acc: 0.3632 - val_loss: 10.7683 - val_acc: 0.3297\n",
      "Epoch 11/20\n",
      "5820/5820 [==============================] - 20s - loss: 10.0922 - acc: 0.3715 - val_loss: 10.7285 - val_acc: 0.3333\n",
      "Epoch 12/20\n",
      "5820/5820 [==============================] - 20s - loss: 10.2752 - acc: 0.3612 - val_loss: 10.7236 - val_acc: 0.3324\n",
      "Epoch 13/20\n",
      "5820/5820 [==============================] - 20s - loss: 10.1944 - acc: 0.3660 - val_loss: 10.7432 - val_acc: 0.3306\n",
      "Epoch 14/20\n",
      "5820/5820 [==============================] - 20s - loss: 10.2420 - acc: 0.3624 - val_loss: 10.7002 - val_acc: 0.3352\n",
      "Epoch 15/20\n",
      "5820/5820 [==============================] - 19s - loss: 10.1043 - acc: 0.3711 - val_loss: 10.7476 - val_acc: 0.3306\n",
      "Epoch 16/20\n",
      "5820/5820 [==============================] - 13s - loss: 10.1808 - acc: 0.3663 - val_loss: 10.7180 - val_acc: 0.3324\n",
      "Epoch 17/20\n",
      "5820/5820 [==============================] - 7s - loss: 10.1975 - acc: 0.3651 - val_loss: 10.6681 - val_acc: 0.3379\n",
      "Epoch 18/20\n",
      "5820/5820 [==============================] - 7s - loss: 10.1197 - acc: 0.3703 - val_loss: 10.7110 - val_acc: 0.3333\n",
      "Epoch 19/20\n",
      "5820/5820 [==============================] - 7s - loss: 10.1568 - acc: 0.3679 - val_loss: 10.6956 - val_acc: 0.3361\n",
      "Epoch 20/20\n",
      "5820/5820 [==============================] - 7s - loss: 10.0926 - acc: 0.3723 - val_loss: 10.6914 - val_acc: 0.3352\n"
     ]
    },
    {
     "data": {
      "text/plain": [
       "<keras.callbacks.History at 0x7f23d8564630>"
      ]
     },
     "execution_count": 31,
     "metadata": {},
     "output_type": "execute_result"
    }
   ],
   "source": [
    "model.optimizer.lr=0.0001\n",
    "model.fit (train_fe,trn_labels , batch_size=15 , epochs=20, shuffle=True , validation_data= (val_fe,val_labels))"
   ]
  },
  {
   "cell_type": "code",
   "execution_count": 32,
   "metadata": {},
   "outputs": [
    {
     "name": "stdout",
     "output_type": "stream",
     "text": [
      "Train on 5820 samples, validate on 1098 samples\n",
      "Epoch 1/20\n",
      "5820/5820 [==============================] - 20s - loss: 10.1198 - acc: 0.3706 - val_loss: 10.7144 - val_acc: 0.3342\n",
      "Epoch 2/20\n",
      "5820/5820 [==============================] - 20s - loss: 10.1380 - acc: 0.3689 - val_loss: 11.0047 - val_acc: 0.3160\n",
      "Epoch 3/20\n",
      "5820/5820 [==============================] - 20s - loss: 10.2015 - acc: 0.3658 - val_loss: 11.0830 - val_acc: 0.3124\n",
      "Epoch 4/20\n",
      "5820/5820 [==============================] - 20s - loss: 10.1458 - acc: 0.3687 - val_loss: 11.2101 - val_acc: 0.3033\n",
      "Epoch 5/20\n",
      "5820/5820 [==============================] - 20s - loss: 10.0312 - acc: 0.3763 - val_loss: 11.2785 - val_acc: 0.2996\n",
      "Epoch 6/20\n",
      "5820/5820 [==============================] - 19s - loss: 9.9601 - acc: 0.3797 - val_loss: 11.0884 - val_acc: 0.3115\n",
      "Epoch 7/20\n",
      "5820/5820 [==============================] - 20s - loss: 10.0728 - acc: 0.3741 - val_loss: 11.0499 - val_acc: 0.3133\n",
      "Epoch 8/20\n",
      "5820/5820 [==============================] - 20s - loss: 10.0787 - acc: 0.3732 - val_loss: 11.3014 - val_acc: 0.2969\n",
      "Epoch 9/20\n",
      "5820/5820 [==============================] - 20s - loss: 10.0794 - acc: 0.3737 - val_loss: 11.4039 - val_acc: 0.2923\n",
      "Epoch 10/20\n",
      "5820/5820 [==============================] - 20s - loss: 10.1756 - acc: 0.3675 - val_loss: 11.5273 - val_acc: 0.2814\n",
      "Epoch 11/20\n",
      "5820/5820 [==============================] - 20s - loss: 10.0907 - acc: 0.3729 - val_loss: 11.4717 - val_acc: 0.2869\n",
      "Epoch 12/20\n",
      "5820/5820 [==============================] - 20s - loss: 10.1020 - acc: 0.3716 - val_loss: 11.5968 - val_acc: 0.2805\n",
      "Epoch 13/20\n",
      "5820/5820 [==============================] - 20s - loss: 10.0223 - acc: 0.3771 - val_loss: 11.6115 - val_acc: 0.2796\n",
      "Epoch 14/20\n",
      "5820/5820 [==============================] - 20s - loss: 10.1499 - acc: 0.3687 - val_loss: 11.5968 - val_acc: 0.2805\n",
      "Epoch 15/20\n",
      "5820/5820 [==============================] - 20s - loss: 10.0067 - acc: 0.3782 - val_loss: 11.6139 - val_acc: 0.2787\n",
      "Epoch 16/20\n",
      "5820/5820 [==============================] - 20s - loss: 10.0934 - acc: 0.3720 - val_loss: 11.4473 - val_acc: 0.2887\n",
      "Epoch 17/20\n",
      "5820/5820 [==============================] - 20s - loss: 9.9949 - acc: 0.3785 - val_loss: 11.2688 - val_acc: 0.2978\n",
      "Epoch 18/20\n",
      "5820/5820 [==============================] - 20s - loss: 10.0486 - acc: 0.3753 - val_loss: 11.2575 - val_acc: 0.3005\n",
      "Epoch 19/20\n",
      "5820/5820 [==============================] - 19s - loss: 9.9460 - acc: 0.3816 - val_loss: 11.2390 - val_acc: 0.3024\n",
      "Epoch 20/20\n",
      "5820/5820 [==============================] - 20s - loss: 10.0622 - acc: 0.3742 - val_loss: 10.8819 - val_acc: 0.3233\n"
     ]
    },
    {
     "data": {
      "text/plain": [
       "<keras.callbacks.History at 0x7f23d816e898>"
      ]
     },
     "execution_count": 32,
     "metadata": {},
     "output_type": "execute_result"
    }
   ],
   "source": [
    "model.optimizer.lr=0.0001\n",
    "model.fit (train_fe,trn_labels , batch_size=15 , epochs=20, shuffle=True , validation_data= (val_fe,val_labels))"
   ]
  },
  {
   "cell_type": "code",
   "execution_count": 23,
   "metadata": {
    "collapsed": true
   },
   "outputs": [],
   "source": [
    "from keras import backend as K\n",
    "K.clear_session()\n",
    "cfg = K.tf.ConfigProto()\n",
    "cfg.gpu_options.allow_growth = True\n",
    "K.set_session(K.tf.Session(config=cfg))"
   ]
  },
  {
   "cell_type": "code",
   "execution_count": null,
   "metadata": {
    "collapsed": true
   },
   "outputs": [],
   "source": []
  }
 ],
 "metadata": {
  "kernelspec": {
   "display_name": "Python 3",
   "language": "python",
   "name": "python3"
  },
  "language_info": {
   "codemirror_mode": {
    "name": "ipython",
    "version": 3
   },
   "file_extension": ".py",
   "mimetype": "text/x-python",
   "name": "python",
   "nbconvert_exporter": "python",
   "pygments_lexer": "ipython3",
   "version": "3.6.1"
  }
 },
 "nbformat": 4,
 "nbformat_minor": 2
}
