{
 "cells": [
  {
   "cell_type": "code",
   "execution_count": 2,
   "metadata": {},
   "outputs": [
    {
     "name": "stderr",
     "output_type": "stream",
     "text": [
      "Using TensorFlow backend.\n"
     ]
    }
   ],
   "source": [
    "import keras"
   ]
  },
  {
   "cell_type": "code",
   "execution_count": 3,
   "metadata": {
    "collapsed": true
   },
   "outputs": [],
   "source": [
    "from keras import backend as K\n",
    "\n",
    "cfg = K.tf.ConfigProto()\n",
    "cfg.gpu_options.allow_growth = True\n",
    "K.set_session(K.tf.Session(config=cfg))"
   ]
  },
  {
   "cell_type": "code",
   "execution_count": 4,
   "metadata": {},
   "outputs": [
    {
     "data": {
      "text/plain": [
       "0.6508231734825147"
      ]
     },
     "execution_count": 4,
     "metadata": {},
     "output_type": "execute_result"
    }
   ],
   "source": [
    "import random\n",
    "random.uniform(0.01, 1)"
   ]
  },
  {
   "cell_type": "code",
   "execution_count": 5,
   "metadata": {
    "collapsed": true
   },
   "outputs": [],
   "source": [
    "import random\n",
    "\n",
    "\n",
    "def white (img):\n",
    "    x=random.uniform(0.1, 2)\n",
    "    return img**x\n",
    "    "
   ]
  },
  {
   "cell_type": "code",
   "execution_count": 6,
   "metadata": {
    "collapsed": true
   },
   "outputs": [],
   "source": [
    "from keras.layers import Activation ,Conv2D ,BatchNormalization , Dense ,Dropout ,Flatten ,MaxPool2D\n",
    "from keras.models import Sequential"
   ]
  },
  {
   "cell_type": "code",
   "execution_count": 7,
   "metadata": {},
   "outputs": [],
   "source": [
    "model = Sequential([\n",
    "            BatchNormalization(axis=1, input_shape=(150,300,1)),\n",
    "            Conv2D(32,(3,3), activation='relu'),\n",
    "            BatchNormalization(axis=1),\n",
    "            Conv2D(32,(3,3), activation='relu'),\n",
    "            MaxPool2D((2,2)),\n",
    "            BatchNormalization(axis=1),\n",
    "            Conv2D(64,(3,3), activation='relu'),\n",
    "            BatchNormalization(axis=1),\n",
    "            Conv2D(64,(3,3), activation='relu'),\n",
    "            MaxPool2D((2,2)),\n",
    "            BatchNormalization(axis=1),\n",
    "            Conv2D(128,(3,3), activation='relu'),\n",
    "            BatchNormalization(axis=1),\n",
    "            Conv2D(128,(3,3), activation='relu'),\n",
    "            MaxPool2D((2,2)),\n",
    "            BatchNormalization(axis=1),\n",
    "            Conv2D(128,(3,3), activation='relu'),\n",
    "            BatchNormalization(axis=1),\n",
    "            Conv2D(128,(3,3), activation='relu'),\n",
    "            MaxPool2D((2,2)),\n",
    "            Flatten(),\n",
    "            Dense(1024, activation='relu'),\n",
    "            BatchNormalization(),\n",
    "            Dropout (0.4),\n",
    "            Dense(1024, activation='relu'),\n",
    "            BatchNormalization(),\n",
    "            Dropout (0.4),\n",
    "            Dense(4, activation='softmax')\n",
    "        ])"
   ]
  },
  {
   "cell_type": "code",
   "execution_count": 8,
   "metadata": {},
   "outputs": [
    {
     "name": "stdout",
     "output_type": "stream",
     "text": [
      "_________________________________________________________________\n",
      "Layer (type)                 Output Shape              Param #   \n",
      "=================================================================\n",
      "batch_normalization_1 (Batch (None, 150, 300, 1)       600       \n",
      "_________________________________________________________________\n",
      "conv2d_1 (Conv2D)            (None, 148, 298, 32)      320       \n",
      "_________________________________________________________________\n",
      "batch_normalization_2 (Batch (None, 148, 298, 32)      592       \n",
      "_________________________________________________________________\n",
      "conv2d_2 (Conv2D)            (None, 146, 296, 32)      9248      \n",
      "_________________________________________________________________\n",
      "max_pooling2d_1 (MaxPooling2 (None, 73, 148, 32)       0         \n",
      "_________________________________________________________________\n",
      "batch_normalization_3 (Batch (None, 73, 148, 32)       292       \n",
      "_________________________________________________________________\n",
      "conv2d_3 (Conv2D)            (None, 71, 146, 64)       18496     \n",
      "_________________________________________________________________\n",
      "batch_normalization_4 (Batch (None, 71, 146, 64)       284       \n",
      "_________________________________________________________________\n",
      "conv2d_4 (Conv2D)            (None, 69, 144, 64)       36928     \n",
      "_________________________________________________________________\n",
      "max_pooling2d_2 (MaxPooling2 (None, 34, 72, 64)        0         \n",
      "_________________________________________________________________\n",
      "batch_normalization_5 (Batch (None, 34, 72, 64)        136       \n",
      "_________________________________________________________________\n",
      "conv2d_5 (Conv2D)            (None, 32, 70, 128)       73856     \n",
      "_________________________________________________________________\n",
      "batch_normalization_6 (Batch (None, 32, 70, 128)       128       \n",
      "_________________________________________________________________\n",
      "conv2d_6 (Conv2D)            (None, 30, 68, 128)       147584    \n",
      "_________________________________________________________________\n",
      "max_pooling2d_3 (MaxPooling2 (None, 15, 34, 128)       0         \n",
      "_________________________________________________________________\n",
      "batch_normalization_7 (Batch (None, 15, 34, 128)       60        \n",
      "_________________________________________________________________\n",
      "conv2d_7 (Conv2D)            (None, 13, 32, 128)       147584    \n",
      "_________________________________________________________________\n",
      "batch_normalization_8 (Batch (None, 13, 32, 128)       52        \n",
      "_________________________________________________________________\n",
      "conv2d_8 (Conv2D)            (None, 11, 30, 128)       147584    \n",
      "_________________________________________________________________\n",
      "max_pooling2d_4 (MaxPooling2 (None, 5, 15, 128)        0         \n",
      "_________________________________________________________________\n",
      "flatten_1 (Flatten)          (None, 9600)              0         \n",
      "_________________________________________________________________\n",
      "dense_1 (Dense)              (None, 1024)              9831424   \n",
      "_________________________________________________________________\n",
      "batch_normalization_9 (Batch (None, 1024)              4096      \n",
      "_________________________________________________________________\n",
      "dropout_1 (Dropout)          (None, 1024)              0         \n",
      "_________________________________________________________________\n",
      "dense_2 (Dense)              (None, 1024)              1049600   \n",
      "_________________________________________________________________\n",
      "batch_normalization_10 (Batc (None, 1024)              4096      \n",
      "_________________________________________________________________\n",
      "dropout_2 (Dropout)          (None, 1024)              0         \n",
      "_________________________________________________________________\n",
      "dense_3 (Dense)              (None, 4)                 4100      \n",
      "=================================================================\n",
      "Total params: 11,477,060\n",
      "Trainable params: 11,471,892\n",
      "Non-trainable params: 5,168\n",
      "_________________________________________________________________\n"
     ]
    }
   ],
   "source": [
    "model.summary()"
   ]
  },
  {
   "cell_type": "code",
   "execution_count": 9,
   "metadata": {
    "collapsed": true
   },
   "outputs": [],
   "source": [
    "from keras.preprocessing.image import ImageDataGenerator\n",
    "from keras.preprocessing import image\n",
    "gen=image.ImageDataGenerator(rotation_range=15,shear_range=0.1 ,channel_shift_range=0.2 ,width_shift_range=0.4 , height_shift_range=0.25)\n",
    "gen1=image.ImageDataGenerator()"
   ]
  },
  {
   "cell_type": "code",
   "execution_count": 16,
   "metadata": {},
   "outputs": [
    {
     "name": "stdout",
     "output_type": "stream",
     "text": [
      "Found 5820 images belonging to 4 classes.\n"
     ]
    }
   ],
   "source": [
    "batch_size=30\n",
    "\n",
    "train= gen.flow_from_directory('train', target_size=(150,300),\n",
    "                class_mode='categorical', shuffle=True, batch_size=batch_size, color_mode='grayscale')"
   ]
  },
  {
   "cell_type": "code",
   "execution_count": 17,
   "metadata": {},
   "outputs": [
    {
     "name": "stdout",
     "output_type": "stream",
     "text": [
      "Found 1098 images belonging to 4 classes.\n"
     ]
    }
   ],
   "source": [
    "val= gen1.flow_from_directory('val', target_size=(150,300),\n",
    "                class_mode='categorical', shuffle=False, batch_size=batch_size, color_mode='grayscale')"
   ]
  },
  {
   "cell_type": "code",
   "execution_count": 12,
   "metadata": {
    "collapsed": true
   },
   "outputs": [],
   "source": [
    "from keras.optimizers import Adam\n",
    "model.compile(Adam(lr=0.00001), loss='categorical_crossentropy', metrics=['accuracy'])"
   ]
  },
  {
   "cell_type": "code",
   "execution_count": 13,
   "metadata": {
    "collapsed": true
   },
   "outputs": [],
   "source": [
    "#model.load_weights ('new3.h5')"
   ]
  },
  {
   "cell_type": "code",
   "execution_count": 14,
   "metadata": {},
   "outputs": [
    {
     "name": "stdout",
     "output_type": "stream",
     "text": [
      "Epoch 1/3\n",
      "291/291 [==============================] - 256s - loss: 2.0888 - acc: 0.2985 - val_loss: 1.7112 - val_acc: 0.2386\n",
      "Epoch 2/3\n",
      "291/291 [==============================] - 230s - loss: 1.9623 - acc: 0.3100 - val_loss: 1.6396 - val_acc: 0.3233\n",
      "Epoch 3/3\n",
      "291/291 [==============================] - 263s - loss: 1.9401 - acc: 0.3232 - val_loss: 1.7554 - val_acc: 0.2696\n"
     ]
    },
    {
     "data": {
      "text/plain": [
       "<keras.callbacks.History at 0x7eff79aa7f98>"
      ]
     },
     "execution_count": 14,
     "metadata": {},
     "output_type": "execute_result"
    }
   ],
   "source": [
    "batch_size=30\n",
    "model.fit_generator(train, steps_per_epoch=5820/batch_size, epochs=3, \n",
    "                            validation_data=val, validation_steps=1098/batch_size)"
   ]
  },
  {
   "cell_type": "code",
   "execution_count": 19,
   "metadata": {},
   "outputs": [
    {
     "name": "stdout",
     "output_type": "stream",
     "text": [
      "Epoch 1/10\n",
      "194/194 [==============================] - 193s - loss: 1.8731 - acc: 0.3373 - val_loss: 1.6035 - val_acc: 0.3424\n",
      "Epoch 2/10\n",
      "194/194 [==============================] - 193s - loss: 1.8235 - acc: 0.3497 - val_loss: 1.5251 - val_acc: 0.3324\n",
      "Epoch 3/10\n",
      "194/194 [==============================] - 194s - loss: 1.7680 - acc: 0.3608 - val_loss: 1.6223 - val_acc: 0.3424\n",
      "Epoch 4/10\n",
      "194/194 [==============================] - 193s - loss: 1.7384 - acc: 0.3668 - val_loss: 1.4793 - val_acc: 0.3434\n",
      "Epoch 5/10\n",
      "194/194 [==============================] - 192s - loss: 1.7352 - acc: 0.3660 - val_loss: 1.4884 - val_acc: 0.3370\n",
      "Epoch 6/10\n",
      "194/194 [==============================] - 192s - loss: 1.6866 - acc: 0.3797 - val_loss: 1.4812 - val_acc: 0.3461\n",
      "Epoch 7/10\n",
      "194/194 [==============================] - 193s - loss: 1.6438 - acc: 0.3957 - val_loss: 1.4990 - val_acc: 0.3716\n",
      "Epoch 8/10\n",
      "194/194 [==============================] - 195s - loss: 1.6472 - acc: 0.3942 - val_loss: 1.6019 - val_acc: 0.3670\n",
      "Epoch 9/10\n",
      "194/194 [==============================] - 255s - loss: 1.6228 - acc: 0.4067 - val_loss: 1.6658 - val_acc: 0.3415\n",
      "Epoch 10/10\n",
      "194/194 [==============================] - 274s - loss: 1.5705 - acc: 0.4163 - val_loss: 1.6484 - val_acc: 0.3588\n"
     ]
    },
    {
     "data": {
      "text/plain": [
       "<keras.callbacks.History at 0x7eff58b6b908>"
      ]
     },
     "execution_count": 19,
     "metadata": {},
     "output_type": "execute_result"
    }
   ],
   "source": [
    "batch_size=30\n",
    "model.optimizer.lr=0.1\n",
    "model.fit_generator(train, steps_per_epoch=5820/batch_size, epochs=10, \n",
    "                            validation_data=val, validation_steps=1098/batch_size)"
   ]
  },
  {
   "cell_type": "code",
   "execution_count": 20,
   "metadata": {
    "collapsed": true
   },
   "outputs": [],
   "source": [
    "model.save_weights ('new1.h5')"
   ]
  },
  {
   "cell_type": "code",
   "execution_count": 39,
   "metadata": {},
   "outputs": [
    {
     "name": "stdout",
     "output_type": "stream",
     "text": [
      "Epoch 1/10\n",
      "194/194 [==============================] - 193s - loss: 1.5869 - acc: 0.4165 - val_loss: 1.7296 - val_acc: 0.3297\n",
      "Epoch 2/10\n",
      "194/194 [==============================] - 193s - loss: 1.5828 - acc: 0.4175 - val_loss: 1.6501 - val_acc: 0.3370\n",
      "Epoch 3/10\n",
      "194/194 [==============================] - 193s - loss: 1.5636 - acc: 0.4263 - val_loss: 1.6737 - val_acc: 0.3270\n",
      "Epoch 4/10\n",
      "194/194 [==============================] - 193s - loss: 1.5469 - acc: 0.4230 - val_loss: 1.6092 - val_acc: 0.3169\n",
      "Epoch 5/10\n",
      "194/194 [==============================] - 193s - loss: 1.5577 - acc: 0.4253 - val_loss: 1.7017 - val_acc: 0.3434\n",
      "Epoch 6/10\n",
      "194/194 [==============================] - 248s - loss: 1.5334 - acc: 0.4251 - val_loss: 1.6863 - val_acc: 0.3151\n",
      "Epoch 7/10\n",
      "194/194 [==============================] - 271s - loss: 1.4864 - acc: 0.4366 - val_loss: 1.7245 - val_acc: 0.3224\n",
      "Epoch 8/10\n",
      "194/194 [==============================] - 194s - loss: 1.4951 - acc: 0.4529 - val_loss: 1.6605 - val_acc: 0.3306\n",
      "Epoch 9/10\n",
      "194/194 [==============================] - 354s - loss: 1.4834 - acc: 0.4419 - val_loss: 1.5833 - val_acc: 0.3160\n",
      "Epoch 10/10\n",
      "194/194 [==============================] - 288s - loss: 1.4485 - acc: 0.4620 - val_loss: 1.6626 - val_acc: 0.3097\n"
     ]
    },
    {
     "data": {
      "text/plain": [
       "<keras.callbacks.History at 0x7eff586be898>"
      ]
     },
     "execution_count": 39,
     "metadata": {},
     "output_type": "execute_result"
    }
   ],
   "source": [
    "model.fit_generator(train, steps_per_epoch=5820/batch_size, epochs=10, \n",
    "                            validation_data=val, validation_steps=1098/batch_size)"
   ]
  },
  {
   "cell_type": "code",
   "execution_count": 42,
   "metadata": {
    "collapsed": true
   },
   "outputs": [],
   "source": [
    "model.save_weights ('new3.h5')"
   ]
  },
  {
   "cell_type": "code",
   "execution_count": 41,
   "metadata": {},
   "outputs": [
    {
     "name": "stdout",
     "output_type": "stream",
     "text": [
      "Epoch 1/10\n",
      "194/194 [==============================] - 260s - loss: 1.4401 - acc: 0.4636 - val_loss: 1.7125 - val_acc: 0.3224\n",
      "Epoch 2/10\n",
      "194/194 [==============================] - 453s - loss: 1.4200 - acc: 0.4694 - val_loss: 1.6519 - val_acc: 0.3042\n",
      "Epoch 3/10\n",
      "194/194 [==============================] - 457s - loss: 1.4442 - acc: 0.4560 - val_loss: 1.6924 - val_acc: 0.3233\n",
      "Epoch 4/10\n",
      "194/194 [==============================] - 416s - loss: 1.4180 - acc: 0.4766 - val_loss: 1.7037 - val_acc: 0.3179\n",
      "Epoch 5/10\n",
      "194/194 [==============================] - 483s - loss: 1.4154 - acc: 0.4608 - val_loss: 1.5949 - val_acc: 0.3188\n",
      "Epoch 6/10\n",
      "194/194 [==============================] - 513s - loss: 1.4070 - acc: 0.4684 - val_loss: 1.6403 - val_acc: 0.3233\n",
      "Epoch 7/10\n",
      "194/194 [==============================] - 335s - loss: 1.4109 - acc: 0.4753 - val_loss: 1.6806 - val_acc: 0.2914\n",
      "Epoch 8/10\n",
      "194/194 [==============================] - 509s - loss: 1.3639 - acc: 0.4799 - val_loss: 1.7003 - val_acc: 0.3015\n",
      "Epoch 9/10\n",
      "194/194 [==============================] - 510s - loss: 1.3595 - acc: 0.4857 - val_loss: 1.7594 - val_acc: 0.3333\n",
      "Epoch 10/10\n",
      "194/194 [==============================] - 367s - loss: 1.3778 - acc: 0.4809 - val_loss: 1.6033 - val_acc: 0.3060\n"
     ]
    },
    {
     "data": {
      "text/plain": [
       "<keras.callbacks.History at 0x7eff586bb6d8>"
      ]
     },
     "execution_count": 41,
     "metadata": {},
     "output_type": "execute_result"
    }
   ],
   "source": [
    "model.optimizer.lr=0.01\n",
    "model.fit_generator(train, steps_per_epoch=5820/batch_size, epochs=10, \n",
    "                            validation_data=val, validation_steps=1098/batch_size)"
   ]
  },
  {
   "cell_type": "code",
   "execution_count": null,
   "metadata": {},
   "outputs": [
    {
     "name": "stdout",
     "output_type": "stream",
     "text": [
      "Epoch 1/10\n",
      "194/194 [==============================] - 264s - loss: 1.3554 - acc: 0.4890 - val_loss: 1.6253 - val_acc: 0.3078\n",
      "Epoch 2/10\n",
      "194/194 [==============================] - 305s - loss: 1.2895 - acc: 0.5005 - val_loss: 1.7211 - val_acc: 0.3015\n",
      "Epoch 3/10\n",
      " 67/194 [=========>....................] - ETA: 169s - loss: 1.3101 - acc: 0.4920"
     ]
    }
   ],
   "source": [
    "model.optimizer.lr=0.01\n",
    "model.fit_generator(train, steps_per_epoch=5820/batch_size, epochs=10, \n",
    "                            validation_data=val, validation_steps=1098/batch_size)"
   ]
  },
  {
   "cell_type": "code",
   "execution_count": null,
   "metadata": {
    "collapsed": true
   },
   "outputs": [],
   "source": [
    "model.optimizer.lr=0.001\n",
    "model.fit_generator(train, steps_per_epoch=2387/batch_size, epochs=5, \n",
    "                            validation_data=val, validation_steps=594/batch_size)"
   ]
  },
  {
   "cell_type": "code",
   "execution_count": null,
   "metadata": {
    "collapsed": true
   },
   "outputs": [],
   "source": [
    "model.fit_generator(train, steps_per_epoch=2387/batch_size, epochs=5, \n",
    "                            validation_data=val, validation_steps=594/batch_size)"
   ]
  },
  {
   "cell_type": "code",
   "execution_count": null,
   "metadata": {
    "collapsed": true
   },
   "outputs": [],
   "source": [
    "   \n",
    "model.optimizer.lr=0.1\n",
    "for i in range (4,9):\n",
    "    model.fit_generator(train, steps_per_epoch=2387/batch_size, epochs=5, \n",
    "                            validation_data=val, validation_steps=594/batch_size)\n",
    "    model.save_weights ('new{x}.h5'.format(x=i))"
   ]
  },
  {
   "cell_type": "code",
   "execution_count": null,
   "metadata": {
    "collapsed": true
   },
   "outputs": [],
   "source": [
    "model.optimizer.lr=0.001\n",
    "for i in range (9,15):\n",
    "    model.fit_generator(train, steps_per_epoch=2387/batch_size, epochs=5, \n",
    "                            validation_data=val, validation_steps=594/batch_size)\n",
    "    model.save_weights ('new{x}.h5'.format(x=i))"
   ]
  },
  {
   "cell_type": "code",
   "execution_count": null,
   "metadata": {
    "collapsed": true
   },
   "outputs": [],
   "source": [
    "model.load_weights('new10.h5')"
   ]
  },
  {
   "cell_type": "code",
   "execution_count": 22,
   "metadata": {},
   "outputs": [
    {
     "name": "stdout",
     "output_type": "stream",
     "text": [
      "Found 200 images belonging to 4 classes.\n"
     ]
    }
   ],
   "source": [
    "test = gen1.flow_from_directory('test', target_size=(150,300),\n",
    "                class_mode='categorical', shuffle=False, batch_size=1 ,color_mode='grayscale')"
   ]
  },
  {
   "cell_type": "code",
   "execution_count": 23,
   "metadata": {},
   "outputs": [
    {
     "data": {
      "text/plain": [
       "{'al': 0, 'bl': 1, 'lotr': 2, 'ra': 3}"
      ]
     },
     "execution_count": 23,
     "metadata": {},
     "output_type": "execute_result"
    }
   ],
   "source": [
    "test.class_indices"
   ]
  },
  {
   "cell_type": "code",
   "execution_count": 24,
   "metadata": {
    "collapsed": true
   },
   "outputs": [],
   "source": [
    "pre=model.predict_generator(test,200)"
   ]
  },
  {
   "cell_type": "code",
   "execution_count": 25,
   "metadata": {},
   "outputs": [
    {
     "data": {
      "text/plain": [
       "{'al': 0, 'bl': 1, 'lotr': 2, 'ra': 3}"
      ]
     },
     "execution_count": 25,
     "metadata": {},
     "output_type": "execute_result"
    }
   ],
   "source": [
    "test.class_indices"
   ]
  },
  {
   "cell_type": "code",
   "execution_count": 26,
   "metadata": {
    "collapsed": true
   },
   "outputs": [],
   "source": [
    "files = test.filenames"
   ]
  },
  {
   "cell_type": "code",
   "execution_count": 35,
   "metadata": {},
   "outputs": [
    {
     "name": "stdout",
     "output_type": "stream",
     "text": [
      "[ 0.04020891  0.60409611  0.19727623  0.15841873] 1\n",
      "[ 0.14861488  0.00274551  0.81311899  0.03552062] 2\n",
      "[ 0.01790603  0.04217943  0.10800786  0.83190674] 3\n",
      "[ 0.04685045  0.2602011   0.67316294  0.01978547] 4\n",
      "[ 0.01539489  0.62541139  0.33566627  0.02352746] 5\n",
      "[ 0.02486388  0.40741289  0.53508168  0.03264153] doubt\n",
      "[ 0.00649297  0.10666455  0.04708645  0.83975595] 7\n",
      "[ 0.00431231  0.00741366  0.00980984  0.97846413] 8\n",
      "[ 0.29605886  0.00806052  0.63602901  0.05985165] 9\n",
      "[ 0.02192388  0.21098268  0.7381075   0.02898596] 10\n",
      "[ 0.01331131  0.12890297  0.0313895   0.82639617] 11\n",
      "[ 0.00313375  0.01175865  0.03136178  0.95374578] 12\n",
      "[ 0.06378714  0.09285598  0.78941131  0.05394561] 13\n",
      "[ 0.0289786   0.1233722   0.82145548  0.02619367] 14\n",
      "[ 0.20751768  0.45738548  0.21756464  0.11753217] doubt\n",
      "[ 0.01885102  0.30381632  0.58762282  0.08970993] doubt\n",
      "[ 0.01150945  0.86461782  0.09013187  0.03374089] 17\n",
      "[ 0.04079349  0.06996413  0.877451    0.01179141] 18\n",
      "[ 0.00150929  0.00703889  0.00780757  0.98364431] 19\n",
      "[ 0.00348506  0.0329387   0.01426616  0.94931006] 20\n",
      "[ 0.21312182  0.00951884  0.63449198  0.14286737] 21\n",
      "[ 0.05535717  0.33069873  0.42862615  0.18531795] doubt\n",
      "[ 0.24278465  0.00705028  0.55798239  0.19218275] doubt\n",
      "[ 0.20127195  0.13709818  0.07236882  0.58926111] doubt\n",
      "[ 0.00430786  0.02506603  0.00987206  0.9607541 ] 25\n",
      "[ 0.01558848  0.12249926  0.17219615  0.6897161 ] 26\n",
      "[ 0.0173241   0.29314837  0.66806352  0.02146401] 27\n",
      "[ 0.01115705  0.11657912  0.86179107  0.01047272] 28\n",
      "[ 0.21796593  0.00509613  0.6991505   0.07778747] 29\n",
      "[ 0.0204306   0.01010834  0.88167179  0.08778922] 30\n",
      "[ 0.0049389   0.0117317   0.00749407  0.97583526] 31\n",
      "[ 0.03502059  0.05570889  0.86358649  0.04568396] 32\n",
      "[ 0.0130168   0.09022145  0.88684142  0.00992032] 34\n",
      "[ 0.01680357  0.41127649  0.53898329  0.03293668] doubt\n",
      "[ 0.03561494  0.16755952  0.78791183  0.00891373] 36\n",
      "[ 0.2925294   0.00247971  0.63429189  0.07069897] 37\n",
      "[ 0.01984441  0.44411615  0.4973692   0.0386703 ] doubt\n",
      "[ 0.03949321  0.13598286  0.2071837   0.61734021] 39\n",
      "[ 0.01618068  0.57232803  0.36841223  0.04307903] doubt\n",
      "[ 0.01699862  0.17311801  0.7921626   0.01772072] 41\n",
      "[ 0.0328925   0.35315022  0.58708012  0.02687716] doubt\n",
      "[ 0.25785971  0.01919384  0.67491156  0.04803488] 43\n",
      "[ 0.01118948  0.02587426  0.00572149  0.95721477] 44\n",
      "[ 0.0495218   0.10970701  0.05509822  0.78567296] 45\n",
      "[ 0.02748416  0.34555849  0.59691691  0.03004051] doubt\n",
      "[ 0.01704667  0.74299735  0.20429759  0.03565835] 47\n",
      "[ 0.00487305  0.18531007  0.78650182  0.02331503] 48\n",
      "[ 0.00763774  0.15798266  0.0134735   0.8209061 ] 49\n",
      "[ 0.08482184  0.18186279  0.55493456  0.17838079] doubt\n",
      "[ 0.03849666  0.26820332  0.03038462  0.66291535] 53\n",
      "[ 0.04013969  0.05008997  0.06977328  0.83999705] 54\n",
      "[ 0.0778444   0.44045421  0.31839892  0.16330247] doubt\n",
      "[ 0.14524518  0.54849833  0.28048626  0.02577026] doubt\n",
      "[ 0.18366653  0.51758558  0.12612866  0.17261925] doubt\n",
      "[ 0.16850212  0.05950981  0.6397382   0.13224985] 59\n",
      "[ 0.13227193  0.41843316  0.41126403  0.03803083] doubt\n",
      "[ 0.1746881  0.5187642  0.2356474  0.0709003] doubt\n",
      "[ 0.19275573  0.27905962  0.45574197  0.07244275] doubt\n",
      "[ 0.09987405  0.53340149  0.30570325  0.0610213 ] doubt\n",
      "[ 0.09976389  0.10041805  0.585491    0.21432711] doubt\n",
      "[ 0.02470692  0.28981274  0.0300033   0.65547705] 70\n",
      "[ 0.0871656   0.36857536  0.47841826  0.06584074] doubt\n",
      "[ 0.1114203   0.18776353  0.46335375  0.23746246] doubt\n",
      "[ 0.04749264  0.10095544  0.062255    0.78929693] 73\n",
      "[ 0.10008298  0.42220947  0.0611204   0.4165872 ] doubt\n",
      "[ 0.11560768  0.53102398  0.15007037  0.20329794] doubt\n",
      "[ 0.10959404  0.23381616  0.44556677  0.21102303] doubt\n",
      "[ 0.07451554  0.22781065  0.29394493  0.40372881] doubt\n",
      "[ 0.24427077  0.46205345  0.13660865  0.15706715] doubt\n",
      "[ 0.15959609  0.14651351  0.51569229  0.17819805] doubt\n",
      "[ 0.58662122  0.01462758  0.29623181  0.10251945] doubt\n",
      "[ 0.30421802  0.01467233  0.57479775  0.10631195] doubt\n",
      "[ 0.05272021  0.16073883  0.76364565  0.0228953 ] 90\n",
      "[ 0.07552437  0.16249031  0.06724199  0.69474339] 91\n",
      "[ 0.18115544  0.18613033  0.44366419  0.18905008] doubt\n",
      "[ 0.0894848   0.04108822  0.81217539  0.0572516 ] 93\n",
      "[ 0.15273848  0.00531505  0.76678234  0.07516412] 94\n",
      "[ 0.05209456  0.26203057  0.52413648  0.16173837] doubt\n",
      "[ 0.18597789  0.35119724  0.448511    0.01431389] doubt\n",
      "[ 0.15772761  0.55198038  0.18853676  0.10175523] doubt\n",
      "[ 0.41572246  0.33797586  0.17624344  0.0700582 ] doubt\n",
      "[ 0.19076444  0.45884657  0.2417168   0.10867229] doubt\n",
      "[ 0.07242797  0.62037194  0.25653863  0.05066141] 102\n",
      "[ 0.02063448  0.09223919  0.02138073  0.8657456 ] 103\n",
      "[ 0.36969036  0.01734164  0.55415034  0.05881773] doubt\n",
      "[ 0.36909097  0.06054553  0.5055747   0.06478887] doubt\n",
      "[ 0.36549723  0.01564687  0.52883077  0.09002517] doubt\n",
      "[ 0.12838057  0.49849102  0.01316946  0.35995892] doubt\n",
      "[ 0.19527759  0.63538265  0.11398237  0.05535736] 109\n",
      "[ 0.27343294  0.06216589  0.54547662  0.11892455] doubt\n",
      "[ 0.04979391  0.07720231  0.05699297  0.81601089] 111\n",
      "[ 0.22513403  0.11434886  0.59241217  0.06810495] doubt\n",
      "[ 0.0736462   0.10729475  0.58280605  0.23625305] doubt\n",
      "[ 0.29441425  0.05079703  0.49005634  0.16473244] doubt\n",
      "[ 0.29829073  0.02151107  0.48964655  0.19055165] doubt\n",
      "[ 0.06646143  0.03885875  0.26577213  0.62890774] 117\n",
      "[ 0.07640025  0.05114795  0.22337306  0.64907873] 118\n",
      "[ 0.52842808  0.00597487  0.39799652  0.06760058] doubt\n",
      "[ 0.34177893  0.00259958  0.55609411  0.09952734] doubt\n",
      "[ 0.41492033  0.00329193  0.4871836   0.09460413] doubt\n",
      "[ 0.21914998  0.01287859  0.59978801  0.16818346] doubt\n",
      "[ 0.07664563  0.05086052  0.26258475  0.60990912] 125\n",
      "[ 0.39734608  0.03887112  0.53536332  0.02841941] doubt\n",
      "[ 0.47800046  0.0158406   0.45373181  0.05242703] doubt\n",
      "[ 0.49802449  0.00118018  0.37117639  0.12961887] doubt\n",
      "[ 0.51262516  0.17965075  0.23232213  0.07540197] doubt\n",
      "[ 0.13493063  0.00623454  0.27090508  0.58792973] doubt\n",
      "[ 0.33066306  0.13211152  0.49463406  0.04259133] doubt\n",
      "[ 0.23467447  0.15484248  0.53197974  0.07850334] doubt\n",
      "[ 0.51272833  0.05669378  0.40226075  0.02831711] doubt\n",
      "[ 0.36326286  0.07773335  0.51824343  0.04076039] doubt\n",
      "[ 0.31862366  0.02691729  0.52886254  0.12559649] doubt\n",
      "[ 0.09521599  0.26977229  0.15833284  0.47667888] doubt\n",
      "[ 0.28465098  0.10828979  0.5045628   0.1024965 ] doubt\n",
      "[ 0.50411463  0.05700298  0.3392559   0.09962637] doubt\n",
      "[ 0.02326379  0.74319178  0.1996581   0.03388628] 144\n",
      "[ 0.36718458  0.00147034  0.52982974  0.10151536] doubt\n",
      "[ 0.14008816  0.4165473   0.28961369  0.15375085] doubt\n",
      "[ 0.74270546  0.12432057  0.03931661  0.09365732] 147\n",
      "[ 0.0899392   0.05441689  0.09220514  0.76343876] 148\n",
      "[ 0.25426424  0.15193987  0.48650578  0.10729007] doubt\n",
      "[ 0.01325165  0.13176456  0.78619856  0.06878524] 150\n",
      "[ 0.45922816  0.08005731  0.33893681  0.12177777] doubt\n",
      "[ 0.88176715  0.04263087  0.025077    0.05052496] 152\n",
      "[ 0.33964488  0.12525204  0.44551244  0.08959072] doubt\n",
      "[ 0.0621937   0.47662959  0.23704262  0.22413412] doubt\n",
      "[ 0.16889483  0.07203705  0.65719354  0.10187458] 155\n",
      "[ 0.09988682  0.25861365  0.23785782  0.4036417 ] doubt\n",
      "[ 0.49467742  0.07816558  0.3153832   0.11177386] doubt\n",
      "[ 0.27989307  0.04427031  0.63398516  0.04185137] 159\n",
      "[ 0.13220991  0.67313105  0.09319708  0.10146195] 160\n",
      "[ 0.07612496  0.00290326  0.90961677  0.01135499] 161\n",
      "[ 0.15616879  0.06776742  0.73819387  0.03786994] 162\n",
      "[ 0.17756602  0.36256802  0.2306409   0.22922504] 163\n",
      "[ 0.26633531  0.34906963  0.22916287  0.15543221] 164\n",
      "[ 0.11172989  0.59743607  0.24035046  0.05048352] doubt\n",
      "[ 0.08380918  0.02149736  0.87689322  0.01780025] 166\n",
      "[ 0.56260353  0.33291274  0.07998521  0.02449848] doubt\n",
      "[ 0.41760141  0.07616197  0.42544374  0.08079289] doubt\n",
      "[ 0.11108173  0.03681656  0.81285912  0.03924265] 170\n",
      "[ 0.32787523  0.12747155  0.33332452  0.2113287 ] 171\n",
      "[ 0.22376148  0.13799974  0.51960701  0.11863178] doubt\n",
      "[ 0.18534827  0.17853524  0.38339058  0.2527259 ] 173\n",
      "[ 0.32342505  0.12346154  0.4415094   0.11160397] doubt\n",
      "[ 0.05387668  0.00126215  0.92063797  0.02422323] 175\n",
      "[ 0.1883567   0.53291082  0.1960514   0.08268109] doubt\n",
      "[ 0.24337885  0.43315715  0.19892855  0.12453548] doubt\n",
      "[ 0.22824399  0.00612842  0.72591293  0.03971468] 178\n",
      "[ 0.11915874  0.34901878  0.107837    0.42398545] doubt\n",
      "[ 0.27625626  0.55184698  0.12854615  0.04335063] doubt\n",
      "[ 0.050853    0.31913325  0.1844326   0.4455812 ] doubt\n",
      "[ 0.15396227  0.33188325  0.27236056  0.24179395] 184\n",
      "[ 0.1058279   0.0857638   0.65026969  0.15813862] 185\n",
      "[ 0.15428516  0.10271548  0.42177811  0.32122126] doubt\n",
      "[ 0.14920948  0.08011249  0.7405262   0.03015185] 187\n",
      "[ 0.13690728  0.02545095  0.8248328   0.01280892] 188\n",
      "[ 0.33841729  0.03618465  0.5860706   0.03932756] doubt\n",
      "[ 0.127729    0.00160475  0.85603607  0.01463025] 190\n",
      "[ 0.10758907  0.20139743  0.4112922   0.27972129] doubt\n",
      "[ 0.07335024  0.53784823  0.14987938  0.23892212] doubt\n",
      "[ 0.27517426  0.10079756  0.57269371  0.05133449] doubt\n",
      "[ 0.10894565  0.22499008  0.13464361  0.53142059] doubt\n",
      "[ 0.30516049  0.09189317  0.52031189  0.08263441] doubt\n",
      "[ 0.38944337  0.05403864  0.42469284  0.1318251 ] doubt\n",
      "[ 0.14453012  0.28837231  0.45556533  0.11153217] doubt\n"
     ]
    }
   ],
   "source": [
    "mistake=0\n",
    "doubt=0\n",
    "file=[]\n",
    "file1=[]\n",
    "correct=0\n",
    "num=0\n",
    "for x in pre : \n",
    "    \n",
    "    if (x[0]<0.6 and x[0]>0.4) or (x[1]<0.6 and x[1]>0.4) or (x[2]<0.6 and x[2]>0.4) or (x[3]<0.6 and x[3]>0.4)  : \n",
    "        doubt+=1\n",
    "        print (x , \"doubt\")\n",
    "        file1.append (files[num])\n",
    "    else:\n",
    "        if num<50:\n",
    "            if x[0]<0.3: \n",
    "                mistake+=1\n",
    "                print (x,num)\n",
    "                file.append (files[num])\n",
    "            else : correct+=1\n",
    "        elif num<100:\n",
    "            if x[1]<0.3: \n",
    "                mistake+=1\n",
    "                print (x,num) \n",
    "                file.append (files[num])\n",
    "            else : correct+=1\n",
    "        elif num<150:\n",
    "            if x[2]<0.3: \n",
    "                mistake+=1\n",
    "                print (x,num) \n",
    "                file.append (files[num])\n",
    "            else : correct+=1\n",
    "                \n",
    "        else:\n",
    "            if x[3]<0.3: \n",
    "                mistake+=1\n",
    "                print (x,num) \n",
    "                file.append (files[num])\n",
    "            else : correct+=1\n",
    "    num+=1\n",
    "    \n",
    "all=correct+mistake"
   ]
  },
  {
   "cell_type": "code",
   "execution_count": 36,
   "metadata": {},
   "outputs": [
    {
     "data": {
      "text/plain": [
       "35"
      ]
     },
     "execution_count": 36,
     "metadata": {},
     "output_type": "execute_result"
    }
   ],
   "source": [
    "correct"
   ]
  },
  {
   "cell_type": "code",
   "execution_count": 37,
   "metadata": {},
   "outputs": [
    {
     "data": {
      "text/plain": [
       "0.445"
      ]
     },
     "execution_count": 37,
     "metadata": {},
     "output_type": "execute_result"
    }
   ],
   "source": [
    "doubt/(all+doubt)"
   ]
  },
  {
   "cell_type": "code",
   "execution_count": 38,
   "metadata": {},
   "outputs": [
    {
     "data": {
      "text/plain": [
       "76"
      ]
     },
     "execution_count": 38,
     "metadata": {},
     "output_type": "execute_result"
    }
   ],
   "source": [
    "mistake"
   ]
  },
  {
   "cell_type": "code",
   "execution_count": null,
   "metadata": {
    "collapsed": true
   },
   "outputs": [],
   "source": [
    "image.load_img ('newtest/'+files[54])"
   ]
  },
  {
   "cell_type": "code",
   "execution_count": null,
   "metadata": {
    "collapsed": true
   },
   "outputs": [],
   "source": []
  },
  {
   "cell_type": "code",
   "execution_count": null,
   "metadata": {
    "collapsed": true
   },
   "outputs": [],
   "source": []
  }
 ],
 "metadata": {
  "kernelspec": {
   "display_name": "Python 3",
   "language": "python",
   "name": "python3"
  },
  "language_info": {
   "codemirror_mode": {
    "name": "ipython",
    "version": 3
   },
   "file_extension": ".py",
   "mimetype": "text/x-python",
   "name": "python",
   "nbconvert_exporter": "python",
   "pygments_lexer": "ipython3",
   "version": "3.6.1"
  }
 },
 "nbformat": 4,
 "nbformat_minor": 2
}
