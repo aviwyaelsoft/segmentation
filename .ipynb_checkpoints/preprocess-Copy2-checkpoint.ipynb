{
 "cells": [
  {
   "cell_type": "code",
   "execution_count": 19,
   "metadata": {},
   "outputs": [],
   "source": [
    "from keras import backend as K\n",
    "\n",
    "cfg = K.tf.ConfigProto()\n",
    "cfg.gpu_options.allow_growth = True\n",
    "K.set_session(K.tf.Session(config=cfg))"
   ]
  },
  {
   "cell_type": "code",
   "execution_count": 20,
   "metadata": {
    "collapsed": true
   },
   "outputs": [],
   "source": [
    "from keras.preprocessing.image import ImageDataGenerator\n",
    "from keras.preprocessing import image\n",
    "traingen=image.ImageDataGenerator(  rotation_range=15,shear_range=0.1  ,width_shift_range=0.4 , height_shift_range=0.25)\n",
    "vallabelgen=image.ImageDataGenerator(rescale=1./255)\n",
    "valgen=image.ImageDataGenerator()\n",
    "trainlabelgen=image.ImageDataGenerator(rescale=1./255, rotation_range=15,shear_range=0.1  ,width_shift_range=0.4 , height_shift_range=0.25)"
   ]
  },
  {
   "cell_type": "code",
   "execution_count": 23,
   "metadata": {},
   "outputs": [
    {
     "name": "stdout",
     "output_type": "stream",
     "text": [
      "Found 2 images belonging to 2 classes.\n"
     ]
    }
   ],
   "source": [
    "dark= vallabelgen.flow_from_directory('dark', target_size=(160,320),\n",
    "                class_mode=None, batch_size=1, seed=1,color_mode='grayscale')"
   ]
  },
  {
   "cell_type": "code",
   "execution_count": 24,
   "metadata": {},
   "outputs": [],
   "source": [
    "import numpy as np\n",
    "dark=np.concatenate([dark.next() for i in range(dark.samples)])"
   ]
  },
  {
   "cell_type": "code",
   "execution_count": 25,
   "metadata": {},
   "outputs": [
    {
     "name": "stdout",
     "output_type": "stream",
     "text": [
      "Found 49 images belonging to 3 classes.\n",
      "Found 49 images belonging to 3 classes.\n",
      "Found 49 images belonging to 3 classes.\n",
      "Found 49 images belonging to 3 classes.\n",
      "Found 49 images belonging to 3 classes.\n"
     ]
    }
   ],
   "source": [
    "train= traingen.flow_from_directory('train/images', target_size=(160,320),\n",
    "                class_mode=None, batch_size=1, seed=1)\n",
    "\n",
    "train1=np.concatenate([train.next() for i in range(train.samples)])\n",
    "\n",
    "train= traingen.flow_from_directory('train/images', target_size=(160,320),\n",
    "                class_mode=None, batch_size=1, seed=2)\n",
    "\n",
    "train2=np.concatenate([train.next() for i in range(train.samples)])\n",
    "\n",
    "train= traingen.flow_from_directory('train/images', target_size=(160,320),\n",
    "                class_mode=None, batch_size=1, seed=3)\n",
    "\n",
    "train3=np.concatenate([train.next() for i in range(train.samples)])\n",
    "\n",
    "train= traingen.flow_from_directory('train/images', target_size=(160,320),\n",
    "                class_mode=None, batch_size=1, seed=4)\n",
    "\n",
    "train4=np.concatenate([train.next() for i in range(train.samples)])\n",
    "\n",
    "train= traingen.flow_from_directory('train/images', target_size=(160,320),\n",
    "                class_mode=None, batch_size=1, seed=5)\n",
    "\n",
    "train5=np.concatenate([train.next() for i in range(train.samples)])\n",
    "\n",
    "\n"
   ]
  },
  {
   "cell_type": "code",
   "execution_count": 26,
   "metadata": {},
   "outputs": [
    {
     "name": "stdout",
     "output_type": "stream",
     "text": [
      "Found 49 images belonging to 3 classes.\n",
      "Found 49 images belonging to 3 classes.\n",
      "Found 49 images belonging to 3 classes.\n",
      "Found 49 images belonging to 3 classes.\n",
      "Found 49 images belonging to 3 classes.\n"
     ]
    }
   ],
   "source": [
    "labels= trainlabelgen.flow_from_directory('train/labels', target_size=(160,320),\n",
    "                class_mode=None,  batch_size=1, seed=1,color_mode='grayscale')\n",
    "labels1=np.concatenate([labels.next() for i in range(labels.samples)])\n",
    "\n",
    "labels= trainlabelgen.flow_from_directory('train/labels', target_size=(160,320),\n",
    "                class_mode=None,  batch_size=1, seed=2,color_mode='grayscale')\n",
    "labels2=np.concatenate([labels.next() for i in range(labels.samples)])\n",
    "\n",
    "labels= trainlabelgen.flow_from_directory('train/labels', target_size=(160,320),\n",
    "                class_mode=None,  batch_size=1, seed=3,color_mode='grayscale')\n",
    "labels3=np.concatenate([labels.next() for i in range(labels.samples)])\n",
    "\n",
    "labels= trainlabelgen.flow_from_directory('train/labels', target_size=(160,320),\n",
    "                class_mode=None,  batch_size=1, seed=4,color_mode='grayscale')\n",
    "labels4=np.concatenate([labels.next() for i in range(labels.samples)])\n",
    "\n",
    "labels= trainlabelgen.flow_from_directory('train/labels', target_size=(160,320),\n",
    "                class_mode=None,  batch_size=1, seed=5,color_mode='grayscale')\n",
    "labels5=np.concatenate([labels.next() for i in range(labels.samples)])\n",
    "\n"
   ]
  },
  {
   "cell_type": "code",
   "execution_count": 28,
   "metadata": {},
   "outputs": [
    {
     "name": "stdout",
     "output_type": "stream",
     "text": [
      "al/cam1-085004.896.jpg al/cam1-085004.896.jpg\n",
      "al/cam1-082255.772.jpg al/cam1-082255.772.jpg\n",
      "al/cam1-091514.872.jpg al/cam1-091514.872.jpg\n",
      "al/cam1-084718.060.jpg al/cam1-084718.060.jpg\n",
      "al/cam1-081747.912.jpg al/cam1-081747.912.jpg\n",
      "al/cam1-082328.646.jpg al/cam1-082328.646.jpg\n",
      "al/cam1-081747.707.jpg al/cam1-081747.707.jpg\n",
      "al/cam1-093113.413.jpg al/cam1-093113.413.jpg\n",
      "al/cam1-091530.465.jpg al/cam1-091530.465.jpg\n",
      "al/cam1-091507.428.jpg al/cam1-091507.428.jpg\n",
      "al/cam1-091254.955.jpg al/cam1-091254.955.jpg\n",
      "al/cam1-082254.019.jpg al/cam1-082254.019.jpg\n",
      "al/cam1-084955.021.jpg al/cam1-084955.021.jpg\n",
      "al/cam1-091425.366.jpg al/cam1-091425.366.jpg\n",
      "al/cam1-085352.812.jpg al/cam1-085352.812.jpg\n",
      "al/cam1-082313.378.jpg al/cam1-082313.378.jpg\n",
      "al/cam1-082035.157.jpg al/cam1-082035.157.jpg\n",
      "bl/cam1-104501.783.jpg bl/cam1-104501.783.jpg\n",
      "bl/cam1-104156.244.jpg bl/cam1-104156.244.jpg\n",
      "bl/cam1-062148.829.jpg bl/cam1-062148.829.jpg\n",
      "bl/cam1-062529.931.jpg bl/cam1-062529.931.jpg\n",
      "bl/cam1-062100.495.jpg bl/cam1-062100.495.jpg\n",
      "bl/cam1-062617.962.jpg bl/cam1-062617.962.jpg\n",
      "bl/cam1-062346.059.jpg bl/cam1-062346.059.jpg\n",
      "bl/cam1-062254.864.jpg bl/cam1-062254.864.jpg\n",
      "bl/cam1-062616.114.jpg bl/cam1-062616.114.jpg\n",
      "bl/cam1-104444.539.jpg bl/cam1-104444.539.jpg\n",
      "bl/cam1-062502.487.jpg bl/cam1-062502.487.jpg\n",
      "bl/cam1-074252.603.jpg bl/cam1-074252.603.jpg\n",
      "bl/cam1-062138.001.jpg bl/cam1-062138.001.jpg\n",
      "bl/cam1-073533.647.jpg bl/cam1-073533.647.jpg\n",
      "bl/cam1-074248.891.jpg bl/cam1-074248.891.jpg\n",
      "bl/cam1-062131.501.jpg bl/cam1-062131.501.jpg\n",
      "ra/cam1-081634.912.jpg ra/cam1-081634.912.jpg\n",
      "ra/cam1-110547.917.jpg ra/cam1-110547.917.jpg\n",
      "ra/cam1-081612.084.jpg ra/cam1-081612.084.jpg\n",
      "ra/cam1-111106.509.jpg ra/cam1-111106.509.jpg\n",
      "ra/cam1-081647.650.jpg ra/cam1-081647.650.jpg\n",
      "ra/cam1-082104.727.jpg ra/cam1-082104.727.jpg\n",
      "ra/cam1-110544.388.jpg ra/cam1-110544.388.jpg\n",
      "ra/cam1-061027.664.jpg ra/cam1-061027.664.jpg\n",
      "ra/cam1-084734.617.jpg ra/cam1-084734.617.jpg\n",
      "ra/cam1-081534.908.jpg ra/cam1-081534.908.jpg\n",
      "ra/cam1-081726.457.jpg ra/cam1-081726.457.jpg\n",
      "ra/cam1-081459.523.jpg ra/cam1-081459.523.jpg\n",
      "ra/cam1-081641.190.jpg ra/cam1-081641.190.jpg\n",
      "ra/cam1-110849.415.jpg ra/cam1-110849.415.jpg\n",
      "ra/cam1-111051.378.jpg ra/cam1-111051.378.jpg\n",
      "ra/cam1-081505.824.jpg ra/cam1-081505.824.jpg\n"
     ]
    }
   ],
   "source": [
    "for i in range (49):\n",
    "    print (train.filenames[i] , labels.filenames[i])"
   ]
  },
  {
   "cell_type": "code",
   "execution_count": 29,
   "metadata": {},
   "outputs": [
    {
     "data": {
      "image/png": "[encoded data removed]",
      "text/plain": [
       "<PIL.Image.Image image mode=RGB size=320x160 at 0x7F0C6C3FF630>"
      ]
     },
     "execution_count": 29,
     "metadata": {},
     "output_type": "execute_result"
    }
   ],
   "source": [
    "image.array_to_img (train1[20])"
   ]
  },
  {
   "cell_type": "code",
   "execution_count": 30,
   "metadata": {},
   "outputs": [
    {
     "data": {
      "image/png": "[encoded data removed]",
      "text/plain": [
       "<PIL.Image.Image image mode=L size=320x160 at 0x7F0C6C3FF320>"
      ]
     },
     "execution_count": 30,
     "metadata": {},
     "output_type": "execute_result"
    }
   ],
   "source": [
    "image.array_to_img (labels1[20])"
   ]
  },
  {
   "cell_type": "code",
   "execution_count": null,
   "metadata": {
    "collapsed": true
   },
   "outputs": [],
   "source": []
  },
  {
   "cell_type": "code",
   "execution_count": null,
   "metadata": {
    "collapsed": true
   },
   "outputs": [],
   "source": []
  },
  {
   "cell_type": "code",
   "execution_count": null,
   "metadata": {
    "collapsed": true
   },
   "outputs": [],
   "source": [
    "trn_f=train.filenames"
   ]
  },
  {
   "cell_type": "code",
   "execution_count": null,
   "metadata": {
    "collapsed": true
   },
   "outputs": [],
   "source": [
    "lab_f=labels.filenames"
   ]
  },
  {
   "cell_type": "code",
   "execution_count": null,
   "metadata": {},
   "outputs": [],
   "source": [
    "for i in range (25):\n",
    "    print (lab_f[i], \"   \",trn_f[i])"
   ]
  },
  {
   "cell_type": "code",
   "execution_count": null,
   "metadata": {},
   "outputs": [],
   "source": [
    "import os.path\n",
    "os.path.isfile(fname)"
   ]
  },
  {
   "cell_type": "code",
   "execution_count": 18,
   "metadata": {},
   "outputs": [
    {
     "name": "stdout",
     "output_type": "stream",
     "text": [
      "cam1-062134.531_label.jpg\n"
     ]
    }
   ],
   "source": [
    "import os\n",
    "path=\"test/labels/bl/\"\n",
    "for filename in os.listdir(path):\n",
    "    print (filename)\n",
    "    if filename.endswith(\"_label.jpg\"):\n",
    "        os.rename(path+filename, path+filename[:-10]+\".jpg\")"
   ]
  },
  {
   "cell_type": "code",
   "execution_count": 31,
   "metadata": {},
   "outputs": [
    {
     "name": "stdout",
     "output_type": "stream",
     "text": [
      "Found 6 images belonging to 3 classes.\n",
      "Found 6 images belonging to 3 classes.\n"
     ]
    }
   ],
   "source": [
    "val= valgen.flow_from_directory('val/images', target_size=(160,320),\n",
    "                class_mode=None, batch_size=1, seed=1)\n",
    "val_labels= vallabelgen.flow_from_directory('val/labels', target_size=(160,320),\n",
    "                class_mode=None,  batch_size=1, seed=1,color_mode='grayscale')\n",
    "val1=np.concatenate([val.next() for i in range(val.samples)])\n",
    "val_labels1=np.concatenate([val_labels.next() for i in range(val_labels.samples)])"
   ]
  },
  {
   "cell_type": "code",
   "execution_count": 32,
   "metadata": {},
   "outputs": [
    {
     "name": "stdout",
     "output_type": "stream",
     "text": [
      "al/cam1-082017.620.jpg     al/cam1-082017.620.jpg\n",
      "al/cam1-112604.325.jpg     al/cam1-112604.325.jpg\n",
      "bl/cam1-062214.068.jpg     bl/cam1-062214.068.jpg\n",
      "bl/cam1-110156.579.jpg     bl/cam1-110156.579.jpg\n",
      "ra/cam1-081536.386.jpg     ra/cam1-081536.386.jpg\n",
      "ra/cam1-082230.174.jpg     ra/cam1-082230.174.jpg\n"
     ]
    }
   ],
   "source": [
    "for i in range (6):\n",
    "    print (val.filenames[i], \"   \",val_labels.filenames[i])"
   ]
  },
  {
   "cell_type": "code",
   "execution_count": 33,
   "metadata": {
    "collapsed": true
   },
   "outputs": [],
   "source": [
    "from matplotlib import pyplot as plt\n",
    "from PIL import Image\n",
    "import matplotlib.image as mpimg"
   ]
  },
  {
   "cell_type": "code",
   "execution_count": 34,
   "metadata": {
    "collapsed": true
   },
   "outputs": [],
   "source": [
    "%matplotlib inline"
   ]
  },
  {
   "cell_type": "code",
   "execution_count": 35,
   "metadata": {
    "collapsed": true
   },
   "outputs": [],
   "source": [
    "dark=dark[0]"
   ]
  },
  {
   "cell_type": "code",
   "execution_count": 36,
   "metadata": {},
   "outputs": [
    {
     "name": "stdout",
     "output_type": "stream",
     "text": [
      "Found 49 images belonging to 3 classes.\n"
     ]
    }
   ],
   "source": [
    "classes= traingen.flow_from_directory('train/images', target_size=(160,320),\n",
    "                class_mode=\"categorical\", batch_size=1, seed=1)"
   ]
  },
  {
   "cell_type": "code",
   "execution_count": 37,
   "metadata": {},
   "outputs": [
    {
     "data": {
      "text/plain": [
       "(160, 320, 1)"
      ]
     },
     "execution_count": 37,
     "metadata": {},
     "output_type": "execute_result"
    }
   ],
   "source": [
    "dark.shape"
   ]
  },
  {
   "cell_type": "code",
   "execution_count": 38,
   "metadata": {},
   "outputs": [
    {
     "data": {
      "text/plain": [
       "(160, 320, 1)"
      ]
     },
     "execution_count": 38,
     "metadata": {},
     "output_type": "execute_result"
    }
   ],
   "source": [
    "dark.shape"
   ]
  },
  {
   "cell_type": "code",
   "execution_count": 39,
   "metadata": {
    "collapsed": true
   },
   "outputs": [],
   "source": [
    "lb=classes.classes"
   ]
  },
  {
   "cell_type": "code",
   "execution_count": 40,
   "metadata": {},
   "outputs": [
    {
     "data": {
      "text/plain": [
       "array([0, 0, 0, 0, 0, 0, 0, 0, 0, 0, 0, 0, 0, 0, 0, 0, 0, 1, 1, 1, 1, 1, 1,\n",
       "       1, 1, 1, 1, 1, 1, 1, 1, 1, 1, 2, 2, 2, 2, 2, 2, 2, 2, 2, 2, 2, 2, 2,\n",
       "       2, 2, 2], dtype=int32)"
      ]
     },
     "execution_count": 40,
     "metadata": {},
     "output_type": "execute_result"
    }
   ],
   "source": [
    "lb"
   ]
  },
  {
   "cell_type": "code",
   "execution_count": 41,
   "metadata": {},
   "outputs": [
    {
     "data": {
      "text/plain": [
       "(49, 160, 320, 1)"
      ]
     },
     "execution_count": 41,
     "metadata": {},
     "output_type": "execute_result"
    }
   ],
   "source": [
    "labels1.shape"
   ]
  },
  {
   "cell_type": "code",
   "execution_count": 42,
   "metadata": {
    "collapsed": true
   },
   "outputs": [],
   "source": [
    "dark=dark*0"
   ]
  },
  {
   "cell_type": "code",
   "execution_count": 43,
   "metadata": {
    "collapsed": true
   },
   "outputs": [],
   "source": [
    "mask1=[]\n",
    "for i in range (49):\n",
    "    x=[]\n",
    "    for j in range (3):\n",
    "        if lb[i]==j:x.append(labels1[i])\n",
    "        else:x.append(dark)\n",
    "    mask1.append(x)\n",
    "    \n",
    "mask2=[]\n",
    "for i in range (49):\n",
    "    x=[]\n",
    "    for j in range (3):\n",
    "        if lb[i]==j:x.append(labels2[i])\n",
    "        else:x.append(dark)\n",
    "    mask2.append(x)\n",
    "\n",
    "mask3=[]\n",
    "for i in range (49):\n",
    "    x=[]\n",
    "    for j in range (3):\n",
    "        if lb[i]==j:x.append(labels3[i])\n",
    "        else:x.append(dark)\n",
    "    mask3.append(x)\n",
    "    \n",
    "mask4=[]\n",
    "for i in range (49):\n",
    "    x=[]\n",
    "    for j in range (3):\n",
    "        if lb[i]==j:x.append(labels4[i])\n",
    "        else:x.append(dark)\n",
    "    mask4.append(x)\n",
    "    \n",
    "mask5=[]\n",
    "for i in range (49):\n",
    "    x=[]\n",
    "    for j in range (3):\n",
    "        if lb[i]==j:x.append(labels5[i])\n",
    "        else:x.append(dark)\n",
    "    mask5.append(x)\n",
    "    \n",
    "    "
   ]
  },
  {
   "cell_type": "code",
   "execution_count": 44,
   "metadata": {
    "collapsed": true
   },
   "outputs": [],
   "source": [
    "mask1=np.array (mask1)\n",
    "mask2=np.array (mask2)\n",
    "mask3=np.array (mask3)\n",
    "mask4=np.array (mask4)\n",
    "mask5=np.array (mask5)"
   ]
  },
  {
   "cell_type": "code",
   "execution_count": 45,
   "metadata": {},
   "outputs": [
    {
     "data": {
      "text/plain": [
       "(49, 3, 160, 320, 1)"
      ]
     },
     "execution_count": 45,
     "metadata": {},
     "output_type": "execute_result"
    }
   ],
   "source": [
    "mask3.shape"
   ]
  },
  {
   "cell_type": "code",
   "execution_count": 46,
   "metadata": {
    "collapsed": true
   },
   "outputs": [],
   "source": [
    "mask1=np.reshape (mask1 , (49,3,160,320))\n",
    "mask2=np.reshape (mask2 , (49,3,160,320))\n",
    "mask3=np.reshape (mask3 , (49,3,160,320))\n",
    "mask4=np.reshape (mask4 , (49,3,160,320))\n",
    "mask5=np.reshape (mask5 , (49,3,160,320))"
   ]
  },
  {
   "cell_type": "code",
   "execution_count": 47,
   "metadata": {
    "collapsed": true
   },
   "outputs": [],
   "source": [
    "mask1=np.swapaxes(mask1,1,2)\n",
    "mask1=np.swapaxes(mask1,2,3)\n",
    "\n",
    "mask2=np.swapaxes(mask2,1,2)\n",
    "mask2=np.swapaxes(mask2,2,3)\n",
    "\n",
    "mask3=np.swapaxes(mask3,1,2)\n",
    "mask3=np.swapaxes(mask3,2,3)\n",
    "\n",
    "mask4=np.swapaxes(mask4,1,2)\n",
    "mask4=np.swapaxes(mask4,2,3)\n",
    "\n",
    "mask5=np.swapaxes(mask5,1,2)\n",
    "mask5=np.swapaxes(mask5,2,3)\n"
   ]
  },
  {
   "cell_type": "code",
   "execution_count": 48,
   "metadata": {},
   "outputs": [
    {
     "data": {
      "text/plain": [
       "(49, 160, 320, 3)"
      ]
     },
     "execution_count": 48,
     "metadata": {},
     "output_type": "execute_result"
    }
   ],
   "source": [
    "mask3.shape"
   ]
  },
  {
   "cell_type": "code",
   "execution_count": null,
   "metadata": {},
   "outputs": [],
   "source": [
    "mask1 [0][100]"
   ]
  },
  {
   "cell_type": "code",
   "execution_count": 52,
   "metadata": {},
   "outputs": [
    {
     "data": {
      "image/png": "[encoded data removed]",
      "text/plain": [
       "<PIL.Image.Image image mode=RGB size=320x160 at 0x7F0C400BCB00>"
      ]
     },
     "execution_count": 52,
     "metadata": {},
     "output_type": "execute_result"
    }
   ],
   "source": [
    "image.array_to_img (mask1[1])"
   ]
  },
  {
   "cell_type": "code",
   "execution_count": 53,
   "metadata": {},
   "outputs": [
    {
     "name": "stdout",
     "output_type": "stream",
     "text": [
      "Found 6 images belonging to 3 classes.\n"
     ]
    }
   ],
   "source": [
    "valclasses= valgen.flow_from_directory('val/images', target_size=(160,320),\n",
    "                class_mode=\"categorical\", batch_size=1, seed=1)"
   ]
  },
  {
   "cell_type": "code",
   "execution_count": 54,
   "metadata": {
    "collapsed": true
   },
   "outputs": [],
   "source": [
    "vallb=valclasses.classes"
   ]
  },
  {
   "cell_type": "code",
   "execution_count": 55,
   "metadata": {
    "collapsed": true
   },
   "outputs": [],
   "source": [
    "valmask=[]\n",
    "for i in range (6):\n",
    "    x=[]\n",
    "    for j in range (3):\n",
    "        if lb[i]==j:x.append(val_labels1[i])\n",
    "        else:x.append(dark)\n",
    "    valmask.append(x)\n",
    "    "
   ]
  },
  {
   "cell_type": "code",
   "execution_count": 56,
   "metadata": {
    "collapsed": true
   },
   "outputs": [],
   "source": [
    "valmask=np.array (valmask)"
   ]
  },
  {
   "cell_type": "code",
   "execution_count": 57,
   "metadata": {},
   "outputs": [
    {
     "data": {
      "text/plain": [
       "(6, 3, 160, 320, 1)"
      ]
     },
     "execution_count": 57,
     "metadata": {},
     "output_type": "execute_result"
    }
   ],
   "source": [
    "valmask.shape"
   ]
  },
  {
   "cell_type": "code",
   "execution_count": 58,
   "metadata": {
    "collapsed": true
   },
   "outputs": [],
   "source": [
    "valmask=np.reshape (valmask , (6,3,160,320))"
   ]
  },
  {
   "cell_type": "code",
   "execution_count": 59,
   "metadata": {
    "collapsed": true
   },
   "outputs": [],
   "source": [
    "valmask=np.swapaxes(valmask,1,2)\n",
    "valmask=np.swapaxes(valmask,2,3)"
   ]
  },
  {
   "cell_type": "code",
   "execution_count": 60,
   "metadata": {
    "collapsed": true
   },
   "outputs": [],
   "source": [
    "from keras.layers import Conv2DTranspose ,concatenate, Input,Activation ,Conv2D ,BatchNormalization , Dense ,Dropout ,Flatten ,MaxPool2D ,GlobalMaxPool2D ,GlobalAveragePooling2D\n",
    "from keras.models import Sequential ,Model\n",
    "from keras.optimizers import Adam"
   ]
  },
  {
   "cell_type": "code",
   "execution_count": 61,
   "metadata": {
    "collapsed": true
   },
   "outputs": [],
   "source": [
    "def dice_coef(y_true, y_pred):\n",
    "    y_true_f = K.flatten(y_true)\n",
    "    y_pred_f = K.flatten(y_pred)\n",
    "    intersection = K.sum(y_true_f * y_pred_f)\n",
    "    return (2. * intersection + smooth) / (K.sum(y_true_f) + K.sum(y_pred_f) + smooth)\n",
    "\n",
    "\n",
    "def dice_coef_loss(y_true, y_pred):\n",
    "    return -dice_coef(y_true, y_pred)\n",
    "smooth = 1"
   ]
  },
  {
   "cell_type": "code",
   "execution_count": 62,
   "metadata": {
    "collapsed": true
   },
   "outputs": [],
   "source": [
    "def get_unet():\n",
    "    inputs = Input((160, 320, 3))\n",
    "    conv1 = Conv2D(32, (3, 3), activation='relu', padding='same')(inputs)\n",
    "    conv1 = Conv2D(32, (3, 3), activation='relu', padding='same')(conv1)\n",
    "    pool1 = MaxPool2D(pool_size=(2, 2))(conv1)\n",
    "\n",
    "    conv2 = Conv2D(64, (3, 3), activation='relu', padding='same')(pool1)\n",
    "    conv2 = Conv2D(64, (3, 3), activation='relu', padding='same')(conv2)\n",
    "    pool2 = MaxPool2D(pool_size=(2, 2))(conv2)\n",
    "\n",
    "    conv3 = Conv2D(128, (3, 3), activation='relu', padding='same')(pool2)\n",
    "    conv3 = Conv2D(128, (3, 3), activation='relu', padding='same')(conv3)\n",
    "    pool3 = MaxPool2D(pool_size=(2, 2))(conv3)\n",
    "\n",
    "    conv4 = Conv2D(256, (3, 3), activation='relu', padding='same')(pool3)\n",
    "    conv4 = Conv2D(256, (3, 3), activation='relu', padding='same')(conv4)\n",
    "    pool4 = MaxPool2D(pool_size=(2, 2))(conv4)\n",
    "\n",
    "    conv5 = Conv2D(512, (3, 3), activation='relu', padding='same')(pool4)\n",
    "    conv5 = Conv2D(512, (3, 3), activation='relu', padding='same')(conv5)\n",
    "\n",
    "    up6 = concatenate([Conv2DTranspose(256, (2, 2), strides=(2, 2), padding='same')(conv5), conv4], axis=3)\n",
    "    conv6 = Conv2D(256, (3, 3), activation='relu', padding='same')(up6)\n",
    "    conv6 = Conv2D(256, (3, 3), activation='relu', padding='same')(conv6)\n",
    "\n",
    "    up7 = concatenate([Conv2DTranspose(128, (2, 2), strides=(2, 2), padding='same')(conv6), conv3], axis=3)\n",
    "    conv7 = Conv2D(128, (3, 3), activation='relu', padding='same')(up7)\n",
    "    conv7 = Conv2D(128, (3, 3), activation='relu', padding='same')(conv7)\n",
    "\n",
    "    up8 = concatenate([Conv2DTranspose(64, (2, 2), strides=(2, 2), padding='same')(conv7), conv2], axis=3)\n",
    "    conv8 = Conv2D(64, (3, 3), activation='relu', padding='same')(up8)\n",
    "    conv8 = Conv2D(64, (3, 3), activation='relu', padding='same')(conv8)\n",
    "\n",
    "    up9 = concatenate([Conv2DTranspose(32, (2, 2), strides=(2, 2), padding='same')(conv8), conv1], axis=3)\n",
    "    conv9 = Conv2D(32, (3, 3), activation='relu', padding='same')(up9)\n",
    "    \n",
    "    conv9 = Conv2D(32, (3, 3), activation='relu', padding='same')(conv9)\n",
    "\n",
    "    conv10 = Conv2D(3, (1, 1), activation='sigmoid')(conv9)\n",
    "\n",
    "    model = Model(inputs=[inputs], outputs=[conv10])\n",
    "\n",
    "    model.compile(optimizer=Adam(lr=1e-5), loss=dice_coef_loss, metrics=[dice_coef])\n",
    "  \n",
    "\n",
    "    return model"
   ]
  },
  {
   "cell_type": "code",
   "execution_count": 63,
   "metadata": {
    "collapsed": true
   },
   "outputs": [],
   "source": [
    "\n",
    "model=get_unet()"
   ]
  },
  {
   "cell_type": "code",
   "execution_count": null,
   "metadata": {
    "collapsed": true
   },
   "outputs": [],
   "source": [
    "\n",
    "def sparse_accuracy_ignoring_last_label(y_true, y_pred):\n",
    "    nb_classes = K.int_shape(y_pred)[-1]\n",
    "    y_pred = K.reshape(y_pred, (-1, nb_classes))\n",
    "\n",
    "    y_true = K.one_hot(tf.to_int32(K.flatten(y_true)),\n",
    "                       nb_classes + 1)\n",
    "    unpacked = tf.unstack(y_true, axis=-1)\n",
    "    legal_labels = ~tf.cast(unpacked[-1], tf.bool)\n",
    "    y_true = tf.stack(unpacked[:-1], axis=-1)\n",
    "\n",
    "    return K.sum(tf.to_float(legal_labels & K.equal(K.argmax(y_true, axis=-1), K.argmax(y_pred, axis=-1)))) / K.sum(tf.to_float(legal_labels))"
   ]
  },
  {
   "cell_type": "code",
   "execution_count": null,
   "metadata": {
    "collapsed": true
   },
   "outputs": [],
   "source": [
    "def softmax_sparse_crossentropy_ignoring_last_label(y_true, y_pred):\n",
    "    y_pred = K.reshape(y_pred, (-1, K.int_shape(y_pred)[-1]))\n",
    "    log_softmax = tf.nn.log_softmax(y_pred)\n",
    "\n",
    "    y_true = K.one_hot(tf.to_int32(K.flatten(y_true)), K.int_shape(y_pred)[-1]+1)\n",
    "    unpacked = tf.unstack(y_true, axis=-1)\n",
    "    y_true = tf.stack(unpacked[:-1], axis=-1)\n",
    "\n",
    "    cross_entropy = -K.sum(y_true * log_softmax, axis=1)\n",
    "    cross_entropy_mean = K.mean(cross_entropy)\n",
    "\n",
    "    return cross_entropy_mean"
   ]
  },
  {
   "cell_type": "code",
   "execution_count": null,
   "metadata": {
    "collapsed": true
   },
   "outputs": [],
   "source": [
    "loss_fn = softmax_sparse_crossentropy_ignoring_last_label\n",
    "metrics = [sparse_accuracy_ignoring_last_label]"
   ]
  },
  {
   "cell_type": "code",
   "execution_count": 67,
   "metadata": {},
   "outputs": [
    {
     "data": {
      "text/plain": [
       "25"
      ]
     },
     "execution_count": 67,
     "metadata": {},
     "output_type": "execute_result"
    }
   ],
   "source": []
  },
  {
   "cell_type": "code",
   "execution_count": null,
   "metadata": {},
   "outputs": [
    {
     "name": "stdout",
     "output_type": "stream",
     "text": [
      "round-- 0\n",
      "Train on 49 samples, validate on 6 samples\n",
      "Epoch 1/1\n",
      "49/49 [==============================] - 5s - loss: -0.0771 - dice_coef: 0.0771 - val_loss: -0.1196 - val_dice_coef: 0.1196\n",
      "Train on 49 samples, validate on 6 samples\n",
      "Epoch 1/1\n",
      "49/49 [==============================] - 1s - loss: -0.0820 - dice_coef: 0.0820 - val_loss: -0.1157 - val_dice_coef: 0.1157\n",
      "Train on 49 samples, validate on 6 samples\n",
      "Epoch 1/1\n",
      "49/49 [==============================] - 1s - loss: -0.0849 - dice_coef: 0.0849 - val_loss: -0.1075 - val_dice_coef: 0.1075\n",
      "Train on 49 samples, validate on 6 samples\n",
      "Epoch 1/1\n",
      "49/49 [==============================] - 1s - loss: -0.0871 - dice_coef: 0.0871 - val_loss: -0.1032 - val_dice_coef: 0.1032\n",
      "Train on 49 samples, validate on 6 samples\n",
      "Epoch 1/1\n",
      "49/49 [==============================] - 1s - loss: -0.0909 - dice_coef: 0.0909 - val_loss: -0.1032 - val_dice_coef: 0.1032\n",
      "round-- 0\n",
      "Train on 49 samples, validate on 6 samples\n",
      "Epoch 1/1\n",
      "49/49 [==============================] - 1s - loss: -0.0885 - dice_coef: 0.0885 - val_loss: -0.1043 - val_dice_coef: 0.1043\n",
      "Train on 49 samples, validate on 6 samples\n",
      "Epoch 1/1\n",
      "49/49 [==============================] - 0s - loss: -0.0950 - dice_coef: 0.0950 - val_loss: -0.1055 - val_dice_coef: 0.1055\n",
      "Train on 49 samples, validate on 6 samples\n",
      "Epoch 1/1\n",
      "49/49 [==============================] - 0s - loss: -0.0930 - dice_coef: 0.0930 - val_loss: -0.1111 - val_dice_coef: 0.1111\n",
      "Train on 49 samples, validate on 6 samples\n",
      "Epoch 1/1\n",
      "49/49 [==============================] - 0s - loss: -0.0986 - dice_coef: 0.0986 - val_loss: -0.1241 - val_dice_coef: 0.1241\n",
      "Train on 49 samples, validate on 6 samples\n",
      "Epoch 1/1\n",
      "49/49 [==============================] - 0s - loss: -0.1098 - dice_coef: 0.1098 - val_loss: -0.1330 - val_dice_coef: 0.1330\n",
      "round-- 0\n",
      "Train on 49 samples, validate on 6 samples\n",
      "Epoch 1/1\n",
      "49/49 [==============================] - 1s - loss: -0.1089 - dice_coef: 0.1089 - val_loss: -0.1351 - val_dice_coef: 0.1351\n",
      "Train on 49 samples, validate on 6 samples\n",
      "Epoch 1/1\n",
      "49/49 [==============================] - 0s - loss: -0.1139 - dice_coef: 0.1139 - val_loss: -0.1384 - val_dice_coef: 0.1384\n",
      "Train on 49 samples, validate on 6 samples\n",
      "Epoch 1/1\n",
      "49/49 [==============================] - 0s - loss: -0.1158 - dice_coef: 0.1158 - val_loss: -0.1410 - val_dice_coef: 0.1410\n",
      "Train on 49 samples, validate on 6 samples\n",
      "Epoch 1/1\n",
      "49/49 [==============================] - 0s - loss: -0.1237 - dice_coef: 0.1237 - val_loss: -0.1454 - val_dice_coef: 0.1454\n",
      "Train on 49 samples, validate on 6 samples\n",
      "Epoch 1/1\n",
      "49/49 [==============================] - 0s - loss: -0.1300 - dice_coef: 0.1300 - val_loss: -0.1516 - val_dice_coef: 0.1516\n",
      "round-- 1\n",
      "Train on 49 samples, validate on 6 samples\n",
      "Epoch 1/1\n",
      "49/49 [==============================] - 1s - loss: -0.1293 - dice_coef: 0.1293 - val_loss: -0.1717 - val_dice_coef: 0.1717\n",
      "Train on 49 samples, validate on 6 samples\n",
      "Epoch 1/1\n",
      "49/49 [==============================] - 1s - loss: -0.1420 - dice_coef: 0.1420 - val_loss: -0.1912 - val_dice_coef: 0.1912\n",
      "Train on 49 samples, validate on 6 samples\n",
      "Epoch 1/1\n",
      "49/49 [==============================] - 1s - loss: -0.1578 - dice_coef: 0.1578 - val_loss: -0.1834 - val_dice_coef: 0.1834\n",
      "Train on 49 samples, validate on 6 samples\n",
      "Epoch 1/1\n",
      "49/49 [==============================] - 1s - loss: -0.1568 - dice_coef: 0.1568 - val_loss: -0.1910 - val_dice_coef: 0.1910\n",
      "Train on 49 samples, validate on 6 samples\n",
      "Epoch 1/1\n",
      "49/49 [==============================] - 1s - loss: -0.1570 - dice_coef: 0.1570 - val_loss: -0.1912 - val_dice_coef: 0.1912\n",
      "round-- 1\n",
      "Train on 49 samples, validate on 6 samples\n",
      "Epoch 1/1\n",
      "49/49 [==============================] - 0s - loss: -0.1554 - dice_coef: 0.1554 - val_loss: -0.1917 - val_dice_coef: 0.1917\n",
      "Train on 49 samples, validate on 6 samples\n",
      "Epoch 1/1\n",
      "49/49 [==============================] - 0s - loss: -0.1606 - dice_coef: 0.1606 - val_loss: -0.1900 - val_dice_coef: 0.1900\n",
      "Train on 49 samples, validate on 6 samples\n",
      "Epoch 1/1\n",
      "49/49 [==============================] - 0s - loss: -0.1564 - dice_coef: 0.1564 - val_loss: -0.1888 - val_dice_coef: 0.1888\n",
      "Train on 49 samples, validate on 6 samples\n",
      "Epoch 1/1\n",
      "49/49 [==============================] - 0s - loss: -0.1723 - dice_coef: 0.1723 - val_loss: -0.1928 - val_dice_coef: 0.1928\n",
      "Train on 49 samples, validate on 6 samples\n",
      "Epoch 1/1\n",
      "49/49 [==============================] - 0s - loss: -0.1716 - dice_coef: 0.1716 - val_loss: -0.1964 - val_dice_coef: 0.1964\n",
      "round-- 1\n",
      "Train on 49 samples, validate on 6 samples\n",
      "Epoch 1/1\n",
      "49/49 [==============================] - 0s - loss: -0.1562 - dice_coef: 0.1562 - val_loss: -0.1964 - val_dice_coef: 0.1964\n",
      "Train on 49 samples, validate on 6 samples\n",
      "Epoch 1/1\n",
      "49/49 [==============================] - 0s - loss: -0.1656 - dice_coef: 0.1656 - val_loss: -0.1912 - val_dice_coef: 0.1912\n",
      "Train on 49 samples, validate on 6 samples\n",
      "Epoch 1/1\n",
      "49/49 [==============================] - 0s - loss: -0.1580 - dice_coef: 0.1580 - val_loss: -0.1865 - val_dice_coef: 0.1865\n",
      "Train on 49 samples, validate on 6 samples\n",
      "Epoch 1/1\n",
      "49/49 [==============================] - 0s - loss: -0.1726 - dice_coef: 0.1726 - val_loss: -0.1847 - val_dice_coef: 0.1847\n",
      "Train on 49 samples, validate on 6 samples\n",
      "Epoch 1/1\n",
      "49/49 [==============================] - 0s - loss: -0.1668 - dice_coef: 0.1668 - val_loss: -0.1843 - val_dice_coef: 0.1843\n",
      "round-- 2\n",
      "Train on 49 samples, validate on 6 samples\n",
      "Epoch 1/1\n",
      "49/49 [==============================] - 1s - loss: -0.1579 - dice_coef: 0.1579 - val_loss: -0.1893 - val_dice_coef: 0.1893\n",
      "Train on 49 samples, validate on 6 samples\n",
      "Epoch 1/1\n",
      "49/49 [==============================] - 1s - loss: -0.1548 - dice_coef: 0.1548 - val_loss: -0.1908 - val_dice_coef: 0.1908\n",
      "Train on 49 samples, validate on 6 samples\n",
      "Epoch 1/1\n",
      "49/49 [==============================] - 1s - loss: -0.1638 - dice_coef: 0.1638 - val_loss: -0.1860 - val_dice_coef: 0.1860\n",
      "Train on 49 samples, validate on 6 samples\n",
      "Epoch 1/1\n",
      "49/49 [==============================] - 1s - loss: -0.1613 - dice_coef: 0.1613 - val_loss: -0.1916 - val_dice_coef: 0.1916\n",
      "Train on 49 samples, validate on 6 samples\n",
      "Epoch 1/1\n",
      "49/49 [==============================] - 1s - loss: -0.1626 - dice_coef: 0.1626 - val_loss: -0.1858 - val_dice_coef: 0.1858\n",
      "round-- 2\n",
      "Train on 49 samples, validate on 6 samples\n",
      "Epoch 1/1\n",
      "49/49 [==============================] - 0s - loss: -0.1591 - dice_coef: 0.1591 - val_loss: -0.1806 - val_dice_coef: 0.1806\n",
      "Train on 49 samples, validate on 6 samples\n",
      "Epoch 1/1\n",
      "49/49 [==============================] - 0s - loss: -0.1644 - dice_coef: 0.1644 - val_loss: -0.1833 - val_dice_coef: 0.1833\n",
      "Train on 49 samples, validate on 6 samples\n",
      "Epoch 1/1\n",
      "49/49 [==============================] - 0s - loss: -0.1581 - dice_coef: 0.1581 - val_loss: -0.1871 - val_dice_coef: 0.1871\n",
      "Train on 49 samples, validate on 6 samples\n",
      "Epoch 1/1\n",
      "49/49 [==============================] - 0s - loss: -0.1697 - dice_coef: 0.1697 - val_loss: -0.1910 - val_dice_coef: 0.1910\n",
      "Train on 49 samples, validate on 6 samples\n",
      "Epoch 1/1\n",
      "49/49 [==============================] - 0s - loss: -0.1708 - dice_coef: 0.1708 - val_loss: -0.1925 - val_dice_coef: 0.1925\n",
      "round-- 2\n",
      "Train on 49 samples, validate on 6 samples\n",
      "Epoch 1/1\n",
      "49/49 [==============================] - 0s - loss: -0.1616 - dice_coef: 0.1616 - val_loss: -0.1951 - val_dice_coef: 0.1951\n",
      "Train on 49 samples, validate on 6 samples\n",
      "Epoch 1/1\n",
      "49/49 [==============================] - 0s - loss: -0.1687 - dice_coef: 0.1687 - val_loss: -0.1954 - val_dice_coef: 0.1954\n",
      "Train on 49 samples, validate on 6 samples\n",
      "Epoch 1/1\n",
      "49/49 [==============================] - 0s - loss: -0.1622 - dice_coef: 0.1622 - val_loss: -0.1956 - val_dice_coef: 0.1956\n",
      "Train on 49 samples, validate on 6 samples\n",
      "Epoch 1/1\n",
      "49/49 [==============================] - 0s - loss: -0.1755 - dice_coef: 0.1755 - val_loss: -0.1954 - val_dice_coef: 0.1954\n",
      "Train on 49 samples, validate on 6 samples\n",
      "Epoch 1/1\n",
      "49/49 [==============================] - 0s - loss: -0.1763 - dice_coef: 0.1763 - val_loss: -0.1950 - val_dice_coef: 0.1950\n",
      "round-- 3\n",
      "Train on 49 samples, validate on 6 samples\n",
      "Epoch 1/1\n"
     ]
    },
    {
     "name": "stdout",
     "output_type": "stream",
     "text": [
      "49/49 [==============================] - 1s - loss: -0.1609 - dice_coef: 0.1609 - val_loss: -0.1883 - val_dice_coef: 0.1883\n",
      "Train on 49 samples, validate on 6 samples\n",
      "Epoch 1/1\n",
      "49/49 [==============================] - 1s - loss: -0.1588 - dice_coef: 0.1588 - val_loss: -0.1894 - val_dice_coef: 0.1894\n",
      "Train on 49 samples, validate on 6 samples\n",
      "Epoch 1/1\n",
      "49/49 [==============================] - 1s - loss: -0.1672 - dice_coef: 0.1672 - val_loss: -0.1895 - val_dice_coef: 0.1895\n",
      "Train on 49 samples, validate on 6 samples\n",
      "Epoch 1/1\n",
      "49/49 [==============================] - 1s - loss: -0.1616 - dice_coef: 0.1616 - val_loss: -0.1878 - val_dice_coef: 0.1878\n",
      "Train on 49 samples, validate on 6 samples\n",
      "Epoch 1/1\n",
      "49/49 [==============================] - 1s - loss: -0.1649 - dice_coef: 0.1649 - val_loss: -0.1827 - val_dice_coef: 0.1827\n",
      "round-- 3\n",
      "Train on 49 samples, validate on 6 samples\n",
      "Epoch 1/1\n",
      "49/49 [==============================] - 0s - loss: -0.1588 - dice_coef: 0.1588 - val_loss: -0.1869 - val_dice_coef: 0.1869\n",
      "Train on 49 samples, validate on 6 samples\n",
      "Epoch 1/1\n",
      "49/49 [==============================] - 0s - loss: -0.1671 - dice_coef: 0.1671 - val_loss: -0.1896 - val_dice_coef: 0.1896\n",
      "Train on 49 samples, validate on 6 samples\n",
      "Epoch 1/1\n",
      "49/49 [==============================] - 0s - loss: -0.1643 - dice_coef: 0.1643 - val_loss: -0.1929 - val_dice_coef: 0.1929\n",
      "Train on 49 samples, validate on 6 samples\n",
      "Epoch 1/1\n",
      "49/49 [==============================] - 0s - loss: -0.1731 - dice_coef: 0.1731 - val_loss: -0.1936 - val_dice_coef: 0.1936\n",
      "Train on 49 samples, validate on 6 samples\n",
      "Epoch 1/1\n",
      "49/49 [==============================] - 0s - loss: -0.1747 - dice_coef: 0.1747 - val_loss: -0.1933 - val_dice_coef: 0.1933\n",
      "round-- 3\n",
      "Train on 49 samples, validate on 6 samples\n",
      "Epoch 1/1\n",
      "49/49 [==============================] - 0s - loss: -0.1619 - dice_coef: 0.1619 - val_loss: -0.1946 - val_dice_coef: 0.1946\n",
      "Train on 49 samples, validate on 6 samples\n",
      "Epoch 1/1\n",
      "49/49 [==============================] - 0s - loss: -0.1733 - dice_coef: 0.1733 - val_loss: -0.1942 - val_dice_coef: 0.1942\n",
      "Train on 49 samples, validate on 6 samples\n",
      "Epoch 1/1\n",
      "49/49 [==============================] - 0s - loss: -0.1621 - dice_coef: 0.1621 - val_loss: -0.1936 - val_dice_coef: 0.1936\n",
      "Train on 49 samples, validate on 6 samples\n",
      "Epoch 1/1\n",
      "49/49 [==============================] - 0s - loss: -0.1784 - dice_coef: 0.1784 - val_loss: -0.1933 - val_dice_coef: 0.1933\n",
      "Train on 49 samples, validate on 6 samples\n",
      "Epoch 1/1\n",
      "49/49 [==============================] - 0s - loss: -0.1749 - dice_coef: 0.1749 - val_loss: -0.1932 - val_dice_coef: 0.1932\n",
      "round-- 4\n",
      "Train on 49 samples, validate on 6 samples\n",
      "Epoch 1/1\n",
      "49/49 [==============================] - 1s - loss: -0.1612 - dice_coef: 0.1612 - val_loss: -0.1906 - val_dice_coef: 0.1906\n",
      "Train on 49 samples, validate on 6 samples\n",
      "Epoch 1/1\n",
      "49/49 [==============================] - 1s - loss: -0.1606 - dice_coef: 0.1606 - val_loss: -0.1851 - val_dice_coef: 0.1851\n",
      "Train on 49 samples, validate on 6 samples\n",
      "Epoch 1/1\n",
      "49/49 [==============================] - 1s - loss: -0.1692 - dice_coef: 0.1692 - val_loss: -0.1923 - val_dice_coef: 0.1923\n",
      "Train on 49 samples, validate on 6 samples\n",
      "Epoch 1/1\n",
      "49/49 [==============================] - 1s - loss: -0.1622 - dice_coef: 0.1622 - val_loss: -0.1910 - val_dice_coef: 0.1910\n",
      "Train on 49 samples, validate on 6 samples\n",
      "Epoch 1/1\n",
      "49/49 [==============================] - 1s - loss: -0.1680 - dice_coef: 0.1680 - val_loss: -0.1838 - val_dice_coef: 0.1838\n",
      "round-- 4\n",
      "Train on 49 samples, validate on 6 samples\n",
      "Epoch 1/1\n",
      "49/49 [==============================] - 0s - loss: -0.1626 - dice_coef: 0.1626 - val_loss: -0.1824 - val_dice_coef: 0.1824\n",
      "Train on 49 samples, validate on 6 samples\n",
      "Epoch 1/1\n",
      "49/49 [==============================] - 0s - loss: -0.1711 - dice_coef: 0.1711 - val_loss: -0.1862 - val_dice_coef: 0.1862\n",
      "Train on 49 samples, validate on 6 samples\n",
      "Epoch 1/1\n",
      "49/49 [==============================] - 0s - loss: -0.1665 - dice_coef: 0.1665 - val_loss: -0.1910 - val_dice_coef: 0.1910\n",
      "Train on 49 samples, validate on 6 samples\n",
      "Epoch 1/1\n",
      "49/49 [==============================] - 0s - loss: -0.1734 - dice_coef: 0.1734 - val_loss: -0.1947 - val_dice_coef: 0.1947\n",
      "Train on 49 samples, validate on 6 samples\n",
      "Epoch 1/1\n",
      "49/49 [==============================] - 0s - loss: -0.1715 - dice_coef: 0.1715 - val_loss: -0.1896 - val_dice_coef: 0.1896\n",
      "round-- 4\n",
      "Train on 49 samples, validate on 6 samples\n",
      "Epoch 1/1\n",
      "49/49 [==============================] - 0s - loss: -0.1638 - dice_coef: 0.1638 - val_loss: -0.1890 - val_dice_coef: 0.1890\n",
      "Train on 49 samples, validate on 6 samples\n",
      "Epoch 1/1\n",
      "49/49 [==============================] - 0s - loss: -0.1703 - dice_coef: 0.1703 - val_loss: -0.1884 - val_dice_coef: 0.1884\n",
      "Train on 49 samples, validate on 6 samples\n",
      "Epoch 1/1\n",
      "49/49 [==============================] - 0s - loss: -0.1631 - dice_coef: 0.1631 - val_loss: -0.1894 - val_dice_coef: 0.1894\n",
      "Train on 49 samples, validate on 6 samples\n",
      "Epoch 1/1\n",
      "49/49 [==============================] - 0s - loss: -0.1702 - dice_coef: 0.1702 - val_loss: -0.1907 - val_dice_coef: 0.1907\n",
      "Train on 49 samples, validate on 6 samples\n",
      "Epoch 1/1\n",
      "49/49 [==============================] - 0s - loss: -0.1739 - dice_coef: 0.1739 - val_loss: -0.1913 - val_dice_coef: 0.1913\n",
      "round-- 5\n",
      "Train on 49 samples, validate on 6 samples\n",
      "Epoch 1/1\n",
      "49/49 [==============================] - 1s - loss: -0.1610 - dice_coef: 0.1610 - val_loss: -0.1889 - val_dice_coef: 0.1889\n",
      "Train on 49 samples, validate on 6 samples\n",
      "Epoch 1/1\n",
      "49/49 [==============================] - 1s - loss: -0.1621 - dice_coef: 0.1621 - val_loss: -0.1884 - val_dice_coef: 0.1884\n",
      "Train on 49 samples, validate on 6 samples\n",
      "Epoch 1/1\n",
      "49/49 [==============================] - 1s - loss: -0.1704 - dice_coef: 0.1704 - val_loss: -0.1874 - val_dice_coef: 0.1874\n",
      "Train on 49 samples, validate on 6 samples\n",
      "Epoch 1/1\n",
      "49/49 [==============================] - 1s - loss: -0.1631 - dice_coef: 0.1631 - val_loss: -0.1861 - val_dice_coef: 0.1861\n",
      "Train on 49 samples, validate on 6 samples\n",
      "Epoch 1/1\n",
      "49/49 [==============================] - 1s - loss: -0.1671 - dice_coef: 0.1671 - val_loss: -0.1857 - val_dice_coef: 0.1857\n",
      "round-- 5\n",
      "Train on 49 samples, validate on 6 samples\n",
      "Epoch 1/1\n",
      "49/49 [==============================] - 0s - loss: -0.1626 - dice_coef: 0.1626 - val_loss: -0.1900 - val_dice_coef: 0.1900\n",
      "Train on 49 samples, validate on 6 samples\n",
      "Epoch 1/1\n",
      "49/49 [==============================] - 0s - loss: -0.1703 - dice_coef: 0.1703 - val_loss: -0.1900 - val_dice_coef: 0.1900\n",
      "Train on 49 samples, validate on 6 samples\n",
      "Epoch 1/1\n",
      "49/49 [==============================] - 0s - loss: -0.1650 - dice_coef: 0.1650 - val_loss: -0.1897 - val_dice_coef: 0.1897\n",
      "Train on 49 samples, validate on 6 samples\n",
      "Epoch 1/1\n",
      "49/49 [==============================] - 0s - loss: -0.1725 - dice_coef: 0.1725 - val_loss: -0.1895 - val_dice_coef: 0.1895\n",
      "Train on 49 samples, validate on 6 samples\n",
      "Epoch 1/1\n",
      "49/49 [==============================] - 0s - loss: -0.1696 - dice_coef: 0.1696 - val_loss: -0.1895 - val_dice_coef: 0.1895\n",
      "round-- 5\n",
      "Train on 49 samples, validate on 6 samples\n",
      "Epoch 1/1\n",
      "49/49 [==============================] - 0s - loss: -0.1637 - dice_coef: 0.1637 - val_loss: -0.1907 - val_dice_coef: 0.1907\n",
      "Train on 49 samples, validate on 6 samples\n",
      "Epoch 1/1\n",
      "49/49 [==============================] - 0s - loss: -0.1731 - dice_coef: 0.1731 - val_loss: -0.1909 - val_dice_coef: 0.1909\n",
      "Train on 49 samples, validate on 6 samples\n",
      "Epoch 1/1\n",
      "49/49 [==============================] - 0s - loss: -0.1638 - dice_coef: 0.1638 - val_loss: -0.1911 - val_dice_coef: 0.1911\n",
      "Train on 49 samples, validate on 6 samples\n",
      "Epoch 1/1\n",
      "49/49 [==============================] - 0s - loss: -0.1772 - dice_coef: 0.1772 - val_loss: -0.1913 - val_dice_coef: 0.1913\n",
      "Train on 49 samples, validate on 6 samples\n",
      "Epoch 1/1\n",
      "49/49 [==============================] - 0s - loss: -0.1771 - dice_coef: 0.1771 - val_loss: -0.1916 - val_dice_coef: 0.1916\n",
      "round-- 6\n",
      "Train on 49 samples, validate on 6 samples\n",
      "Epoch 1/1\n",
      "49/49 [==============================] - 1s - loss: -0.1625 - dice_coef: 0.1625 - val_loss: -0.1884 - val_dice_coef: 0.1884\n",
      "Train on 49 samples, validate on 6 samples\n",
      "Epoch 1/1\n"
     ]
    },
    {
     "name": "stdout",
     "output_type": "stream",
     "text": [
      "49/49 [==============================] - 1s - loss: -0.1634 - dice_coef: 0.1634 - val_loss: -0.1894 - val_dice_coef: 0.1894\n",
      "Train on 49 samples, validate on 6 samples\n",
      "Epoch 1/1\n",
      "49/49 [==============================] - 1s - loss: -0.1719 - dice_coef: 0.1719 - val_loss: -0.1881 - val_dice_coef: 0.1881\n",
      "Train on 49 samples, validate on 6 samples\n",
      "Epoch 1/1\n",
      "49/49 [==============================] - 1s - loss: -0.1643 - dice_coef: 0.1643 - val_loss: -0.1883 - val_dice_coef: 0.1883\n",
      "Train on 49 samples, validate on 6 samples\n",
      "Epoch 1/1\n",
      "49/49 [==============================] - 1s - loss: -0.1688 - dice_coef: 0.1688 - val_loss: -0.1888 - val_dice_coef: 0.1888\n",
      "round-- 6\n",
      "Train on 49 samples, validate on 6 samples\n",
      "Epoch 1/1\n",
      "49/49 [==============================] - 0s - loss: -0.1623 - dice_coef: 0.1623 - val_loss: -0.1905 - val_dice_coef: 0.1905\n",
      "Train on 49 samples, validate on 6 samples\n",
      "Epoch 1/1\n",
      "49/49 [==============================] - 0s - loss: -0.1729 - dice_coef: 0.1729 - val_loss: -0.1908 - val_dice_coef: 0.1908\n",
      "Train on 49 samples, validate on 6 samples\n",
      "Epoch 1/1\n",
      "49/49 [==============================] - 0s - loss: -0.1668 - dice_coef: 0.1668 - val_loss: -0.1911 - val_dice_coef: 0.1911\n",
      "Train on 49 samples, validate on 6 samples\n",
      "Epoch 1/1\n",
      "49/49 [==============================] - 0s - loss: -0.1789 - dice_coef: 0.1789 - val_loss: -0.1914 - val_dice_coef: 0.1914\n",
      "Train on 49 samples, validate on 6 samples\n",
      "Epoch 1/1\n",
      "49/49 [==============================] - 0s - loss: -0.1771 - dice_coef: 0.1771 - val_loss: -0.1917 - val_dice_coef: 0.1917\n",
      "round-- 6\n",
      "Train on 49 samples, validate on 6 samples\n",
      "Epoch 1/1\n",
      "49/49 [==============================] - 0s - loss: -0.1663 - dice_coef: 0.1663 - val_loss: -0.1927 - val_dice_coef: 0.1927\n",
      "Train on 49 samples, validate on 6 samples\n",
      "Epoch 1/1\n",
      "49/49 [==============================] - 0s - loss: -0.1786 - dice_coef: 0.1786 - val_loss: -0.1926 - val_dice_coef: 0.1926\n",
      "Train on 49 samples, validate on 6 samples\n",
      "Epoch 1/1\n",
      "49/49 [==============================] - 0s - loss: -0.1669 - dice_coef: 0.1669 - val_loss: -0.1930 - val_dice_coef: 0.1930\n",
      "Train on 49 samples, validate on 6 samples\n",
      "Epoch 1/1\n",
      "49/49 [==============================] - 0s - loss: -0.1798 - dice_coef: 0.1798 - val_loss: -0.1935 - val_dice_coef: 0.1935\n",
      "Train on 49 samples, validate on 6 samples\n",
      "Epoch 1/1\n",
      "49/49 [==============================] - 0s - loss: -0.1818 - dice_coef: 0.1818 - val_loss: -0.1940 - val_dice_coef: 0.1940\n",
      "round-- 7\n",
      "Train on 49 samples, validate on 6 samples\n",
      "Epoch 1/1\n",
      "49/49 [==============================] - 1s - loss: -0.1616 - dice_coef: 0.1616 - val_loss: -0.1871 - val_dice_coef: 0.1871\n",
      "Train on 49 samples, validate on 6 samples\n",
      "Epoch 1/1\n",
      "49/49 [==============================] - 1s - loss: -0.1654 - dice_coef: 0.1654 - val_loss: -0.1878 - val_dice_coef: 0.1878\n",
      "Train on 49 samples, validate on 6 samples\n",
      "Epoch 1/1\n",
      "49/49 [==============================] - 1s - loss: -0.1733 - dice_coef: 0.1733 - val_loss: -0.1890 - val_dice_coef: 0.1890\n",
      "Train on 49 samples, validate on 6 samples\n",
      "Epoch 1/1\n",
      "49/49 [==============================] - 1s - loss: -0.1658 - dice_coef: 0.1658 - val_loss: -0.1873 - val_dice_coef: 0.1873\n",
      "Train on 49 samples, validate on 6 samples\n",
      "Epoch 1/1\n",
      "49/49 [==============================] - 1s - loss: -0.1697 - dice_coef: 0.1697 - val_loss: -0.1857 - val_dice_coef: 0.1857\n",
      "round-- 7\n",
      "Train on 49 samples, validate on 6 samples\n",
      "Epoch 1/1\n",
      "49/49 [==============================] - 0s - loss: -0.1644 - dice_coef: 0.1644 - val_loss: -0.1872 - val_dice_coef: 0.1872\n",
      "Train on 49 samples, validate on 6 samples\n",
      "Epoch 1/1\n",
      "49/49 [==============================] - 0s - loss: -0.1694 - dice_coef: 0.1694 - val_loss: -0.1879 - val_dice_coef: 0.1879\n",
      "Train on 49 samples, validate on 6 samples\n",
      "Epoch 1/1\n",
      "49/49 [==============================] - 0s - loss: -0.1756 - dice_coef: 0.1756 - val_loss: -0.1885 - val_dice_coef: 0.1885\n",
      "Train on 49 samples, validate on 6 samples\n",
      "Epoch 1/1\n",
      "49/49 [==============================] - 0s - loss: -0.1773 - dice_coef: 0.1773 - val_loss: -0.1884 - val_dice_coef: 0.1884\n",
      "Train on 49 samples, validate on 6 samples\n",
      "Epoch 1/1\n",
      "49/49 [==============================] - 0s - loss: -0.1751 - dice_coef: 0.1751 - val_loss: -0.1880 - val_dice_coef: 0.1880\n",
      "round-- 7\n",
      "Train on 49 samples, validate on 6 samples\n",
      "Epoch 1/1\n",
      "49/49 [==============================] - 0s - loss: -0.1663 - dice_coef: 0.1663 - val_loss: -0.1890 - val_dice_coef: 0.1890\n",
      "Train on 49 samples, validate on 6 samples\n",
      "Epoch 1/1\n",
      "49/49 [==============================] - 0s - loss: -0.1786 - dice_coef: 0.1786 - val_loss: -0.1890 - val_dice_coef: 0.1890\n",
      "Train on 49 samples, validate on 6 samples\n",
      "Epoch 1/1\n",
      "49/49 [==============================] - 0s - loss: -0.1688 - dice_coef: 0.1688 - val_loss: -0.1888 - val_dice_coef: 0.1888\n",
      "Train on 49 samples, validate on 6 samples\n",
      "Epoch 1/1\n",
      "49/49 [==============================] - 0s - loss: -0.1840 - dice_coef: 0.1840 - val_loss: -0.1885 - val_dice_coef: 0.1885\n",
      "Train on 49 samples, validate on 6 samples\n",
      "Epoch 1/1\n",
      "49/49 [==============================] - 0s - loss: -0.1821 - dice_coef: 0.1821 - val_loss: -0.1884 - val_dice_coef: 0.1884\n",
      "round-- 8\n",
      "Train on 49 samples, validate on 6 samples\n",
      "Epoch 1/1\n",
      "49/49 [==============================] - 1s - loss: -0.1641 - dice_coef: 0.1641 - val_loss: -0.1864 - val_dice_coef: 0.1864\n",
      "Train on 49 samples, validate on 6 samples\n",
      "Epoch 1/1\n",
      "49/49 [==============================] - 1s - loss: -0.1659 - dice_coef: 0.1659 - val_loss: -0.1863 - val_dice_coef: 0.1863\n",
      "Train on 49 samples, validate on 6 samples\n",
      "Epoch 1/1\n",
      "49/49 [==============================] - 1s - loss: -0.1736 - dice_coef: 0.1736 - val_loss: -0.1864 - val_dice_coef: 0.1864\n",
      "Train on 49 samples, validate on 6 samples\n",
      "Epoch 1/1\n",
      "49/49 [==============================] - 1s - loss: -0.1668 - dice_coef: 0.1668 - val_loss: -0.1913 - val_dice_coef: 0.1913\n",
      "Train on 49 samples, validate on 6 samples\n",
      "Epoch 1/1\n",
      "49/49 [==============================] - 1s - loss: -0.1710 - dice_coef: 0.1710 - val_loss: -0.1850 - val_dice_coef: 0.1850\n",
      "round-- 8\n",
      "Train on 49 samples, validate on 6 samples\n",
      "Epoch 1/1\n",
      "49/49 [==============================] - 0s - loss: -0.1689 - dice_coef: 0.1689 - val_loss: -0.1875 - val_dice_coef: 0.1875\n",
      "Train on 49 samples, validate on 6 samples\n",
      "Epoch 1/1\n",
      "49/49 [==============================] - 0s - loss: -0.1721 - dice_coef: 0.1721 - val_loss: -0.1880 - val_dice_coef: 0.1880\n",
      "Train on 49 samples, validate on 6 samples\n",
      "Epoch 1/1\n",
      "49/49 [==============================] - 0s - loss: -0.1709 - dice_coef: 0.1709 - val_loss: -0.1888 - val_dice_coef: 0.1888\n",
      "Train on 49 samples, validate on 6 samples\n",
      "Epoch 1/1\n",
      "49/49 [==============================] - 0s - loss: -0.1798 - dice_coef: 0.1798 - val_loss: -0.1927 - val_dice_coef: 0.1927\n",
      "Train on 49 samples, validate on 6 samples\n",
      "Epoch 1/1\n",
      "49/49 [==============================] - 0s - loss: -0.1788 - dice_coef: 0.1788 - val_loss: -0.1843 - val_dice_coef: 0.1843\n",
      "round-- 8\n",
      "Train on 49 samples, validate on 6 samples\n",
      "Epoch 1/1\n",
      "49/49 [==============================] - 0s - loss: -0.1672 - dice_coef: 0.1672 - val_loss: -0.1616 - val_dice_coef: 0.1616\n",
      "Train on 49 samples, validate on 6 samples\n",
      "Epoch 1/1\n",
      "49/49 [==============================] - 0s - loss: -0.1840 - dice_coef: 0.1840 - val_loss: -0.1814 - val_dice_coef: 0.1814\n",
      "Train on 49 samples, validate on 6 samples\n",
      "Epoch 1/1\n",
      "49/49 [==============================] - 0s - loss: -0.1694 - dice_coef: 0.1694 - val_loss: -0.1988 - val_dice_coef: 0.1988\n",
      "Train on 49 samples, validate on 6 samples\n",
      "Epoch 1/1\n",
      "49/49 [==============================] - 0s - loss: -0.1893 - dice_coef: 0.1893 - val_loss: -0.1936 - val_dice_coef: 0.1936\n",
      "Train on 49 samples, validate on 6 samples\n",
      "Epoch 1/1\n",
      "49/49 [==============================] - 0s - loss: -0.1811 - dice_coef: 0.1811 - val_loss: -0.1933 - val_dice_coef: 0.1933\n",
      "round-- 9\n",
      "Train on 49 samples, validate on 6 samples\n",
      "Epoch 1/1\n",
      "49/49 [==============================] - 1s - loss: -0.1643 - dice_coef: 0.1643 - val_loss: -0.1891 - val_dice_coef: 0.1891\n",
      "Train on 49 samples, validate on 6 samples\n",
      "Epoch 1/1\n",
      "49/49 [==============================] - 1s - loss: -0.1675 - dice_coef: 0.1675 - val_loss: -0.1886 - val_dice_coef: 0.1886\n",
      "Train on 49 samples, validate on 6 samples\n",
      "Epoch 1/1\n"
     ]
    },
    {
     "name": "stdout",
     "output_type": "stream",
     "text": [
      "49/49 [==============================] - 1s - loss: -0.1759 - dice_coef: 0.1759 - val_loss: -0.1916 - val_dice_coef: 0.1916\n",
      "Train on 49 samples, validate on 6 samples\n",
      "Epoch 1/1\n",
      "49/49 [==============================] - 1s - loss: -0.1679 - dice_coef: 0.1679 - val_loss: -0.1878 - val_dice_coef: 0.1878\n",
      "Train on 49 samples, validate on 6 samples\n",
      "Epoch 1/1\n",
      "49/49 [==============================] - 1s - loss: -0.1744 - dice_coef: 0.1744 - val_loss: -0.1929 - val_dice_coef: 0.1929\n",
      "round-- 9\n",
      "Train on 49 samples, validate on 6 samples\n",
      "Epoch 1/1\n",
      "49/49 [==============================] - 0s - loss: -0.1770 - dice_coef: 0.1770 - val_loss: -0.1756 - val_dice_coef: 0.1756\n",
      "Train on 49 samples, validate on 6 samples\n",
      "Epoch 1/1\n",
      "49/49 [==============================] - 0s - loss: -0.1920 - dice_coef: 0.1920 - val_loss: -0.1790 - val_dice_coef: 0.1790\n",
      "Train on 49 samples, validate on 6 samples\n",
      "Epoch 1/1\n",
      "49/49 [==============================] - 0s - loss: -0.1823 - dice_coef: 0.1823 - val_loss: -0.1971 - val_dice_coef: 0.1971\n",
      "Train on 49 samples, validate on 6 samples\n",
      "Epoch 1/1\n",
      "49/49 [==============================] - 0s - loss: -0.1841 - dice_coef: 0.1841 - val_loss: -0.1866 - val_dice_coef: 0.1866\n",
      "Train on 49 samples, validate on 6 samples\n",
      "Epoch 1/1\n",
      "49/49 [==============================] - 0s - loss: -0.1971 - dice_coef: 0.1971 - val_loss: -0.1951 - val_dice_coef: 0.1951\n",
      "round-- 9\n",
      "Train on 49 samples, validate on 6 samples\n",
      "Epoch 1/1\n",
      "49/49 [==============================] - 0s - loss: -0.1776 - dice_coef: 0.1776 - val_loss: -0.1967 - val_dice_coef: 0.1967\n",
      "Train on 49 samples, validate on 6 samples\n",
      "Epoch 1/1\n",
      "49/49 [==============================] - 0s - loss: -0.1865 - dice_coef: 0.1865 - val_loss: -0.1970 - val_dice_coef: 0.1970\n",
      "Train on 49 samples, validate on 6 samples\n",
      "Epoch 1/1\n",
      "49/49 [==============================] - 0s - loss: -0.1760 - dice_coef: 0.1760 - val_loss: -0.1965 - val_dice_coef: 0.1965\n",
      "Train on 49 samples, validate on 6 samples\n",
      "Epoch 1/1\n",
      "49/49 [==============================] - 0s - loss: -0.1916 - dice_coef: 0.1916 - val_loss: -0.1889 - val_dice_coef: 0.1889\n",
      "Train on 49 samples, validate on 6 samples\n",
      "Epoch 1/1\n",
      "49/49 [==============================] - 0s - loss: -0.1976 - dice_coef: 0.1976 - val_loss: -0.1842 - val_dice_coef: 0.1842\n",
      "round-- 10\n",
      "Train on 49 samples, validate on 6 samples\n",
      "Epoch 1/1\n",
      "49/49 [==============================] - 1s - loss: -0.1715 - dice_coef: 0.1715 - val_loss: -0.1887 - val_dice_coef: 0.1887\n",
      "Train on 49 samples, validate on 6 samples\n",
      "Epoch 1/1\n",
      "49/49 [==============================] - 1s - loss: -0.1657 - dice_coef: 0.1657 - val_loss: -0.1909 - val_dice_coef: 0.1909\n",
      "Train on 49 samples, validate on 6 samples\n",
      "Epoch 1/1\n",
      "49/49 [==============================] - 1s - loss: -0.1766 - dice_coef: 0.1766 - val_loss: -0.1871 - val_dice_coef: 0.1871\n",
      "Train on 49 samples, validate on 6 samples\n",
      "Epoch 1/1\n",
      "49/49 [==============================] - 1s - loss: -0.1699 - dice_coef: 0.1699 - val_loss: -0.1878 - val_dice_coef: 0.1878\n",
      "Train on 49 samples, validate on 6 samples\n",
      "Epoch 1/1\n",
      "49/49 [==============================] - 1s - loss: -0.1740 - dice_coef: 0.1740 - val_loss: -0.1983 - val_dice_coef: 0.1983\n",
      "round-- 10\n",
      "Train on 49 samples, validate on 6 samples\n",
      "Epoch 1/1\n",
      "49/49 [==============================] - 0s - loss: -0.1731 - dice_coef: 0.1731 - val_loss: -0.1948 - val_dice_coef: 0.1948\n",
      "Train on 49 samples, validate on 6 samples\n",
      "Epoch 1/1\n",
      "49/49 [==============================] - 0s - loss: -0.1793 - dice_coef: 0.1793 - val_loss: -0.1875 - val_dice_coef: 0.1875\n",
      "Train on 49 samples, validate on 6 samples\n",
      "Epoch 1/1\n",
      "49/49 [==============================] - 0s - loss: -0.1798 - dice_coef: 0.1798 - val_loss: -0.1812 - val_dice_coef: 0.1812\n",
      "Train on 49 samples, validate on 6 samples\n",
      "Epoch 1/1\n",
      "49/49 [==============================] - 0s - loss: -0.1735 - dice_coef: 0.1735 - val_loss: -0.1941 - val_dice_coef: 0.1941\n",
      "Train on 49 samples, validate on 6 samples\n",
      "Epoch 1/1\n",
      "49/49 [==============================] - 0s - loss: -0.1862 - dice_coef: 0.1862 - val_loss: -0.1955 - val_dice_coef: 0.1955\n",
      "round-- 10\n",
      "Train on 49 samples, validate on 6 samples\n",
      "Epoch 1/1\n",
      "49/49 [==============================] - 0s - loss: -0.1772 - dice_coef: 0.1772 - val_loss: -0.1924 - val_dice_coef: 0.1924\n",
      "Train on 49 samples, validate on 6 samples\n",
      "Epoch 1/1\n",
      "49/49 [==============================] - 0s - loss: -0.1857 - dice_coef: 0.1857 - val_loss: -0.1867 - val_dice_coef: 0.1867\n",
      "Train on 49 samples, validate on 6 samples\n",
      "Epoch 1/1\n",
      "49/49 [==============================] - 0s - loss: -0.1817 - dice_coef: 0.1817 - val_loss: -0.1868 - val_dice_coef: 0.1868\n",
      "Train on 49 samples, validate on 6 samples\n",
      "Epoch 1/1\n",
      "49/49 [==============================] - 0s - loss: -0.1996 - dice_coef: 0.1996 - val_loss: -0.1874 - val_dice_coef: 0.1874\n",
      "Train on 49 samples, validate on 6 samples\n",
      "Epoch 1/1\n",
      "49/49 [==============================] - 0s - loss: -0.1997 - dice_coef: 0.1997 - val_loss: -0.1877 - val_dice_coef: 0.1877\n",
      "round-- 11\n",
      "Train on 49 samples, validate on 6 samples\n",
      "Epoch 1/1\n",
      "49/49 [==============================] - 1s - loss: -0.1757 - dice_coef: 0.1757 - val_loss: -0.1783 - val_dice_coef: 0.1783\n",
      "Train on 49 samples, validate on 6 samples\n",
      "Epoch 1/1\n",
      "49/49 [==============================] - 1s - loss: -0.0745 - dice_coef: 0.0745 - val_loss: -1.7960e-04 - val_dice_coef: 1.7960e-04\n",
      "Train on 49 samples, validate on 6 samples\n",
      "Epoch 1/1\n",
      "49/49 [==============================] - 1s - loss: -0.0028 - dice_coef: 0.0028 - val_loss: -1.7960e-04 - val_dice_coef: 1.7960e-04\n",
      "Train on 49 samples, validate on 6 samples\n",
      "Epoch 1/1\n",
      "49/49 [==============================] - 1s - loss: -0.0035 - dice_coef: 0.0035 - val_loss: -1.7960e-04 - val_dice_coef: 1.7960e-04\n",
      "Train on 49 samples, validate on 6 samples\n",
      "Epoch 1/1\n",
      "49/49 [==============================] - 1s - loss: -0.0034 - dice_coef: 0.0034 - val_loss: -1.7960e-04 - val_dice_coef: 1.7960e-04\n",
      "round-- 11\n",
      "Train on 49 samples, validate on 6 samples\n",
      "Epoch 1/1\n",
      "49/49 [==============================] - 0s - loss: -0.0020 - dice_coef: 0.0020 - val_loss: -4.6126e-05 - val_dice_coef: 4.6126e-05\n",
      "Train on 49 samples, validate on 6 samples\n",
      "Epoch 1/1\n",
      "49/49 [==============================] - 0s - loss: -0.0037 - dice_coef: 0.0037 - val_loss: -4.6126e-05 - val_dice_coef: 4.6126e-05\n",
      "Train on 49 samples, validate on 6 samples\n",
      "Epoch 1/1\n",
      "49/49 [==============================] - 0s - loss: -0.0027 - dice_coef: 0.0027 - val_loss: -4.6126e-05 - val_dice_coef: 4.6126e-05\n",
      "Train on 49 samples, validate on 6 samples\n",
      "Epoch 1/1\n",
      "49/49 [==============================] - 0s - loss: -0.0031 - dice_coef: 0.0031 - val_loss: -4.6126e-05 - val_dice_coef: 4.6126e-05\n",
      "Train on 49 samples, validate on 6 samples\n",
      "Epoch 1/1\n",
      "49/49 [==============================] - 0s - loss: -0.0030 - dice_coef: 0.0030 - val_loss: -4.6126e-05 - val_dice_coef: 4.6126e-05\n",
      "round-- 11\n",
      "Train on 49 samples, validate on 6 samples\n",
      "Epoch 1/1\n",
      "49/49 [==============================] - 0s - loss: -0.0016 - dice_coef: 0.0016 - val_loss: -2.3738e-05 - val_dice_coef: 2.3738e-05\n",
      "Train on 49 samples, validate on 6 samples\n",
      "Epoch 1/1\n",
      "49/49 [==============================] - 0s - loss: -0.0027 - dice_coef: 0.0027 - val_loss: -2.3738e-05 - val_dice_coef: 2.3738e-05\n",
      "Train on 49 samples, validate on 6 samples\n",
      "Epoch 1/1\n",
      "49/49 [==============================] - 0s - loss: -0.0026 - dice_coef: 0.0026 - val_loss: -2.3738e-05 - val_dice_coef: 2.3738e-05\n",
      "Train on 49 samples, validate on 6 samples\n",
      "Epoch 1/1\n",
      "49/49 [==============================] - 0s - loss: -0.0033 - dice_coef: 0.0033 - val_loss: -2.3738e-05 - val_dice_coef: 2.3738e-05\n",
      "Train on 49 samples, validate on 6 samples\n",
      "Epoch 1/1\n",
      "49/49 [==============================] - 0s - loss: -0.0034 - dice_coef: 0.0034 - val_loss: -2.3738e-05 - val_dice_coef: 2.3738e-05\n",
      "round-- 12\n",
      "Train on 49 samples, validate on 6 samples\n",
      "Epoch 1/1\n",
      "49/49 [==============================] - 1s - loss: -0.0027 - dice_coef: 0.0027 - val_loss: -1.7960e-04 - val_dice_coef: 1.7960e-04\n",
      "Train on 49 samples, validate on 6 samples\n",
      "Epoch 1/1\n",
      "49/49 [==============================] - 1s - loss: -0.0036 - dice_coef: 0.0036 - val_loss: -1.7960e-04 - val_dice_coef: 1.7960e-04\n",
      "Train on 49 samples, validate on 6 samples\n",
      "Epoch 1/1\n"
     ]
    },
    {
     "name": "stdout",
     "output_type": "stream",
     "text": [
      "49/49 [==============================] - 1s - loss: -0.0028 - dice_coef: 0.0028 - val_loss: -1.7960e-04 - val_dice_coef: 1.7960e-04\n",
      "Train on 49 samples, validate on 6 samples\n",
      "Epoch 1/1\n",
      "49/49 [==============================] - 1s - loss: -0.0035 - dice_coef: 0.0035 - val_loss: -1.7960e-04 - val_dice_coef: 1.7960e-04\n",
      "Train on 49 samples, validate on 6 samples\n",
      "Epoch 1/1\n",
      "49/49 [==============================] - 1s - loss: -0.0034 - dice_coef: 0.0034 - val_loss: -1.7960e-04 - val_dice_coef: 1.7960e-04\n",
      "round-- 12\n",
      "Train on 49 samples, validate on 6 samples\n",
      "Epoch 1/1\n",
      "49/49 [==============================] - 0s - loss: -0.0018 - dice_coef: 0.0018 - val_loss: -4.6126e-05 - val_dice_coef: 4.6126e-05\n",
      "Train on 49 samples, validate on 6 samples\n",
      "Epoch 1/1\n",
      "49/49 [==============================] - 0s - loss: -0.0036 - dice_coef: 0.0036 - val_loss: -4.6126e-05 - val_dice_coef: 4.6126e-05\n",
      "Train on 49 samples, validate on 6 samples\n",
      "Epoch 1/1\n",
      "49/49 [==============================] - 0s - loss: -0.0029 - dice_coef: 0.0029 - val_loss: -4.6126e-05 - val_dice_coef: 4.6126e-05\n",
      "Train on 49 samples, validate on 6 samples\n",
      "Epoch 1/1\n",
      "49/49 [==============================] - 0s - loss: -0.0029 - dice_coef: 0.0029 - val_loss: -4.6126e-05 - val_dice_coef: 4.6126e-05\n",
      "Train on 49 samples, validate on 6 samples\n",
      "Epoch 1/1\n",
      "49/49 [==============================] - 0s - loss: -0.0030 - dice_coef: 0.0030 - val_loss: -4.6126e-05 - val_dice_coef: 4.6126e-05\n",
      "round-- 12\n",
      "Train on 49 samples, validate on 6 samples\n",
      "Epoch 1/1\n",
      "49/49 [==============================] - 0s - loss: -0.0015 - dice_coef: 0.0015 - val_loss: -2.3738e-05 - val_dice_coef: 2.3738e-05\n",
      "Train on 49 samples, validate on 6 samples\n",
      "Epoch 1/1\n",
      "49/49 [==============================] - 0s - loss: -0.0027 - dice_coef: 0.0027 - val_loss: -2.3738e-05 - val_dice_coef: 2.3738e-05\n",
      "Train on 49 samples, validate on 6 samples\n",
      "Epoch 1/1\n",
      "49/49 [==============================] - 0s - loss: -0.0026 - dice_coef: 0.0026 - val_loss: -2.3738e-05 - val_dice_coef: 2.3738e-05\n",
      "Train on 49 samples, validate on 6 samples\n",
      "Epoch 1/1\n",
      "49/49 [==============================] - 0s - loss: -0.0030 - dice_coef: 0.0030 - val_loss: -2.3738e-05 - val_dice_coef: 2.3738e-05\n",
      "Train on 49 samples, validate on 6 samples\n",
      "Epoch 1/1\n",
      "49/49 [==============================] - 0s - loss: -0.0036 - dice_coef: 0.0036 - val_loss: -2.3738e-05 - val_dice_coef: 2.3738e-05\n",
      "round-- 13\n",
      "Train on 49 samples, validate on 6 samples\n",
      "Epoch 1/1\n",
      "49/49 [==============================] - 1s - loss: -0.0027 - dice_coef: 0.0027 - val_loss: -1.7961e-04 - val_dice_coef: 1.7961e-04\n",
      "Train on 49 samples, validate on 6 samples\n",
      "Epoch 1/1\n",
      "49/49 [==============================] - 1s - loss: -0.0036 - dice_coef: 0.0036 - val_loss: -1.7961e-04 - val_dice_coef: 1.7961e-04\n",
      "Train on 49 samples, validate on 6 samples\n",
      "Epoch 1/1\n",
      "49/49 [==============================] - 1s - loss: -0.0028 - dice_coef: 0.0028 - val_loss: -1.7961e-04 - val_dice_coef: 1.7961e-04\n",
      "Train on 49 samples, validate on 6 samples\n",
      "Epoch 1/1\n",
      "49/49 [==============================] - 1s - loss: -0.0035 - dice_coef: 0.0035 - val_loss: -1.7961e-04 - val_dice_coef: 1.7961e-04\n",
      "Train on 49 samples, validate on 6 samples\n",
      "Epoch 1/1\n",
      "49/49 [==============================] - 1s - loss: -0.0034 - dice_coef: 0.0034 - val_loss: -1.7961e-04 - val_dice_coef: 1.7961e-04\n",
      "round-- 13\n",
      "Train on 49 samples, validate on 6 samples\n",
      "Epoch 1/1\n",
      "49/49 [==============================] - 0s - loss: -0.0020 - dice_coef: 0.0020 - val_loss: -4.6126e-05 - val_dice_coef: 4.6126e-05\n",
      "Train on 49 samples, validate on 6 samples\n",
      "Epoch 1/1\n",
      "49/49 [==============================] - 0s - loss: -0.0031 - dice_coef: 0.0031 - val_loss: -4.6126e-05 - val_dice_coef: 4.6126e-05\n",
      "Train on 49 samples, validate on 6 samples\n",
      "Epoch 1/1\n",
      "49/49 [==============================] - 0s - loss: -0.0021 - dice_coef: 0.0021 - val_loss: -4.6126e-05 - val_dice_coef: 4.6126e-05\n",
      "Train on 49 samples, validate on 6 samples\n",
      "Epoch 1/1\n",
      "49/49 [==============================] - 0s - loss: -0.0027 - dice_coef: 0.0027 - val_loss: -4.6126e-05 - val_dice_coef: 4.6126e-05\n",
      "Train on 49 samples, validate on 6 samples\n",
      "Epoch 1/1\n",
      "49/49 [==============================] - 0s - loss: -0.0029 - dice_coef: 0.0029 - val_loss: -4.6126e-05 - val_dice_coef: 4.6126e-05\n",
      "round-- 13\n",
      "Train on 49 samples, validate on 6 samples\n",
      "Epoch 1/1\n",
      "49/49 [==============================] - 0s - loss: -0.0015 - dice_coef: 0.0015 - val_loss: -2.3738e-05 - val_dice_coef: 2.3738e-05\n",
      "Train on 49 samples, validate on 6 samples\n",
      "Epoch 1/1\n",
      "49/49 [==============================] - 0s - loss: -0.0034 - dice_coef: 0.0034 - val_loss: -2.3738e-05 - val_dice_coef: 2.3738e-05\n",
      "Train on 49 samples, validate on 6 samples\n",
      "Epoch 1/1\n",
      "49/49 [==============================] - 0s - loss: -0.0026 - dice_coef: 0.0026 - val_loss: -2.3738e-05 - val_dice_coef: 2.3738e-05\n",
      "Train on 49 samples, validate on 6 samples\n",
      "Epoch 1/1\n",
      "49/49 [==============================] - 0s - loss: -0.0030 - dice_coef: 0.0030 - val_loss: -2.3738e-05 - val_dice_coef: 2.3738e-05\n",
      "Train on 49 samples, validate on 6 samples\n",
      "Epoch 1/1\n",
      "49/49 [==============================] - 0s - loss: -0.0035 - dice_coef: 0.0035 - val_loss: -2.3738e-05 - val_dice_coef: 2.3738e-05\n",
      "round-- 14\n",
      "Train on 49 samples, validate on 6 samples\n",
      "Epoch 1/1\n",
      "49/49 [==============================] - 1s - loss: -0.0027 - dice_coef: 0.0027 - val_loss: -1.7961e-04 - val_dice_coef: 1.7961e-04\n",
      "Train on 49 samples, validate on 6 samples\n",
      "Epoch 1/1\n",
      "49/49 [==============================] - 1s - loss: -0.0036 - dice_coef: 0.0036 - val_loss: -1.7961e-04 - val_dice_coef: 1.7961e-04\n",
      "Train on 49 samples, validate on 6 samples\n",
      "Epoch 1/1\n",
      "49/49 [==============================] - 1s - loss: -0.0028 - dice_coef: 0.0028 - val_loss: -1.7961e-04 - val_dice_coef: 1.7961e-04\n",
      "Train on 49 samples, validate on 6 samples\n",
      "Epoch 1/1\n",
      "49/49 [==============================] - 1s - loss: -0.0035 - dice_coef: 0.0035 - val_loss: -1.7961e-04 - val_dice_coef: 1.7961e-04\n",
      "Train on 49 samples, validate on 6 samples\n",
      "Epoch 1/1\n",
      "49/49 [==============================] - 1s - loss: -0.0034 - dice_coef: 0.0034 - val_loss: -1.7961e-04 - val_dice_coef: 1.7961e-04\n",
      "round-- 14\n",
      "Train on 49 samples, validate on 6 samples\n",
      "Epoch 1/1\n",
      "49/49 [==============================] - 0s - loss: -0.0019 - dice_coef: 0.0019 - val_loss: -4.6127e-05 - val_dice_coef: 4.6127e-05\n",
      "Train on 49 samples, validate on 6 samples\n",
      "Epoch 1/1\n",
      "49/49 [==============================] - 0s - loss: -0.0022 - dice_coef: 0.0022 - val_loss: -4.6127e-05 - val_dice_coef: 4.6127e-05\n",
      "Train on 49 samples, validate on 6 samples\n",
      "Epoch 1/1\n",
      "49/49 [==============================] - 0s - loss: -0.0026 - dice_coef: 0.0026 - val_loss: -4.6127e-05 - val_dice_coef: 4.6127e-05\n",
      "Train on 49 samples, validate on 6 samples\n",
      "Epoch 1/1\n",
      "49/49 [==============================] - 0s - loss: -0.0029 - dice_coef: 0.0029 - val_loss: -4.6127e-05 - val_dice_coef: 4.6127e-05\n",
      "Train on 49 samples, validate on 6 samples\n",
      "Epoch 1/1\n",
      "49/49 [==============================] - 0s - loss: -0.0032 - dice_coef: 0.0032 - val_loss: -4.6127e-05 - val_dice_coef: 4.6127e-05\n",
      "round-- 14\n",
      "Train on 49 samples, validate on 6 samples\n",
      "Epoch 1/1\n",
      "49/49 [==============================] - 0s - loss: -0.0015 - dice_coef: 0.0015 - val_loss: -2.3738e-05 - val_dice_coef: 2.3738e-05\n",
      "Train on 49 samples, validate on 6 samples\n",
      "Epoch 1/1\n",
      "49/49 [==============================] - 0s - loss: -0.0030 - dice_coef: 0.0030 - val_loss: -2.3738e-05 - val_dice_coef: 2.3738e-05\n",
      "Train on 49 samples, validate on 6 samples\n",
      "Epoch 1/1\n",
      "49/49 [==============================] - 0s - loss: -0.0026 - dice_coef: 0.0026 - val_loss: -2.3738e-05 - val_dice_coef: 2.3738e-05\n",
      "Train on 49 samples, validate on 6 samples\n",
      "Epoch 1/1\n",
      "49/49 [==============================] - 0s - loss: -0.0031 - dice_coef: 0.0031 - val_loss: -2.3738e-05 - val_dice_coef: 2.3738e-05\n",
      "Train on 49 samples, validate on 6 samples\n",
      "Epoch 1/1\n",
      "49/49 [==============================] - 0s - loss: -0.0033 - dice_coef: 0.0033 - val_loss: -2.3738e-05 - val_dice_coef: 2.3738e-05\n",
      "round-- 15\n",
      "Train on 49 samples, validate on 6 samples\n",
      "Epoch 1/1\n",
      "49/49 [==============================] - 1s - loss: -0.0027 - dice_coef: 0.0027 - val_loss: -1.7961e-04 - val_dice_coef: 1.7961e-04\n",
      "Train on 49 samples, validate on 6 samples\n",
      "Epoch 1/1\n"
     ]
    },
    {
     "name": "stdout",
     "output_type": "stream",
     "text": [
      "49/49 [==============================] - 1s - loss: -0.0036 - dice_coef: 0.0036 - val_loss: -1.7961e-04 - val_dice_coef: 1.7961e-04\n",
      "Train on 49 samples, validate on 6 samples\n",
      "Epoch 1/1\n",
      "49/49 [==============================] - 1s - loss: -0.0028 - dice_coef: 0.0028 - val_loss: -1.7961e-04 - val_dice_coef: 1.7961e-04\n",
      "Train on 49 samples, validate on 6 samples\n",
      "Epoch 1/1\n",
      "49/49 [==============================] - 1s - loss: -0.0035 - dice_coef: 0.0035 - val_loss: -1.7961e-04 - val_dice_coef: 1.7961e-04\n",
      "Train on 49 samples, validate on 6 samples\n",
      "Epoch 1/1\n",
      "49/49 [==============================] - 1s - loss: -0.0034 - dice_coef: 0.0034 - val_loss: -1.7961e-04 - val_dice_coef: 1.7961e-04\n",
      "round-- 15\n",
      "Train on 49 samples, validate on 6 samples\n",
      "Epoch 1/1\n",
      "49/49 [==============================] - 0s - loss: -0.0018 - dice_coef: 0.0018 - val_loss: -4.6127e-05 - val_dice_coef: 4.6127e-05\n",
      "Train on 49 samples, validate on 6 samples\n",
      "Epoch 1/1\n",
      "49/49 [==============================] - 0s - loss: -0.0021 - dice_coef: 0.0021 - val_loss: -4.6127e-05 - val_dice_coef: 4.6127e-05\n",
      "Train on 49 samples, validate on 6 samples\n",
      "Epoch 1/1\n",
      "49/49 [==============================] - 0s - loss: -0.0025 - dice_coef: 0.0025 - val_loss: -4.6127e-05 - val_dice_coef: 4.6127e-05\n",
      "Train on 49 samples, validate on 6 samples\n",
      "Epoch 1/1\n",
      "49/49 [==============================] - 0s - loss: -0.0026 - dice_coef: 0.0026 - val_loss: -4.6127e-05 - val_dice_coef: 4.6127e-05\n",
      "Train on 49 samples, validate on 6 samples\n",
      "Epoch 1/1\n",
      "49/49 [==============================] - 0s - loss: -0.0031 - dice_coef: 0.0031 - val_loss: -4.6127e-05 - val_dice_coef: 4.6127e-05\n",
      "round-- 15\n",
      "Train on 49 samples, validate on 6 samples\n",
      "Epoch 1/1\n",
      "49/49 [==============================] - 0s - loss: -0.0016 - dice_coef: 0.0016 - val_loss: -2.3738e-05 - val_dice_coef: 2.3738e-05\n",
      "Train on 49 samples, validate on 6 samples\n",
      "Epoch 1/1\n",
      "49/49 [==============================] - 0s - loss: -0.0027 - dice_coef: 0.0027 - val_loss: -2.3738e-05 - val_dice_coef: 2.3738e-05\n",
      "Train on 49 samples, validate on 6 samples\n",
      "Epoch 1/1\n",
      "49/49 [==============================] - 0s - loss: -0.0025 - dice_coef: 0.0025 - val_loss: -2.3738e-05 - val_dice_coef: 2.3738e-05\n",
      "Train on 49 samples, validate on 6 samples\n",
      "Epoch 1/1\n",
      "49/49 [==============================] - 0s - loss: -0.0032 - dice_coef: 0.0032 - val_loss: -2.3738e-05 - val_dice_coef: 2.3738e-05\n",
      "Train on 49 samples, validate on 6 samples\n",
      "Epoch 1/1\n",
      "49/49 [==============================] - 0s - loss: -0.0033 - dice_coef: 0.0033 - val_loss: -2.3738e-05 - val_dice_coef: 2.3738e-05\n",
      "round-- 16\n",
      "Train on 49 samples, validate on 6 samples\n",
      "Epoch 1/1\n",
      "49/49 [==============================] - 1s - loss: -0.0027 - dice_coef: 0.0027 - val_loss: -1.7961e-04 - val_dice_coef: 1.7961e-04\n",
      "Train on 49 samples, validate on 6 samples\n",
      "Epoch 1/1\n",
      "49/49 [==============================] - 1s - loss: -0.0036 - dice_coef: 0.0036 - val_loss: -1.7961e-04 - val_dice_coef: 1.7961e-04\n",
      "Train on 49 samples, validate on 6 samples\n",
      "Epoch 1/1\n",
      "49/49 [==============================] - 1s - loss: -0.0028 - dice_coef: 0.0028 - val_loss: -1.7961e-04 - val_dice_coef: 1.7961e-04\n",
      "Train on 49 samples, validate on 6 samples\n",
      "Epoch 1/1\n",
      "49/49 [==============================] - 1s - loss: -0.0035 - dice_coef: 0.0035 - val_loss: -1.7961e-04 - val_dice_coef: 1.7961e-04\n",
      "Train on 49 samples, validate on 6 samples\n",
      "Epoch 1/1\n",
      "49/49 [==============================] - 1s - loss: -0.0034 - dice_coef: 0.0034 - val_loss: -1.7961e-04 - val_dice_coef: 1.7961e-04\n",
      "round-- 16\n",
      "Train on 49 samples, validate on 6 samples\n",
      "Epoch 1/1\n",
      "49/49 [==============================] - 0s - loss: -0.0016 - dice_coef: 0.0016 - val_loss: -4.6127e-05 - val_dice_coef: 4.6127e-05\n",
      "Train on 49 samples, validate on 6 samples\n",
      "Epoch 1/1\n",
      "49/49 [==============================] - 0s - loss: -0.0025 - dice_coef: 0.0025 - val_loss: -4.6127e-05 - val_dice_coef: 4.6127e-05\n",
      "Train on 49 samples, validate on 6 samples\n",
      "Epoch 1/1\n",
      "49/49 [==============================] - 0s - loss: -0.0030 - dice_coef: 0.0030 - val_loss: -4.6127e-05 - val_dice_coef: 4.6127e-05\n",
      "Train on 49 samples, validate on 6 samples\n",
      "Epoch 1/1\n",
      "49/49 [==============================] - 0s - loss: -0.0027 - dice_coef: 0.0027 - val_loss: -4.6127e-05 - val_dice_coef: 4.6127e-05\n",
      "Train on 49 samples, validate on 6 samples\n",
      "Epoch 1/1\n",
      "49/49 [==============================] - 0s - loss: -0.0034 - dice_coef: 0.0034 - val_loss: -4.6127e-05 - val_dice_coef: 4.6127e-05\n",
      "round-- 16\n",
      "Train on 49 samples, validate on 6 samples\n",
      "Epoch 1/1\n",
      "49/49 [==============================] - 0s - loss: -0.0018 - dice_coef: 0.0018 - val_loss: -2.3739e-05 - val_dice_coef: 2.3739e-05\n",
      "Train on 49 samples, validate on 6 samples\n",
      "Epoch 1/1\n",
      "49/49 [==============================] - 0s - loss: -0.0027 - dice_coef: 0.0027 - val_loss: -2.3739e-05 - val_dice_coef: 2.3739e-05\n",
      "Train on 49 samples, validate on 6 samples\n",
      "Epoch 1/1\n",
      "49/49 [==============================] - 0s - loss: -0.0026 - dice_coef: 0.0026 - val_loss: -2.3739e-05 - val_dice_coef: 2.3739e-05\n",
      "Train on 49 samples, validate on 6 samples\n",
      "Epoch 1/1\n",
      "49/49 [==============================] - 0s - loss: -0.0032 - dice_coef: 0.0032 - val_loss: -2.3739e-05 - val_dice_coef: 2.3739e-05\n",
      "Train on 49 samples, validate on 6 samples\n",
      "Epoch 1/1\n",
      "49/49 [==============================] - 0s - loss: -0.0033 - dice_coef: 0.0033 - val_loss: -2.3739e-05 - val_dice_coef: 2.3739e-05\n",
      "round-- 17\n",
      "Train on 49 samples, validate on 6 samples\n",
      "Epoch 1/1\n",
      "49/49 [==============================] - 1s - loss: -0.0027 - dice_coef: 0.0027 - val_loss: -1.7961e-04 - val_dice_coef: 1.7961e-04\n",
      "Train on 49 samples, validate on 6 samples\n",
      "Epoch 1/1\n",
      "49/49 [==============================] - 1s - loss: -0.0036 - dice_coef: 0.0036 - val_loss: -1.7961e-04 - val_dice_coef: 1.7961e-04\n",
      "Train on 49 samples, validate on 6 samples\n",
      "Epoch 1/1\n",
      "49/49 [==============================] - 1s - loss: -0.0028 - dice_coef: 0.0028 - val_loss: -1.7962e-04 - val_dice_coef: 1.7962e-04\n",
      "Train on 49 samples, validate on 6 samples\n",
      "Epoch 1/1\n",
      "49/49 [==============================] - 1s - loss: -0.0035 - dice_coef: 0.0035 - val_loss: -1.7962e-04 - val_dice_coef: 1.7962e-04\n",
      "Train on 49 samples, validate on 6 samples\n",
      "Epoch 1/1\n",
      "49/49 [==============================] - 1s - loss: -0.0034 - dice_coef: 0.0034 - val_loss: -1.7962e-04 - val_dice_coef: 1.7962e-04\n",
      "round-- 17\n",
      "Train on 49 samples, validate on 6 samples\n",
      "Epoch 1/1\n",
      "49/49 [==============================] - 0s - loss: -0.0018 - dice_coef: 0.0018 - val_loss: -4.6128e-05 - val_dice_coef: 4.6128e-05\n",
      "Train on 49 samples, validate on 6 samples\n",
      "Epoch 1/1\n",
      "49/49 [==============================] - 0s - loss: -0.0028 - dice_coef: 0.0028 - val_loss: -4.6128e-05 - val_dice_coef: 4.6128e-05\n",
      "Train on 49 samples, validate on 6 samples\n",
      "Epoch 1/1\n",
      "49/49 [==============================] - 0s - loss: -0.0027 - dice_coef: 0.0027 - val_loss: -4.6128e-05 - val_dice_coef: 4.6128e-05\n",
      "Train on 49 samples, validate on 6 samples\n",
      "Epoch 1/1\n",
      "49/49 [==============================] - 0s - loss: -0.0027 - dice_coef: 0.0027 - val_loss: -4.6128e-05 - val_dice_coef: 4.6128e-05\n",
      "Train on 49 samples, validate on 6 samples\n",
      "Epoch 1/1\n",
      "49/49 [==============================] - 0s - loss: -0.0028 - dice_coef: 0.0028 - val_loss: -4.6128e-05 - val_dice_coef: 4.6128e-05\n",
      "round-- 17\n",
      "Train on 49 samples, validate on 6 samples\n",
      "Epoch 1/1\n",
      "49/49 [==============================] - 0s - loss: -0.0016 - dice_coef: 0.0016 - val_loss: -2.3739e-05 - val_dice_coef: 2.3739e-05\n",
      "Train on 49 samples, validate on 6 samples\n",
      "Epoch 1/1\n",
      "49/49 [==============================] - 0s - loss: -0.0026 - dice_coef: 0.0026 - val_loss: -2.3739e-05 - val_dice_coef: 2.3739e-05\n",
      "Train on 49 samples, validate on 6 samples\n",
      "Epoch 1/1\n",
      "49/49 [==============================] - 0s - loss: -0.0026 - dice_coef: 0.0026 - val_loss: -2.3739e-05 - val_dice_coef: 2.3739e-05\n",
      "Train on 49 samples, validate on 6 samples\n",
      "Epoch 1/1\n",
      "49/49 [==============================] - 0s - loss: -0.0033 - dice_coef: 0.0033 - val_loss: -2.3739e-05 - val_dice_coef: 2.3739e-05\n",
      "Train on 49 samples, validate on 6 samples\n",
      "Epoch 1/1\n",
      "49/49 [==============================] - 0s - loss: -0.0034 - dice_coef: 0.0034 - val_loss: -2.3739e-05 - val_dice_coef: 2.3739e-05\n",
      "round-- 18\n",
      "Train on 49 samples, validate on 6 samples\n",
      "Epoch 1/1\n"
     ]
    },
    {
     "name": "stdout",
     "output_type": "stream",
     "text": [
      "49/49 [==============================] - 1s - loss: -0.0027 - dice_coef: 0.0027 - val_loss: -1.7962e-04 - val_dice_coef: 1.7962e-04\n",
      "Train on 49 samples, validate on 6 samples\n",
      "Epoch 1/1\n",
      "49/49 [==============================] - 1s - loss: -0.0036 - dice_coef: 0.0036 - val_loss: -1.7962e-04 - val_dice_coef: 1.7962e-04\n",
      "Train on 49 samples, validate on 6 samples\n",
      "Epoch 1/1\n",
      "49/49 [==============================] - 1s - loss: -0.0028 - dice_coef: 0.0028 - val_loss: -1.7962e-04 - val_dice_coef: 1.7962e-04\n",
      "Train on 49 samples, validate on 6 samples\n",
      "Epoch 1/1\n",
      "49/49 [==============================] - 1s - loss: -0.0035 - dice_coef: 0.0035 - val_loss: -1.7962e-04 - val_dice_coef: 1.7962e-04\n",
      "Train on 49 samples, validate on 6 samples\n",
      "Epoch 1/1\n",
      "49/49 [==============================] - 1s - loss: -0.0034 - dice_coef: 0.0034 - val_loss: -1.7962e-04 - val_dice_coef: 1.7962e-04\n",
      "round-- 18\n",
      "Train on 49 samples, validate on 6 samples\n",
      "Epoch 1/1\n",
      "49/49 [==============================] - 0s - loss: -0.0019 - dice_coef: 0.0019 - val_loss: -4.6128e-05 - val_dice_coef: 4.6128e-05\n",
      "Train on 49 samples, validate on 6 samples\n",
      "Epoch 1/1\n",
      "49/49 [==============================] - 0s - loss: -0.0027 - dice_coef: 0.0027 - val_loss: -4.6128e-05 - val_dice_coef: 4.6128e-05\n",
      "Train on 49 samples, validate on 6 samples\n",
      "Epoch 1/1\n",
      "49/49 [==============================] - 0s - loss: -0.0027 - dice_coef: 0.0027 - val_loss: -4.6128e-05 - val_dice_coef: 4.6128e-05\n",
      "Train on 49 samples, validate on 6 samples\n",
      "Epoch 1/1\n",
      "49/49 [==============================] - 0s - loss: -0.0031 - dice_coef: 0.0031 - val_loss: -4.6128e-05 - val_dice_coef: 4.6128e-05\n",
      "Train on 49 samples, validate on 6 samples\n",
      "Epoch 1/1\n",
      "49/49 [==============================] - 0s - loss: -0.0032 - dice_coef: 0.0032 - val_loss: -4.6128e-05 - val_dice_coef: 4.6128e-05\n",
      "round-- 18\n",
      "Train on 49 samples, validate on 6 samples\n",
      "Epoch 1/1\n",
      "49/49 [==============================] - 0s - loss: -0.0016 - dice_coef: 0.0016 - val_loss: -2.3739e-05 - val_dice_coef: 2.3739e-05\n",
      "Train on 49 samples, validate on 6 samples\n",
      "Epoch 1/1\n",
      "49/49 [==============================] - 0s - loss: -0.0025 - dice_coef: 0.0025 - val_loss: -2.3739e-05 - val_dice_coef: 2.3739e-05\n",
      "Train on 49 samples, validate on 6 samples\n",
      "Epoch 1/1\n",
      "49/49 [==============================] - 0s - loss: -0.0028 - dice_coef: 0.0028 - val_loss: -2.3739e-05 - val_dice_coef: 2.3739e-05\n",
      "Train on 49 samples, validate on 6 samples\n",
      "Epoch 1/1\n",
      "49/49 [==============================] - 0s - loss: -0.0033 - dice_coef: 0.0033 - val_loss: -2.3739e-05 - val_dice_coef: 2.3739e-05\n",
      "Train on 49 samples, validate on 6 samples\n",
      "Epoch 1/1\n",
      "49/49 [==============================] - 0s - loss: -0.0033 - dice_coef: 0.0033 - val_loss: -2.3739e-05 - val_dice_coef: 2.3739e-05\n",
      "round-- 19\n",
      "Train on 49 samples, validate on 6 samples\n",
      "Epoch 1/1\n",
      "49/49 [==============================] - 1s - loss: -0.0027 - dice_coef: 0.0027 - val_loss: -1.7962e-04 - val_dice_coef: 1.7962e-04\n",
      "Train on 49 samples, validate on 6 samples\n",
      "Epoch 1/1\n",
      "49/49 [==============================] - 1s - loss: -0.0036 - dice_coef: 0.0036 - val_loss: -1.7962e-04 - val_dice_coef: 1.7962e-04\n",
      "Train on 49 samples, validate on 6 samples\n",
      "Epoch 1/1\n",
      "49/49 [==============================] - 1s - loss: -0.0028 - dice_coef: 0.0028 - val_loss: -1.7962e-04 - val_dice_coef: 1.7962e-04\n",
      "Train on 49 samples, validate on 6 samples\n",
      "Epoch 1/1\n",
      "49/49 [==============================] - 1s - loss: -0.0035 - dice_coef: 0.0035 - val_loss: -1.7962e-04 - val_dice_coef: 1.7962e-04\n",
      "Train on 49 samples, validate on 6 samples\n",
      "Epoch 1/1\n",
      "49/49 [==============================] - 1s - loss: -0.0034 - dice_coef: 0.0034 - val_loss: -1.7962e-04 - val_dice_coef: 1.7962e-04\n",
      "round-- 19\n",
      "Train on 49 samples, validate on 6 samples\n",
      "Epoch 1/1\n",
      "49/49 [==============================] - 0s - loss: -0.0017 - dice_coef: 0.0017 - val_loss: -4.6129e-05 - val_dice_coef: 4.6129e-05\n",
      "Train on 49 samples, validate on 6 samples\n",
      "Epoch 1/1\n",
      "49/49 [==============================] - 0s - loss: -0.0026 - dice_coef: 0.0026 - val_loss: -4.6129e-05 - val_dice_coef: 4.6129e-05\n",
      "Train on 49 samples, validate on 6 samples\n",
      "Epoch 1/1\n",
      "49/49 [==============================] - 0s - loss: -0.0026 - dice_coef: 0.0026 - val_loss: -4.6129e-05 - val_dice_coef: 4.6129e-05\n",
      "Train on 49 samples, validate on 6 samples\n",
      "Epoch 1/1\n",
      "49/49 [==============================] - 0s - loss: -0.0027 - dice_coef: 0.0027 - val_loss: -4.6129e-05 - val_dice_coef: 4.6129e-05\n",
      "Train on 49 samples, validate on 6 samples\n",
      "Epoch 1/1\n",
      "49/49 [==============================] - 0s - loss: -0.0029 - dice_coef: 0.0029 - val_loss: -4.6129e-05 - val_dice_coef: 4.6129e-05\n",
      "round-- 19\n",
      "Train on 49 samples, validate on 6 samples\n",
      "Epoch 1/1\n",
      "49/49 [==============================] - 0s - loss: -0.0017 - dice_coef: 0.0017 - val_loss: -2.3739e-05 - val_dice_coef: 2.3739e-05\n",
      "Train on 49 samples, validate on 6 samples\n",
      "Epoch 1/1\n",
      "49/49 [==============================] - 0s - loss: -0.0026 - dice_coef: 0.0026 - val_loss: -2.3739e-05 - val_dice_coef: 2.3739e-05\n",
      "Train on 49 samples, validate on 6 samples\n",
      "Epoch 1/1\n",
      "49/49 [==============================] - 0s - loss: -0.0026 - dice_coef: 0.0026 - val_loss: -2.3739e-05 - val_dice_coef: 2.3739e-05\n",
      "Train on 49 samples, validate on 6 samples\n",
      "Epoch 1/1\n",
      "49/49 [==============================] - 0s - loss: -0.0032 - dice_coef: 0.0032 - val_loss: -2.3739e-05 - val_dice_coef: 2.3739e-05\n",
      "Train on 49 samples, validate on 6 samples\n",
      "Epoch 1/1\n",
      "49/49 [==============================] - 0s - loss: -0.0034 - dice_coef: 0.0034 - val_loss: -2.3739e-05 - val_dice_coef: 2.3739e-05\n",
      "round-- 20\n",
      "Train on 49 samples, validate on 6 samples\n",
      "Epoch 1/1\n",
      "49/49 [==============================] - 1s - loss: -0.0027 - dice_coef: 0.0027 - val_loss: -1.7962e-04 - val_dice_coef: 1.7962e-04\n",
      "Train on 49 samples, validate on 6 samples\n",
      "Epoch 1/1\n",
      "49/49 [==============================] - 1s - loss: -0.0037 - dice_coef: 0.0037 - val_loss: -1.7962e-04 - val_dice_coef: 1.7962e-04\n",
      "Train on 49 samples, validate on 6 samples\n",
      "Epoch 1/1\n",
      "49/49 [==============================] - 1s - loss: -0.0028 - dice_coef: 0.0028 - val_loss: -1.7958e-04 - val_dice_coef: 1.7958e-04\n",
      "Train on 49 samples, validate on 6 samples\n",
      "Epoch 1/1\n",
      "49/49 [==============================] - 1s - loss: -0.0035 - dice_coef: 0.0035 - val_loss: -1.7958e-04 - val_dice_coef: 1.7958e-04\n",
      "Train on 49 samples, validate on 6 samples\n",
      "Epoch 1/1\n",
      "49/49 [==============================] - 1s - loss: -0.0034 - dice_coef: 0.0034 - val_loss: -1.7958e-04 - val_dice_coef: 1.7958e-04\n",
      "round-- 20\n",
      "Train on 49 samples, validate on 6 samples\n",
      "Epoch 1/1\n",
      "49/49 [==============================] - 0s - loss: -0.0018 - dice_coef: 0.0018 - val_loss: -4.6122e-05 - val_dice_coef: 4.6122e-05\n",
      "Train on 49 samples, validate on 6 samples\n",
      "Epoch 1/1\n",
      "49/49 [==============================] - 0s - loss: -0.0027 - dice_coef: 0.0027 - val_loss: -4.6122e-05 - val_dice_coef: 4.6122e-05\n",
      "Train on 49 samples, validate on 6 samples\n",
      "Epoch 1/1\n",
      "49/49 [==============================] - 0s - loss: -0.0027 - dice_coef: 0.0027 - val_loss: -4.6122e-05 - val_dice_coef: 4.6122e-05\n",
      "Train on 49 samples, validate on 6 samples\n",
      "Epoch 1/1\n",
      "49/49 [==============================] - 0s - loss: -0.0031 - dice_coef: 0.0031 - val_loss: -4.6122e-05 - val_dice_coef: 4.6122e-05\n",
      "Train on 49 samples, validate on 6 samples\n",
      "Epoch 1/1\n",
      "49/49 [==============================] - 0s - loss: -0.0033 - dice_coef: 0.0033 - val_loss: -4.6122e-05 - val_dice_coef: 4.6122e-05\n",
      "round-- 20\n",
      "Train on 49 samples, validate on 6 samples\n",
      "Epoch 1/1\n",
      "49/49 [==============================] - 0s - loss: -0.0016 - dice_coef: 0.0016 - val_loss: -2.3736e-05 - val_dice_coef: 2.3736e-05\n",
      "Train on 49 samples, validate on 6 samples\n",
      "Epoch 1/1\n",
      "49/49 [==============================] - 0s - loss: -0.0026 - dice_coef: 0.0026 - val_loss: -2.3736e-05 - val_dice_coef: 2.3736e-05\n",
      "Train on 49 samples, validate on 6 samples\n",
      "Epoch 1/1\n",
      "49/49 [==============================] - 0s - loss: -0.0027 - dice_coef: 0.0027 - val_loss: -2.3736e-05 - val_dice_coef: 2.3736e-05\n",
      "Train on 49 samples, validate on 6 samples\n",
      "Epoch 1/1\n",
      "49/49 [==============================] - 0s - loss: -0.0032 - dice_coef: 0.0032 - val_loss: -2.3736e-05 - val_dice_coef: 2.3736e-05\n",
      "Train on 49 samples, validate on 6 samples\n",
      "Epoch 1/1\n"
     ]
    },
    {
     "name": "stdout",
     "output_type": "stream",
     "text": [
      "49/49 [==============================] - 0s - loss: -0.0034 - dice_coef: 0.0034 - val_loss: -2.3736e-05 - val_dice_coef: 2.3736e-05\n",
      "round-- 21\n",
      "Train on 49 samples, validate on 6 samples\n",
      "Epoch 1/1\n",
      "49/49 [==============================] - 1s - loss: -0.0027 - dice_coef: 0.0027 - val_loss: -1.7958e-04 - val_dice_coef: 1.7958e-04\n",
      "Train on 49 samples, validate on 6 samples\n",
      "Epoch 1/1\n",
      "49/49 [==============================] - 1s - loss: -0.0037 - dice_coef: 0.0037 - val_loss: -1.7958e-04 - val_dice_coef: 1.7958e-04\n",
      "Train on 49 samples, validate on 6 samples\n",
      "Epoch 1/1\n",
      "49/49 [==============================] - 1s - loss: -0.0028 - dice_coef: 0.0028 - val_loss: -1.7958e-04 - val_dice_coef: 1.7958e-04\n",
      "Train on 49 samples, validate on 6 samples\n",
      "Epoch 1/1\n",
      "49/49 [==============================] - 1s - loss: -0.0035 - dice_coef: 0.0035 - val_loss: -1.7958e-04 - val_dice_coef: 1.7958e-04\n",
      "Train on 49 samples, validate on 6 samples\n",
      "Epoch 1/1\n",
      "49/49 [==============================] - 1s - loss: -0.0034 - dice_coef: 0.0034 - val_loss: -1.7958e-04 - val_dice_coef: 1.7958e-04\n",
      "round-- 21\n",
      "Train on 49 samples, validate on 6 samples\n",
      "Epoch 1/1\n",
      "49/49 [==============================] - 0s - loss: -0.0018 - dice_coef: 0.0018 - val_loss: -4.6123e-05 - val_dice_coef: 4.6123e-05\n",
      "Train on 49 samples, validate on 6 samples\n",
      "Epoch 1/1\n",
      "49/49 [==============================] - 0s - loss: -0.0026 - dice_coef: 0.0026 - val_loss: -4.6123e-05 - val_dice_coef: 4.6123e-05\n",
      "Train on 49 samples, validate on 6 samples\n",
      "Epoch 1/1\n",
      "49/49 [==============================] - 0s - loss: -0.0027 - dice_coef: 0.0027 - val_loss: -4.6123e-05 - val_dice_coef: 4.6123e-05\n",
      "Train on 49 samples, validate on 6 samples\n",
      "Epoch 1/1\n",
      "49/49 [==============================] - 0s - loss: -0.0030 - dice_coef: 0.0030 - val_loss: -4.6123e-05 - val_dice_coef: 4.6123e-05\n",
      "Train on 49 samples, validate on 6 samples\n",
      "Epoch 1/1\n",
      "49/49 [==============================] - 0s - loss: -0.0031 - dice_coef: 0.0031 - val_loss: -4.6123e-05 - val_dice_coef: 4.6123e-05\n",
      "round-- 21\n",
      "Train on 49 samples, validate on 6 samples\n",
      "Epoch 1/1\n",
      "49/49 [==============================] - 0s - loss: -0.0016 - dice_coef: 0.0016 - val_loss: -2.3736e-05 - val_dice_coef: 2.3736e-05\n",
      "Train on 49 samples, validate on 6 samples\n",
      "Epoch 1/1\n",
      "49/49 [==============================] - 0s - loss: -0.0029 - dice_coef: 0.0029 - val_loss: -2.3736e-05 - val_dice_coef: 2.3736e-05\n",
      "Train on 49 samples, validate on 6 samples\n",
      "Epoch 1/1\n",
      "49/49 [==============================] - 0s - loss: -0.0026 - dice_coef: 0.0026 - val_loss: -2.3736e-05 - val_dice_coef: 2.3736e-05\n",
      "Train on 49 samples, validate on 6 samples\n",
      "Epoch 1/1\n",
      "49/49 [==============================] - 0s - loss: -0.0032 - dice_coef: 0.0032 - val_loss: -2.3736e-05 - val_dice_coef: 2.3736e-05\n",
      "Train on 49 samples, validate on 6 samples\n",
      "Epoch 1/1\n",
      "49/49 [==============================] - 0s - loss: -0.0031 - dice_coef: 0.0031 - val_loss: -2.3736e-05 - val_dice_coef: 2.3736e-05\n",
      "round-- 22\n",
      "Train on 49 samples, validate on 6 samples\n",
      "Epoch 1/1\n",
      "49/49 [==============================] - 1s - loss: -0.0027 - dice_coef: 0.0027 - val_loss: -1.7958e-04 - val_dice_coef: 1.7958e-04\n",
      "Train on 49 samples, validate on 6 samples\n",
      "Epoch 1/1\n",
      "49/49 [==============================] - 1s - loss: -0.0037 - dice_coef: 0.0037 - val_loss: -1.7958e-04 - val_dice_coef: 1.7958e-04\n",
      "Train on 49 samples, validate on 6 samples\n",
      "Epoch 1/1\n",
      "49/49 [==============================] - 1s - loss: -0.0028 - dice_coef: 0.0028 - val_loss: -1.7958e-04 - val_dice_coef: 1.7958e-04\n",
      "Train on 49 samples, validate on 6 samples\n",
      "Epoch 1/1\n",
      "49/49 [==============================] - 1s - loss: -0.0035 - dice_coef: 0.0035 - val_loss: -1.7958e-04 - val_dice_coef: 1.7958e-04\n",
      "Train on 49 samples, validate on 6 samples\n",
      "Epoch 1/1\n",
      "49/49 [==============================] - 1s - loss: -0.0034 - dice_coef: 0.0034 - val_loss: -1.7958e-04 - val_dice_coef: 1.7958e-04\n",
      "round-- 22\n",
      "Train on 49 samples, validate on 6 samples\n",
      "Epoch 1/1\n",
      "49/49 [==============================] - 0s - loss: -0.0017 - dice_coef: 0.0017 - val_loss: -4.6123e-05 - val_dice_coef: 4.6123e-05\n",
      "Train on 49 samples, validate on 6 samples\n",
      "Epoch 1/1\n",
      "49/49 [==============================] - 0s - loss: -0.0028 - dice_coef: 0.0028 - val_loss: -4.6123e-05 - val_dice_coef: 4.6123e-05\n",
      "Train on 49 samples, validate on 6 samples\n",
      "Epoch 1/1\n",
      "49/49 [==============================] - 0s - loss: -0.0028 - dice_coef: 0.0028 - val_loss: -4.6123e-05 - val_dice_coef: 4.6123e-05\n",
      "Train on 49 samples, validate on 6 samples\n",
      "Epoch 1/1\n",
      "49/49 [==============================] - 0s - loss: -0.0030 - dice_coef: 0.0030 - val_loss: -4.6123e-05 - val_dice_coef: 4.6123e-05\n",
      "Train on 49 samples, validate on 6 samples\n",
      "Epoch 1/1\n",
      "49/49 [==============================] - 0s - loss: -0.0033 - dice_coef: 0.0033 - val_loss: -4.6123e-05 - val_dice_coef: 4.6123e-05\n",
      "round-- 22\n",
      "Train on 49 samples, validate on 6 samples\n",
      "Epoch 1/1\n",
      "49/49 [==============================] - 0s - loss: -0.0016 - dice_coef: 0.0016 - val_loss: -2.3736e-05 - val_dice_coef: 2.3736e-05\n",
      "Train on 49 samples, validate on 6 samples\n",
      "Epoch 1/1\n",
      "49/49 [==============================] - 0s - loss: -0.0025 - dice_coef: 0.0025 - val_loss: -2.3736e-05 - val_dice_coef: 2.3736e-05\n",
      "Train on 49 samples, validate on 6 samples\n",
      "Epoch 1/1\n",
      "49/49 [==============================] - 0s - loss: -0.0025 - dice_coef: 0.0025 - val_loss: -2.3736e-05 - val_dice_coef: 2.3736e-05\n",
      "Train on 49 samples, validate on 6 samples\n",
      "Epoch 1/1\n",
      "49/49 [==============================] - 0s - loss: -0.0030 - dice_coef: 0.0030 - val_loss: -2.3736e-05 - val_dice_coef: 2.3736e-05\n",
      "Train on 49 samples, validate on 6 samples\n",
      "Epoch 1/1\n",
      "49/49 [==============================] - 0s - loss: -0.0035 - dice_coef: 0.0035 - val_loss: -2.3736e-05 - val_dice_coef: 2.3736e-05\n",
      "round-- 23\n",
      "Train on 49 samples, validate on 6 samples\n",
      "Epoch 1/1\n",
      "49/49 [==============================] - 1s - loss: -0.0027 - dice_coef: 0.0027 - val_loss: -1.7959e-04 - val_dice_coef: 1.7959e-04\n",
      "Train on 49 samples, validate on 6 samples\n",
      "Epoch 1/1\n",
      "49/49 [==============================] - 1s - loss: -0.0037 - dice_coef: 0.0037 - val_loss: -1.7959e-04 - val_dice_coef: 1.7959e-04\n",
      "Train on 49 samples, validate on 6 samples\n",
      "Epoch 1/1\n",
      "49/49 [==============================] - 1s - loss: -0.0028 - dice_coef: 0.0028 - val_loss: -1.7959e-04 - val_dice_coef: 1.7959e-04\n",
      "Train on 49 samples, validate on 6 samples\n",
      "Epoch 1/1\n",
      "49/49 [==============================] - 1s - loss: -0.0035 - dice_coef: 0.0035 - val_loss: -1.7955e-04 - val_dice_coef: 1.7955e-04\n",
      "Train on 49 samples, validate on 6 samples\n",
      "Epoch 1/1\n",
      "49/49 [==============================] - 1s - loss: -0.0034 - dice_coef: 0.0034 - val_loss: -1.7954e-04 - val_dice_coef: 1.7954e-04\n",
      "round-- 23\n",
      "Train on 49 samples, validate on 6 samples\n",
      "Epoch 1/1\n",
      "49/49 [==============================] - 0s - loss: -0.0018 - dice_coef: 0.0018 - val_loss: -4.6117e-05 - val_dice_coef: 4.6117e-05\n",
      "Train on 49 samples, validate on 6 samples\n",
      "Epoch 1/1\n",
      "49/49 [==============================] - 0s - loss: -0.0028 - dice_coef: 0.0028 - val_loss: -4.6117e-05 - val_dice_coef: 4.6117e-05\n",
      "Train on 49 samples, validate on 6 samples\n",
      "Epoch 1/1\n",
      "49/49 [==============================] - 0s - loss: -0.0027 - dice_coef: 0.0027 - val_loss: -4.6110e-05 - val_dice_coef: 4.6110e-05\n",
      "Train on 49 samples, validate on 6 samples\n",
      "Epoch 1/1\n",
      "49/49 [==============================] - 0s - loss: -0.0029 - dice_coef: 0.0029 - val_loss: -4.6098e-05 - val_dice_coef: 4.6098e-05\n",
      "Train on 49 samples, validate on 6 samples\n",
      "Epoch 1/1\n",
      "49/49 [==============================] - 0s - loss: -0.0031 - dice_coef: 0.0031 - val_loss: -4.5880e-05 - val_dice_coef: 4.5880e-05\n",
      "round-- 23\n",
      "Train on 49 samples, validate on 6 samples\n",
      "Epoch 1/1\n",
      "49/49 [==============================] - 0s - loss: -0.0020 - dice_coef: 0.0020 - val_loss: -2.3609e-05 - val_dice_coef: 2.3609e-05\n",
      "Train on 49 samples, validate on 6 samples\n",
      "Epoch 1/1\n",
      "49/49 [==============================] - 0s - loss: -0.0027 - dice_coef: 0.0027 - val_loss: -2.3608e-05 - val_dice_coef: 2.3608e-05\n",
      "Train on 49 samples, validate on 6 samples\n",
      "Epoch 1/1\n",
      "49/49 [==============================] - 0s - loss: -0.0027 - dice_coef: 0.0027 - val_loss: -2.3606e-05 - val_dice_coef: 2.3606e-05\n",
      "Train on 49 samples, validate on 6 samples\n",
      "Epoch 1/1\n"
     ]
    },
    {
     "name": "stdout",
     "output_type": "stream",
     "text": [
      "49/49 [==============================] - 0s - loss: -0.0039 - dice_coef: 0.0039 - val_loss: -2.3606e-05 - val_dice_coef: 2.3606e-05\n",
      "Train on 49 samples, validate on 6 samples\n",
      "Epoch 1/1\n",
      "49/49 [==============================] - 0s - loss: -0.0036 - dice_coef: 0.0036 - val_loss: -2.3606e-05 - val_dice_coef: 2.3606e-05\n",
      "round-- 24\n",
      "Train on 49 samples, validate on 6 samples\n",
      "Epoch 1/1\n",
      "49/49 [==============================] - 1s - loss: -0.0031 - dice_coef: 0.0031 - val_loss: -1.7789e-04 - val_dice_coef: 1.7789e-04\n",
      "Train on 49 samples, validate on 6 samples\n",
      "Epoch 1/1\n",
      "49/49 [==============================] - 1s - loss: -0.0039 - dice_coef: 0.0039 - val_loss: -1.7793e-04 - val_dice_coef: 1.7793e-04\n",
      "Train on 49 samples, validate on 6 samples\n",
      "Epoch 1/1\n",
      "49/49 [==============================] - 1s - loss: -0.0032 - dice_coef: 0.0032 - val_loss: -1.7789e-04 - val_dice_coef: 1.7789e-04\n",
      "Train on 49 samples, validate on 6 samples\n",
      "Epoch 1/1\n",
      "49/49 [==============================] - 1s - loss: -0.0044 - dice_coef: 0.0044 - val_loss: -1.7788e-04 - val_dice_coef: 1.7788e-04\n",
      "Train on 49 samples, validate on 6 samples\n",
      "Epoch 1/1\n",
      "49/49 [==============================] - 1s - loss: -0.0037 - dice_coef: 0.0037 - val_loss: -1.7619e-04 - val_dice_coef: 1.7619e-04\n",
      "round-- 24\n",
      "Train on 49 samples, validate on 6 samples\n",
      "Epoch 1/1\n",
      "49/49 [==============================] - 0s - loss: -0.0029 - dice_coef: 0.0029 - val_loss: -4.5608e-05 - val_dice_coef: 4.5608e-05\n",
      "Train on 49 samples, validate on 6 samples\n",
      "Epoch 1/1\n",
      "49/49 [==============================] - 0s - loss: -0.0029 - dice_coef: 0.0029 - val_loss: -4.5608e-05 - val_dice_coef: 4.5608e-05\n",
      "Train on 49 samples, validate on 6 samples\n",
      "Epoch 1/1\n",
      "49/49 [==============================] - 0s - loss: -0.0036 - dice_coef: 0.0036 - val_loss: -4.5608e-05 - val_dice_coef: 4.5608e-05\n",
      "Train on 49 samples, validate on 6 samples\n",
      "Epoch 1/1\n",
      "49/49 [==============================] - 0s - loss: -0.0043 - dice_coef: 0.0043 - val_loss: -4.5608e-05 - val_dice_coef: 4.5608e-05\n",
      "Train on 49 samples, validate on 6 samples\n",
      "Epoch 1/1\n",
      "49/49 [==============================] - 0s - loss: -0.0034 - dice_coef: 0.0034 - val_loss: -4.5608e-05 - val_dice_coef: 4.5608e-05\n",
      "round-- 24\n",
      "Train on 49 samples, validate on 6 samples\n",
      "Epoch 1/1\n",
      "49/49 [==============================] - 0s - loss: -0.0028 - dice_coef: 0.0028 - val_loss: -2.3472e-05 - val_dice_coef: 2.3472e-05\n",
      "Train on 49 samples, validate on 6 samples\n",
      "Epoch 1/1\n",
      "49/49 [==============================] - 0s - loss: -0.0030 - dice_coef: 0.0030 - val_loss: -2.3472e-05 - val_dice_coef: 2.3472e-05\n",
      "Train on 49 samples, validate on 6 samples\n",
      "Epoch 1/1\n",
      "49/49 [==============================] - 0s - loss: -0.0034 - dice_coef: 0.0034 - val_loss: -2.3472e-05 - val_dice_coef: 2.3472e-05\n",
      "Train on 49 samples, validate on 6 samples\n",
      "Epoch 1/1\n",
      "49/49 [==============================] - 0s - loss: -0.0042 - dice_coef: 0.0042 - val_loss: -2.3472e-05 - val_dice_coef: 2.3472e-05\n",
      "Train on 49 samples, validate on 6 samples\n",
      "Epoch 1/1\n",
      "49/49 [==============================] - 0s - loss: -0.0038 - dice_coef: 0.0038 - val_loss: -2.3472e-05 - val_dice_coef: 2.3472e-05\n",
      "round-- 25\n",
      "Train on 49 samples, validate on 6 samples\n",
      "Epoch 1/1\n",
      "49/49 [==============================] - 1s - loss: -0.0036 - dice_coef: 0.0036 - val_loss: -1.7615e-04 - val_dice_coef: 1.7615e-04\n",
      "Train on 49 samples, validate on 6 samples\n",
      "Epoch 1/1\n",
      "49/49 [==============================] - 1s - loss: -0.0041 - dice_coef: 0.0041 - val_loss: -1.7615e-04 - val_dice_coef: 1.7615e-04\n",
      "Train on 49 samples, validate on 6 samples\n",
      "Epoch 1/1\n",
      "49/49 [==============================] - 1s - loss: -0.0035 - dice_coef: 0.0035 - val_loss: -1.7615e-04 - val_dice_coef: 1.7615e-04\n",
      "Train on 49 samples, validate on 6 samples\n",
      "Epoch 1/1\n",
      "49/49 [==============================] - 1s - loss: -0.0052 - dice_coef: 0.0052 - val_loss: -1.7615e-04 - val_dice_coef: 1.7615e-04\n",
      "Train on 49 samples, validate on 6 samples\n",
      "Epoch 1/1\n",
      "49/49 [==============================] - 1s - loss: -0.0040 - dice_coef: 0.0040 - val_loss: -1.7615e-04 - val_dice_coef: 1.7615e-04\n",
      "round-- 25\n",
      "Train on 49 samples, validate on 6 samples\n",
      "Epoch 1/1\n",
      "49/49 [==============================] - 0s - loss: -0.0024 - dice_coef: 0.0024 - val_loss: -4.5602e-05 - val_dice_coef: 4.5602e-05\n",
      "Train on 49 samples, validate on 6 samples\n",
      "Epoch 1/1\n",
      "49/49 [==============================] - 0s - loss: -0.0032 - dice_coef: 0.0032 - val_loss: -4.5602e-05 - val_dice_coef: 4.5602e-05\n",
      "Train on 49 samples, validate on 6 samples\n",
      "Epoch 1/1\n",
      "49/49 [==============================] - 0s - loss: -0.0034 - dice_coef: 0.0034 - val_loss: -4.5602e-05 - val_dice_coef: 4.5602e-05\n",
      "Train on 49 samples, validate on 6 samples\n",
      "Epoch 1/1\n",
      "28/49 [================>.............] - ETA: 0s - loss: -0.0031 - dice_coef: 0.0031"
     ]
    }
   ],
   "source": [
    "\n",
    "for i in range (100):\n",
    "    for j in range (3):\n",
    "        batch=4**j\n",
    "        print (\"round--\" , i )\n",
    "        model.fit (train1,mask1 , batch_size=batch , epochs=1, shuffle=True , validation_data= (val1,valmask))\n",
    "        model.fit (train2,mask2 , batch_size=batch , epochs=1, shuffle=True , validation_data= (val1,valmask))\n",
    "        model.fit (train3,mask3 , batch_size=batch , epochs=1, shuffle=True , validation_data= (val1,valmask))\n",
    "        model.fit (train4,mask4 , batch_size=batch , epochs=1, shuffle=True , validation_data= (val1,valmask))\n",
    "        model.fit (train5,mask5 , batch_size=batch , epochs=1, shuffle=True , validation_data= (val1,valmask))"
   ]
  },
  {
   "cell_type": "code",
   "execution_count": null,
   "metadata": {},
   "outputs": [],
   "source": [
    "\n",
    "for i in range (20):\n",
    "    print (\"round--\" , i )\n",
    "    model.fit (train1,mask1 , batch_size=25 , epochs=1, shuffle=True , validation_data= (val1,valmask))\n",
    "    model.fit (train2,mask2 , batch_size=25 , epochs=1, shuffle=True , validation_data= (val1,valmask))\n",
    "    model.fit (train3,mask3 , batch_size=25 , epochs=1, shuffle=True , validation_data= (val1,valmask))\n",
    "    model.fit (train4,mask4 , batch_size=25 , epochs=1, shuffle=True , validation_data= (val1,valmask))\n",
    "    model.fit (train5,mask5 , batch_size=25 , epochs=1, shuffle=True , validation_data= (val1,valmask))"
   ]
  },
  {
   "cell_type": "code",
   "execution_count": null,
   "metadata": {
    "collapsed": true
   },
   "outputs": [],
   "source": [
    "model.optimizer.lr=0.0001\n",
    "for i in range (100):\n",
    "    print (\"round--\" , i )\n",
    "    model.fit (train1,mask1 , batch_size=5 , epochs=1, shuffle=True , validation_data= (val1,valmask))\n",
    "    model.fit (train2,mask2 , batch_size=5 , epochs=1, shuffle=True , validation_data= (val1,valmask))\n",
    "    model.fit (train3,mask3 , batch_size=5 , epochs=1, shuffle=True , validation_data= (val1,valmask))\n",
    "    model.fit (train4,mask4 , batch_size=5 , epochs=1, shuffle=True , validation_data= (val1,valmask))\n",
    "    model.fit (train5,mask5 , batch_size=5 , epochs=1, shuffle=True , validation_data= (val1,valmask))"
   ]
  },
  {
   "cell_type": "code",
   "execution_count": null,
   "metadata": {},
   "outputs": [],
   "source": [
    "model.optimizer.lr=0.1\n",
    "for i in range (100):\n",
    "    model.fit (train1,mask1 , batch_size=1 , epochs=1, shuffle=True , validation_data= (val1,valmask))\n",
    "    model.fit (train2,mask2 , batch_size=1 , epochs=1, shuffle=True , validation_data= (val1,valmask))\n",
    "    model.fit (train3,mask3 , batch_size=1 , epochs=1, shuffle=True , validation_data= (val1,valmask))\n",
    "    model.fit (train4,mask4 , batch_size=1 , epochs=1, shuffle=True , validation_data= (val1,valmask))\n",
    "    model.fit (train5,mask5 , batch_size=1 , epochs=1, shuffle=True , validation_data= (val1,valmask))"
   ]
  },
  {
   "cell_type": "code",
   "execution_count": null,
   "metadata": {},
   "outputs": [],
   "source": [
    "model.fit (train1,mask1 , batch_size=5 , epochs=1, shuffle=True , validation_data= (val1,valmask))\n",
    "model.fit (train5,mask5 , batch_size=5 , epochs=1, shuffle=True , validation_data= (val1,valmask))\n",
    "model.fit (train2,mask2 , batch_size=5 , epochs=1, shuffle=True , validation_data= (val1,valmask))\n",
    "model.fit (train3,mask3 , batch_size=5 , epochs=1, shuffle=True , validation_data= (val1,valmask))\n",
    "model.fit (train4,mask4 , batch_size=5 , epochs=1, shuffle=True , validation_data= (val1,valmask))\n"
   ]
  },
  {
   "cell_type": "code",
   "execution_count": null,
   "metadata": {
    "collapsed": true
   },
   "outputs": [],
   "source": [
    "model.save_weights ('unetsig25_1.h5')"
   ]
  },
  {
   "cell_type": "code",
   "execution_count": null,
   "metadata": {},
   "outputs": [],
   "source": [
    "test= valgen.flow_from_directory('test/images', target_size=(160,320),\n",
    "                class_mode=None, batch_size=1, seed=1)"
   ]
  },
  {
   "cell_type": "code",
   "execution_count": null,
   "metadata": {
    "collapsed": true
   },
   "outputs": [],
   "source": [
    "file=test.filenames"
   ]
  },
  {
   "cell_type": "code",
   "execution_count": null,
   "metadata": {
    "collapsed": true
   },
   "outputs": [],
   "source": [
    "pre=model.predict_generator (test,3)"
   ]
  },
  {
   "cell_type": "code",
   "execution_count": null,
   "metadata": {},
   "outputs": [],
   "source": [
    "pre.shape"
   ]
  },
  {
   "cell_type": "code",
   "execution_count": null,
   "metadata": {
    "collapsed": true
   },
   "outputs": [],
   "source": [
    "img=2"
   ]
  },
  {
   "cell_type": "code",
   "execution_count": null,
   "metadata": {},
   "outputs": [],
   "source": [
    "image.array_to_img (pre[img])"
   ]
  },
  {
   "cell_type": "code",
   "execution_count": null,
   "metadata": {
    "collapsed": true
   },
   "outputs": [],
   "source": [
    "show=pre[img]"
   ]
  },
  {
   "cell_type": "code",
   "execution_count": null,
   "metadata": {
    "collapsed": true
   },
   "outputs": [],
   "source": [
    "show=np.swapaxes(show,1,2)\n",
    "show=np.swapaxes(show,0,1)"
   ]
  },
  {
   "cell_type": "code",
   "execution_count": null,
   "metadata": {},
   "outputs": [],
   "source": [
    "show.shape"
   ]
  },
  {
   "cell_type": "code",
   "execution_count": null,
   "metadata": {},
   "outputs": [],
   "source": [
    "image.load_img ('test/images/'+file[img])"
   ]
  },
  {
   "cell_type": "code",
   "execution_count": null,
   "metadata": {},
   "outputs": [],
   "source": [
    "plt.imshow(show[0], cmap='gray')"
   ]
  },
  {
   "cell_type": "code",
   "execution_count": null,
   "metadata": {},
   "outputs": [],
   "source": [
    "test = valgen.flow_from_directory('test/images', target_size=(160,320),\n",
    "                class_mode=None, shuffle=False, batch_size=1  )\n",
    "\n",
    "\n",
    "import numpy as np\n",
    "test1=np.concatenate([test.next() for i in range(test.samples)])"
   ]
  },
  {
   "cell_type": "code",
   "execution_count": null,
   "metadata": {
    "collapsed": true
   },
   "outputs": [],
   "source": [
    "x=test1[img]"
   ]
  },
  {
   "cell_type": "code",
   "execution_count": null,
   "metadata": {
    "collapsed": true
   },
   "outputs": [],
   "source": [
    "x=np.swapaxes(x,1,2)\n",
    "x=np.swapaxes(x,0,1)"
   ]
  },
  {
   "cell_type": "code",
   "execution_count": null,
   "metadata": {},
   "outputs": [],
   "source": [
    "\n",
    "plt.figure(figsize=(15,15))\n",
    "plt.imshow(x[img] ,cmap=\"gray\", alpha=1)\n",
    "plt.imshow(pre[img], cmap=\"cool\", alpha=0.5)"
   ]
  },
  {
   "cell_type": "code",
   "execution_count": null,
   "metadata": {
    "collapsed": true
   },
   "outputs": [],
   "source": []
  },
  {
   "cell_type": "code",
   "execution_count": null,
   "metadata": {
    "collapsed": true
   },
   "outputs": [],
   "source": []
  }
 ],
 "metadata": {
  "kernelspec": {
   "display_name": "Python 3",
   "language": "python",
   "name": "python3"
  },
  "language_info": {
   "codemirror_mode": {
    "name": "ipython",
    "version": 3
   },
   "file_extension": ".py",
   "mimetype": "text/x-python",
   "name": "python",
   "nbconvert_exporter": "python",
   "pygments_lexer": "ipython3",
   "version": "3.6.1"
  }
 },
 "nbformat": 4,
 "nbformat_minor": 2
}
